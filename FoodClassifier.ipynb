{
 "cells": [
  {
   "cell_type": "markdown",
   "id": "979e7fe4",
   "metadata": {},
   "source": [
    "# Food Image Classification"
   ]
  },
  {
   "cell_type": "code",
   "execution_count": 1,
   "id": "55fba9ad",
   "metadata": {},
   "outputs": [],
   "source": [
    "from ultralytics import YOLO"
   ]
  },
  {
   "cell_type": "code",
   "execution_count": 2,
   "id": "7813bfbb",
   "metadata": {},
   "outputs": [
    {
     "name": "stdout",
     "output_type": "stream",
     "text": [
      "Ultralytics YOLOv8.2.11  Python-3.11.7 torch-2.3.0+cu121 CUDA:0 (NVIDIA GeForce RTX 3060 Ti, 8191MiB)\n",
      "\u001b[34m\u001b[1mengine\\trainer: \u001b[0mtask=detect, mode=train, model=yolov8n.pt, data=data/food_ingredients/data.yaml, epochs=50, time=None, patience=100, batch=16, imgsz=640, save=True, save_period=-1, cache=False, device=None, workers=8, project=None, name=yolo8-test4, exist_ok=False, pretrained=True, optimizer=auto, verbose=True, seed=0, deterministic=True, single_cls=False, rect=False, cos_lr=False, close_mosaic=10, resume=False, amp=True, fraction=1.0, profile=False, freeze=None, multi_scale=False, overlap_mask=True, mask_ratio=4, dropout=0.0, val=True, split=val, save_json=False, save_hybrid=False, conf=None, iou=0.7, max_det=300, half=False, dnn=False, plots=True, source=None, vid_stride=1, stream_buffer=False, visualize=False, augment=False, agnostic_nms=False, classes=None, retina_masks=False, embed=None, show=False, save_frames=False, save_txt=False, save_conf=False, save_crop=False, show_labels=True, show_conf=True, show_boxes=True, line_width=None, format=torchscript, keras=False, optimize=False, int8=False, dynamic=False, simplify=False, opset=None, workspace=4, nms=False, lr0=0.01, lrf=0.01, momentum=0.937, weight_decay=0.0005, warmup_epochs=3.0, warmup_momentum=0.8, warmup_bias_lr=0.1, box=7.5, cls=0.5, dfl=1.5, pose=12.0, kobj=1.0, label_smoothing=0.0, nbs=64, hsv_h=0.015, hsv_s=0.7, hsv_v=0.4, degrees=0.0, translate=0.1, scale=0.5, shear=0.0, perspective=0.0, flipud=0.0, fliplr=0.5, bgr=0.0, mosaic=1.0, mixup=0.0, copy_paste=0.0, auto_augment=randaugment, erasing=0.4, crop_fraction=1.0, cfg=None, tracker=botsort.yaml, save_dir=runs\\detect\\yolo8-test4\n",
      "Overriding model.yaml nc=80 with nc=30\n",
      "\n",
      "                   from  n    params  module                                       arguments                     \n",
      "  0                  -1  1       464  ultralytics.nn.modules.conv.Conv             [3, 16, 3, 2]                 \n",
      "  1                  -1  1      4672  ultralytics.nn.modules.conv.Conv             [16, 32, 3, 2]                \n",
      "  2                  -1  1      7360  ultralytics.nn.modules.block.C2f             [32, 32, 1, True]             \n",
      "  3                  -1  1     18560  ultralytics.nn.modules.conv.Conv             [32, 64, 3, 2]                \n",
      "  4                  -1  2     49664  ultralytics.nn.modules.block.C2f             [64, 64, 2, True]             \n",
      "  5                  -1  1     73984  ultralytics.nn.modules.conv.Conv             [64, 128, 3, 2]               \n",
      "  6                  -1  2    197632  ultralytics.nn.modules.block.C2f             [128, 128, 2, True]           \n",
      "  7                  -1  1    295424  ultralytics.nn.modules.conv.Conv             [128, 256, 3, 2]              \n",
      "  8                  -1  1    460288  ultralytics.nn.modules.block.C2f             [256, 256, 1, True]           \n",
      "  9                  -1  1    164608  ultralytics.nn.modules.block.SPPF            [256, 256, 5]                 \n",
      " 10                  -1  1         0  torch.nn.modules.upsampling.Upsample         [None, 2, 'nearest']          \n",
      " 11             [-1, 6]  1         0  ultralytics.nn.modules.conv.Concat           [1]                           \n",
      " 12                  -1  1    148224  ultralytics.nn.modules.block.C2f             [384, 128, 1]                 \n",
      " 13                  -1  1         0  torch.nn.modules.upsampling.Upsample         [None, 2, 'nearest']          \n",
      " 14             [-1, 4]  1         0  ultralytics.nn.modules.conv.Concat           [1]                           \n",
      " 15                  -1  1     37248  ultralytics.nn.modules.block.C2f             [192, 64, 1]                  \n",
      " 16                  -1  1     36992  ultralytics.nn.modules.conv.Conv             [64, 64, 3, 2]                \n",
      " 17            [-1, 12]  1         0  ultralytics.nn.modules.conv.Concat           [1]                           \n",
      " 18                  -1  1    123648  ultralytics.nn.modules.block.C2f             [192, 128, 1]                 \n",
      " 19                  -1  1    147712  ultralytics.nn.modules.conv.Conv             [128, 128, 3, 2]              \n",
      " 20             [-1, 9]  1         0  ultralytics.nn.modules.conv.Concat           [1]                           \n",
      " 21                  -1  1    493056  ultralytics.nn.modules.block.C2f             [384, 256, 1]                 \n",
      " 22        [15, 18, 21]  1    757162  ultralytics.nn.modules.head.Detect           [30, [64, 128, 256]]          \n",
      "Model summary: 225 layers, 3016698 parameters, 3016682 gradients, 8.2 GFLOPs\n",
      "\n",
      "Transferred 319/355 items from pretrained weights\n",
      "Freezing layer 'model.22.dfl.conv.weight'\n",
      "\u001b[34m\u001b[1mAMP: \u001b[0mrunning Automatic Mixed Precision (AMP) checks with YOLOv8n...\n",
      "\u001b[34m\u001b[1mAMP: \u001b[0mchecks passed \n"
     ]
    },
    {
     "name": "stderr",
     "output_type": "stream",
     "text": [
      "\u001b[34m\u001b[1mtrain: \u001b[0mScanning C:\\Users\\Arya Rahmanian\\Documents\\foodDetection\\data\\food_ingredients\\test\\labels... 4189 images, 3 backgrounds, 0 corrupt: 100%|██████████| 4189/4189 [00:06<00:00, 667.87it/s]\n"
     ]
    },
    {
     "name": "stdout",
     "output_type": "stream",
     "text": [
      "\u001b[34m\u001b[1mtrain: \u001b[0mNew cache created: C:\\Users\\Arya Rahmanian\\Documents\\foodDetection\\data\\food_ingredients\\test\\labels.cache\n",
      "WARNING  Box and segment counts should be equal, but got len(segments) = 2163, len(boxes) = 11173. To resolve this only boxes will be used and all segments will be removed. To avoid this please supply either a detect or segment dataset, not a detect-segment mixed dataset.\n"
     ]
    },
    {
     "name": "stderr",
     "output_type": "stream",
     "text": [
      "\u001b[34m\u001b[1mval: \u001b[0mScanning C:\\Users\\Arya Rahmanian\\Documents\\foodDetection\\data\\food_ingredients\\test\\labels.cache... 4189 images, 3 backgrounds, 0 corrupt: 100%|██████████| 4189/4189 [00:00<?, ?it/s]"
     ]
    },
    {
     "name": "stdout",
     "output_type": "stream",
     "text": [
      "WARNING  Box and segment counts should be equal, but got len(segments) = 2163, len(boxes) = 11173. To resolve this only boxes will be used and all segments will be removed. To avoid this please supply either a detect or segment dataset, not a detect-segment mixed dataset.\n"
     ]
    },
    {
     "name": "stderr",
     "output_type": "stream",
     "text": [
      "\n"
     ]
    },
    {
     "name": "stdout",
     "output_type": "stream",
     "text": [
      "Plotting labels to runs\\detect\\yolo8-test4\\labels.jpg... \n",
      "\u001b[34m\u001b[1moptimizer:\u001b[0m 'optimizer=auto' found, ignoring 'lr0=0.01' and 'momentum=0.937' and determining best 'optimizer', 'lr0' and 'momentum' automatically... \n",
      "\u001b[34m\u001b[1moptimizer:\u001b[0m AdamW(lr=0.000294, momentum=0.9) with parameter groups 57 weight(decay=0.0), 64 weight(decay=0.0005), 63 bias(decay=0.0)\n",
      "Image sizes 640 train, 640 val\n",
      "Using 8 dataloader workers\n",
      "Logging results to \u001b[1mruns\\detect\\yolo8-test4\u001b[0m\n",
      "Starting training for 50 epochs...\n",
      "\n",
      "      Epoch    GPU_mem   box_loss   cls_loss   dfl_loss  Instances       Size\n"
     ]
    },
    {
     "name": "stderr",
     "output_type": "stream",
     "text": [
      "       1/50      2.45G      1.323      4.106      1.657         63        640: 100%|██████████| 262/262 [00:38<00:00,  6.86it/s]\n",
      "                 Class     Images  Instances      Box(P          R      mAP50  mAP50-95): 100%|██████████| 131/131 [00:24<00:00,  5.41it/s]\n"
     ]
    },
    {
     "name": "stdout",
     "output_type": "stream",
     "text": [
      "                   all       4189      11173      0.331      0.144      0.101     0.0593\n",
      "\n",
      "      Epoch    GPU_mem   box_loss   cls_loss   dfl_loss  Instances       Size\n"
     ]
    },
    {
     "name": "stderr",
     "output_type": "stream",
     "text": [
      "       2/50      2.42G      1.361      3.298      1.676         71        640: 100%|██████████| 262/262 [00:31<00:00,  8.19it/s]\n",
      "                 Class     Images  Instances      Box(P          R      mAP50  mAP50-95): 100%|██████████| 131/131 [00:22<00:00,  5.74it/s]\n"
     ]
    },
    {
     "name": "stdout",
     "output_type": "stream",
     "text": [
      "                   all       4189      11173      0.327      0.338      0.271      0.152\n",
      "\n",
      "      Epoch    GPU_mem   box_loss   cls_loss   dfl_loss  Instances       Size\n"
     ]
    },
    {
     "name": "stderr",
     "output_type": "stream",
     "text": [
      "       3/50      2.41G      1.372      2.784      1.684         85        640: 100%|██████████| 262/262 [00:31<00:00,  8.41it/s]\n",
      "                 Class     Images  Instances      Box(P          R      mAP50  mAP50-95): 100%|██████████| 131/131 [00:22<00:00,  5.72it/s]\n"
     ]
    },
    {
     "name": "stdout",
     "output_type": "stream",
     "text": [
      "                   all       4189      11173      0.387      0.417      0.356      0.212\n",
      "\n",
      "      Epoch    GPU_mem   box_loss   cls_loss   dfl_loss  Instances       Size\n"
     ]
    },
    {
     "name": "stderr",
     "output_type": "stream",
     "text": [
      "       4/50      2.49G      1.342       2.54      1.654         64        640: 100%|██████████| 262/262 [00:30<00:00,  8.50it/s]\n",
      "                 Class     Images  Instances      Box(P          R      mAP50  mAP50-95): 100%|██████████| 131/131 [00:23<00:00,  5.65it/s]\n"
     ]
    },
    {
     "name": "stdout",
     "output_type": "stream",
     "text": [
      "                   all       4189      11173      0.467      0.442      0.423      0.252\n",
      "\n",
      "      Epoch    GPU_mem   box_loss   cls_loss   dfl_loss  Instances       Size\n"
     ]
    },
    {
     "name": "stderr",
     "output_type": "stream",
     "text": [
      "       5/50      2.45G      1.315      2.355      1.619         64        640: 100%|██████████| 262/262 [00:30<00:00,  8.58it/s]\n",
      "                 Class     Images  Instances      Box(P          R      mAP50  mAP50-95): 100%|██████████| 131/131 [00:22<00:00,  5.81it/s]\n"
     ]
    },
    {
     "name": "stdout",
     "output_type": "stream",
     "text": [
      "                   all       4189      11173      0.522      0.513      0.495      0.298\n",
      "\n",
      "      Epoch    GPU_mem   box_loss   cls_loss   dfl_loss  Instances       Size\n"
     ]
    },
    {
     "name": "stderr",
     "output_type": "stream",
     "text": [
      "       6/50       2.6G      1.302      2.225      1.606         83        640: 100%|██████████| 262/262 [00:30<00:00,  8.57it/s]\n",
      "                 Class     Images  Instances      Box(P          R      mAP50  mAP50-95): 100%|██████████| 131/131 [00:22<00:00,  5.84it/s]\n"
     ]
    },
    {
     "name": "stdout",
     "output_type": "stream",
     "text": [
      "                   all       4189      11173      0.557      0.533      0.536      0.329\n",
      "\n",
      "      Epoch    GPU_mem   box_loss   cls_loss   dfl_loss  Instances       Size\n"
     ]
    },
    {
     "name": "stderr",
     "output_type": "stream",
     "text": [
      "       7/50       2.5G       1.28      2.119      1.581         64        640: 100%|██████████| 262/262 [00:30<00:00,  8.52it/s]\n",
      "                 Class     Images  Instances      Box(P          R      mAP50  mAP50-95): 100%|██████████| 131/131 [00:22<00:00,  5.80it/s]\n"
     ]
    },
    {
     "name": "stdout",
     "output_type": "stream",
     "text": [
      "                   all       4189      11173      0.582      0.561      0.577      0.365\n",
      "\n",
      "      Epoch    GPU_mem   box_loss   cls_loss   dfl_loss  Instances       Size\n"
     ]
    },
    {
     "name": "stderr",
     "output_type": "stream",
     "text": [
      "       8/50      2.44G      1.264      2.012      1.568         56        640: 100%|██████████| 262/262 [00:30<00:00,  8.55it/s]\n",
      "                 Class     Images  Instances      Box(P          R      mAP50  mAP50-95): 100%|██████████| 131/131 [00:22<00:00,  5.78it/s]\n"
     ]
    },
    {
     "name": "stdout",
     "output_type": "stream",
     "text": [
      "                   all       4189      11173      0.615      0.595      0.618      0.391\n",
      "\n",
      "      Epoch    GPU_mem   box_loss   cls_loss   dfl_loss  Instances       Size\n"
     ]
    },
    {
     "name": "stderr",
     "output_type": "stream",
     "text": [
      "       9/50      2.48G       1.24      1.931      1.545         57        640: 100%|██████████| 262/262 [00:30<00:00,  8.53it/s]\n",
      "                 Class     Images  Instances      Box(P          R      mAP50  mAP50-95): 100%|██████████| 131/131 [00:22<00:00,  5.81it/s]\n"
     ]
    },
    {
     "name": "stdout",
     "output_type": "stream",
     "text": [
      "                   all       4189      11173      0.637      0.627      0.638      0.416\n",
      "\n",
      "      Epoch    GPU_mem   box_loss   cls_loss   dfl_loss  Instances       Size\n"
     ]
    },
    {
     "name": "stderr",
     "output_type": "stream",
     "text": [
      "      10/50      2.41G      1.231      1.851      1.531         60        640: 100%|██████████| 262/262 [00:30<00:00,  8.55it/s]\n",
      "                 Class     Images  Instances      Box(P          R      mAP50  mAP50-95): 100%|██████████| 131/131 [00:22<00:00,  5.89it/s]\n"
     ]
    },
    {
     "name": "stdout",
     "output_type": "stream",
     "text": [
      "                   all       4189      11173      0.668      0.657      0.674      0.442\n",
      "\n",
      "      Epoch    GPU_mem   box_loss   cls_loss   dfl_loss  Instances       Size\n"
     ]
    },
    {
     "name": "stderr",
     "output_type": "stream",
     "text": [
      "      11/50      2.44G      1.216      1.812      1.516         55        640: 100%|██████████| 262/262 [00:30<00:00,  8.51it/s]\n",
      "                 Class     Images  Instances      Box(P          R      mAP50  mAP50-95): 100%|██████████| 131/131 [00:22<00:00,  5.89it/s]\n"
     ]
    },
    {
     "name": "stdout",
     "output_type": "stream",
     "text": [
      "                   all       4189      11173      0.655      0.656      0.675      0.428\n",
      "\n",
      "      Epoch    GPU_mem   box_loss   cls_loss   dfl_loss  Instances       Size\n"
     ]
    },
    {
     "name": "stderr",
     "output_type": "stream",
     "text": [
      "      12/50      2.44G      1.223      1.761      1.518         75        640: 100%|██████████| 262/262 [00:30<00:00,  8.57it/s]\n",
      "                 Class     Images  Instances      Box(P          R      mAP50  mAP50-95): 100%|██████████| 131/131 [00:22<00:00,  5.80it/s]\n"
     ]
    },
    {
     "name": "stdout",
     "output_type": "stream",
     "text": [
      "                   all       4189      11173      0.683      0.659      0.687      0.449\n",
      "\n",
      "      Epoch    GPU_mem   box_loss   cls_loss   dfl_loss  Instances       Size\n"
     ]
    },
    {
     "name": "stderr",
     "output_type": "stream",
     "text": [
      "      13/50       2.5G      1.184      1.686      1.497         52        640: 100%|██████████| 262/262 [00:30<00:00,  8.68it/s]\n",
      "                 Class     Images  Instances      Box(P          R      mAP50  mAP50-95): 100%|██████████| 131/131 [00:20<00:00,  6.25it/s]\n"
     ]
    },
    {
     "name": "stdout",
     "output_type": "stream",
     "text": [
      "                   all       4189      11173      0.699      0.689      0.721      0.481\n",
      "\n",
      "      Epoch    GPU_mem   box_loss   cls_loss   dfl_loss  Instances       Size\n"
     ]
    },
    {
     "name": "stderr",
     "output_type": "stream",
     "text": [
      "      14/50      2.48G      1.182      1.653      1.488         76        640: 100%|██████████| 262/262 [00:27<00:00,  9.61it/s]\n",
      "                 Class     Images  Instances      Box(P          R      mAP50  mAP50-95): 100%|██████████| 131/131 [00:20<00:00,  6.31it/s]\n"
     ]
    },
    {
     "name": "stdout",
     "output_type": "stream",
     "text": [
      "                   all       4189      11173      0.706       0.71      0.731      0.489\n",
      "\n",
      "      Epoch    GPU_mem   box_loss   cls_loss   dfl_loss  Instances       Size\n"
     ]
    },
    {
     "name": "stderr",
     "output_type": "stream",
     "text": [
      "      15/50      2.43G      1.173      1.607      1.478         52        640: 100%|██████████| 262/262 [00:27<00:00,  9.58it/s]\n",
      "                 Class     Images  Instances      Box(P          R      mAP50  mAP50-95): 100%|██████████| 131/131 [00:20<00:00,  6.42it/s]\n"
     ]
    },
    {
     "name": "stdout",
     "output_type": "stream",
     "text": [
      "                   all       4189      11173      0.733      0.706      0.747       0.51\n",
      "\n",
      "      Epoch    GPU_mem   box_loss   cls_loss   dfl_loss  Instances       Size\n"
     ]
    },
    {
     "name": "stderr",
     "output_type": "stream",
     "text": [
      "      16/50      2.48G      1.159      1.571      1.467         75        640: 100%|██████████| 262/262 [00:29<00:00,  9.03it/s]\n",
      "                 Class     Images  Instances      Box(P          R      mAP50  mAP50-95): 100%|██████████| 131/131 [00:20<00:00,  6.35it/s]\n"
     ]
    },
    {
     "name": "stdout",
     "output_type": "stream",
     "text": [
      "                   all       4189      11173      0.717      0.719       0.75      0.508\n",
      "\n",
      "      Epoch    GPU_mem   box_loss   cls_loss   dfl_loss  Instances       Size\n"
     ]
    },
    {
     "name": "stderr",
     "output_type": "stream",
     "text": [
      "      17/50      2.44G      1.161      1.533      1.466         70        640: 100%|██████████| 262/262 [00:28<00:00,  9.27it/s]\n",
      "                 Class     Images  Instances      Box(P          R      mAP50  mAP50-95): 100%|██████████| 131/131 [00:20<00:00,  6.31it/s]\n"
     ]
    },
    {
     "name": "stdout",
     "output_type": "stream",
     "text": [
      "                   all       4189      11173      0.757      0.713      0.761      0.524\n",
      "\n",
      "      Epoch    GPU_mem   box_loss   cls_loss   dfl_loss  Instances       Size\n"
     ]
    },
    {
     "name": "stderr",
     "output_type": "stream",
     "text": [
      "      18/50      2.39G      1.145      1.501      1.456         74        640: 100%|██████████| 262/262 [00:27<00:00,  9.52it/s]\n",
      "                 Class     Images  Instances      Box(P          R      mAP50  mAP50-95): 100%|██████████| 131/131 [00:20<00:00,  6.31it/s]\n"
     ]
    },
    {
     "name": "stdout",
     "output_type": "stream",
     "text": [
      "                   all       4189      11173      0.722      0.738      0.762      0.521\n",
      "\n",
      "      Epoch    GPU_mem   box_loss   cls_loss   dfl_loss  Instances       Size\n"
     ]
    },
    {
     "name": "stderr",
     "output_type": "stream",
     "text": [
      "      19/50       2.4G      1.135      1.447      1.445         42        640: 100%|██████████| 262/262 [00:27<00:00,  9.53it/s]\n",
      "                 Class     Images  Instances      Box(P          R      mAP50  mAP50-95): 100%|██████████| 131/131 [00:20<00:00,  6.45it/s]\n"
     ]
    },
    {
     "name": "stdout",
     "output_type": "stream",
     "text": [
      "                   all       4189      11173      0.766      0.748      0.792      0.534\n",
      "\n",
      "      Epoch    GPU_mem   box_loss   cls_loss   dfl_loss  Instances       Size\n"
     ]
    },
    {
     "name": "stderr",
     "output_type": "stream",
     "text": [
      "      20/50      2.43G       1.13      1.418       1.43         84        640: 100%|██████████| 262/262 [00:27<00:00,  9.46it/s]\n",
      "                 Class     Images  Instances      Box(P          R      mAP50  mAP50-95): 100%|██████████| 131/131 [00:20<00:00,  6.45it/s]\n"
     ]
    },
    {
     "name": "stdout",
     "output_type": "stream",
     "text": [
      "                   all       4189      11173      0.765      0.753      0.795      0.557\n",
      "\n",
      "      Epoch    GPU_mem   box_loss   cls_loss   dfl_loss  Instances       Size\n"
     ]
    },
    {
     "name": "stderr",
     "output_type": "stream",
     "text": [
      "      21/50      2.41G      1.123      1.415      1.426         59        640: 100%|██████████| 262/262 [00:27<00:00,  9.49it/s]\n",
      "                 Class     Images  Instances      Box(P          R      mAP50  mAP50-95): 100%|██████████| 131/131 [00:20<00:00,  6.45it/s]\n"
     ]
    },
    {
     "name": "stdout",
     "output_type": "stream",
     "text": [
      "                   all       4189      11173      0.764      0.759      0.795      0.561\n",
      "\n",
      "      Epoch    GPU_mem   box_loss   cls_loss   dfl_loss  Instances       Size\n"
     ]
    },
    {
     "name": "stderr",
     "output_type": "stream",
     "text": [
      "      22/50      2.41G       1.11      1.377       1.42         79        640: 100%|██████████| 262/262 [00:27<00:00,  9.47it/s]\n",
      "                 Class     Images  Instances      Box(P          R      mAP50  mAP50-95): 100%|██████████| 131/131 [00:20<00:00,  6.33it/s]\n"
     ]
    },
    {
     "name": "stdout",
     "output_type": "stream",
     "text": [
      "                   all       4189      11173      0.778      0.781      0.821      0.578\n",
      "\n",
      "      Epoch    GPU_mem   box_loss   cls_loss   dfl_loss  Instances       Size\n"
     ]
    },
    {
     "name": "stderr",
     "output_type": "stream",
     "text": [
      "      23/50      2.46G        1.1       1.35      1.413         50        640: 100%|██████████| 262/262 [00:27<00:00,  9.43it/s]\n",
      "                 Class     Images  Instances      Box(P          R      mAP50  mAP50-95): 100%|██████████| 131/131 [00:20<00:00,  6.37it/s]\n"
     ]
    },
    {
     "name": "stdout",
     "output_type": "stream",
     "text": [
      "                   all       4189      11173       0.78      0.779       0.82      0.578\n",
      "\n",
      "      Epoch    GPU_mem   box_loss   cls_loss   dfl_loss  Instances       Size\n"
     ]
    },
    {
     "name": "stderr",
     "output_type": "stream",
     "text": [
      "      24/50      2.46G       1.09      1.307      1.402         61        640: 100%|██████████| 262/262 [00:27<00:00,  9.47it/s]\n",
      "                 Class     Images  Instances      Box(P          R      mAP50  mAP50-95): 100%|██████████| 131/131 [00:20<00:00,  6.37it/s]\n"
     ]
    },
    {
     "name": "stdout",
     "output_type": "stream",
     "text": [
      "                   all       4189      11173      0.778      0.792      0.819      0.583\n",
      "\n",
      "      Epoch    GPU_mem   box_loss   cls_loss   dfl_loss  Instances       Size\n"
     ]
    },
    {
     "name": "stderr",
     "output_type": "stream",
     "text": [
      "      25/50      2.43G      1.092      1.299       1.41         70        640: 100%|██████████| 262/262 [00:27<00:00,  9.50it/s]\n",
      "                 Class     Images  Instances      Box(P          R      mAP50  mAP50-95): 100%|██████████| 131/131 [00:20<00:00,  6.46it/s]\n"
     ]
    },
    {
     "name": "stdout",
     "output_type": "stream",
     "text": [
      "                   all       4189      11173      0.793      0.792       0.83      0.593\n",
      "\n",
      "      Epoch    GPU_mem   box_loss   cls_loss   dfl_loss  Instances       Size\n"
     ]
    },
    {
     "name": "stderr",
     "output_type": "stream",
     "text": [
      "      26/50      2.44G      1.087       1.28        1.4         85        640: 100%|██████████| 262/262 [00:27<00:00,  9.50it/s]\n",
      "                 Class     Images  Instances      Box(P          R      mAP50  mAP50-95): 100%|██████████| 131/131 [00:20<00:00,  6.36it/s]\n"
     ]
    },
    {
     "name": "stdout",
     "output_type": "stream",
     "text": [
      "                   all       4189      11173      0.812      0.796      0.841      0.598\n",
      "\n",
      "      Epoch    GPU_mem   box_loss   cls_loss   dfl_loss  Instances       Size\n"
     ]
    },
    {
     "name": "stderr",
     "output_type": "stream",
     "text": [
      "      27/50      2.41G      1.082      1.263      1.392         75        640: 100%|██████████| 262/262 [00:27<00:00,  9.49it/s]\n",
      "                 Class     Images  Instances      Box(P          R      mAP50  mAP50-95): 100%|██████████| 131/131 [00:20<00:00,  6.35it/s]\n"
     ]
    },
    {
     "name": "stdout",
     "output_type": "stream",
     "text": [
      "                   all       4189      11173      0.801      0.794      0.838      0.595\n",
      "\n",
      "      Epoch    GPU_mem   box_loss   cls_loss   dfl_loss  Instances       Size\n"
     ]
    },
    {
     "name": "stderr",
     "output_type": "stream",
     "text": [
      "      28/50      2.49G      1.066      1.237      1.378         67        640: 100%|██████████| 262/262 [00:27<00:00,  9.52it/s]\n",
      "                 Class     Images  Instances      Box(P          R      mAP50  mAP50-95): 100%|██████████| 131/131 [00:20<00:00,  6.40it/s]\n"
     ]
    },
    {
     "name": "stdout",
     "output_type": "stream",
     "text": [
      "                   all       4189      11173      0.819      0.799      0.844      0.603\n",
      "\n",
      "      Epoch    GPU_mem   box_loss   cls_loss   dfl_loss  Instances       Size\n"
     ]
    },
    {
     "name": "stderr",
     "output_type": "stream",
     "text": [
      "      29/50      2.41G      1.067      1.227      1.383         64        640: 100%|██████████| 262/262 [00:27<00:00,  9.50it/s]\n",
      "                 Class     Images  Instances      Box(P          R      mAP50  mAP50-95): 100%|██████████| 131/131 [00:20<00:00,  6.42it/s]\n"
     ]
    },
    {
     "name": "stdout",
     "output_type": "stream",
     "text": [
      "                   all       4189      11173      0.823       0.81      0.852      0.616\n",
      "\n",
      "      Epoch    GPU_mem   box_loss   cls_loss   dfl_loss  Instances       Size\n"
     ]
    },
    {
     "name": "stderr",
     "output_type": "stream",
     "text": [
      "      30/50      2.49G      1.048       1.19      1.364         75        640: 100%|██████████| 262/262 [00:27<00:00,  9.48it/s]\n",
      "                 Class     Images  Instances      Box(P          R      mAP50  mAP50-95): 100%|██████████| 131/131 [00:20<00:00,  6.38it/s]\n"
     ]
    },
    {
     "name": "stdout",
     "output_type": "stream",
     "text": [
      "                   all       4189      11173      0.834      0.817      0.861      0.632\n",
      "\n",
      "      Epoch    GPU_mem   box_loss   cls_loss   dfl_loss  Instances       Size\n"
     ]
    },
    {
     "name": "stderr",
     "output_type": "stream",
     "text": [
      "      31/50      2.43G      1.048      1.183      1.366         61        640: 100%|██████████| 262/262 [00:27<00:00,  9.44it/s]\n",
      "                 Class     Images  Instances      Box(P          R      mAP50  mAP50-95): 100%|██████████| 131/131 [00:20<00:00,  6.35it/s]\n"
     ]
    },
    {
     "name": "stdout",
     "output_type": "stream",
     "text": [
      "                   all       4189      11173      0.825      0.821      0.857      0.625\n",
      "\n",
      "      Epoch    GPU_mem   box_loss   cls_loss   dfl_loss  Instances       Size\n"
     ]
    },
    {
     "name": "stderr",
     "output_type": "stream",
     "text": [
      "      32/50      2.48G      1.041      1.165       1.36         63        640: 100%|██████████| 262/262 [00:27<00:00,  9.47it/s]\n",
      "                 Class     Images  Instances      Box(P          R      mAP50  mAP50-95): 100%|██████████| 131/131 [00:20<00:00,  6.40it/s]\n"
     ]
    },
    {
     "name": "stdout",
     "output_type": "stream",
     "text": [
      "                   all       4189      11173      0.832      0.826      0.864      0.637\n",
      "\n",
      "      Epoch    GPU_mem   box_loss   cls_loss   dfl_loss  Instances       Size\n"
     ]
    },
    {
     "name": "stderr",
     "output_type": "stream",
     "text": [
      "      33/50      2.44G      1.039      1.166       1.36         71        640: 100%|██████████| 262/262 [00:27<00:00,  9.47it/s]\n",
      "                 Class     Images  Instances      Box(P          R      mAP50  mAP50-95): 100%|██████████| 131/131 [00:20<00:00,  6.45it/s]\n"
     ]
    },
    {
     "name": "stdout",
     "output_type": "stream",
     "text": [
      "                   all       4189      11173      0.844      0.831      0.869      0.639\n",
      "\n",
      "      Epoch    GPU_mem   box_loss   cls_loss   dfl_loss  Instances       Size\n"
     ]
    },
    {
     "name": "stderr",
     "output_type": "stream",
     "text": [
      "      34/50      2.41G      1.032      1.155       1.36         74        640: 100%|██████████| 262/262 [00:27<00:00,  9.49it/s]\n",
      "                 Class     Images  Instances      Box(P          R      mAP50  mAP50-95): 100%|██████████| 131/131 [00:20<00:00,  6.44it/s]\n"
     ]
    },
    {
     "name": "stdout",
     "output_type": "stream",
     "text": [
      "                   all       4189      11173      0.857      0.826       0.88       0.65\n",
      "\n",
      "      Epoch    GPU_mem   box_loss   cls_loss   dfl_loss  Instances       Size\n"
     ]
    },
    {
     "name": "stderr",
     "output_type": "stream",
     "text": [
      "      35/50      2.41G      1.024      1.122      1.347         75        640: 100%|██████████| 262/262 [00:27<00:00,  9.46it/s]\n",
      "                 Class     Images  Instances      Box(P          R      mAP50  mAP50-95): 100%|██████████| 131/131 [00:21<00:00,  6.22it/s]\n"
     ]
    },
    {
     "name": "stdout",
     "output_type": "stream",
     "text": [
      "                   all       4189      11173      0.852      0.826      0.878      0.651\n",
      "\n",
      "      Epoch    GPU_mem   box_loss   cls_loss   dfl_loss  Instances       Size\n"
     ]
    },
    {
     "name": "stderr",
     "output_type": "stream",
     "text": [
      "      36/50      2.39G      1.027      1.118      1.351         67        640: 100%|██████████| 262/262 [00:28<00:00,  9.31it/s]\n",
      "                 Class     Images  Instances      Box(P          R      mAP50  mAP50-95): 100%|██████████| 131/131 [00:20<00:00,  6.34it/s]\n"
     ]
    },
    {
     "name": "stdout",
     "output_type": "stream",
     "text": [
      "                   all       4189      11173      0.847      0.839       0.88      0.662\n",
      "\n",
      "      Epoch    GPU_mem   box_loss   cls_loss   dfl_loss  Instances       Size\n"
     ]
    },
    {
     "name": "stderr",
     "output_type": "stream",
     "text": [
      "      37/50      2.41G      1.027      1.104      1.348         59        640: 100%|██████████| 262/262 [00:27<00:00,  9.50it/s]\n",
      "                 Class     Images  Instances      Box(P          R      mAP50  mAP50-95): 100%|██████████| 131/131 [00:20<00:00,  6.35it/s]\n"
     ]
    },
    {
     "name": "stdout",
     "output_type": "stream",
     "text": [
      "                   all       4189      11173      0.853      0.846      0.887      0.668\n",
      "\n",
      "      Epoch    GPU_mem   box_loss   cls_loss   dfl_loss  Instances       Size\n"
     ]
    },
    {
     "name": "stderr",
     "output_type": "stream",
     "text": [
      "      38/50      2.41G      1.006      1.104      1.339         67        640: 100%|██████████| 262/262 [00:27<00:00,  9.49it/s]\n",
      "                 Class     Images  Instances      Box(P          R      mAP50  mAP50-95): 100%|██████████| 131/131 [00:20<00:00,  6.47it/s]\n"
     ]
    },
    {
     "name": "stdout",
     "output_type": "stream",
     "text": [
      "                   all       4189      11173      0.864      0.836      0.887       0.67\n",
      "\n",
      "      Epoch    GPU_mem   box_loss   cls_loss   dfl_loss  Instances       Size\n"
     ]
    },
    {
     "name": "stderr",
     "output_type": "stream",
     "text": [
      "      39/50      2.52G      1.009      1.097      1.338         64        640: 100%|██████████| 262/262 [00:27<00:00,  9.50it/s]\n",
      "                 Class     Images  Instances      Box(P          R      mAP50  mAP50-95): 100%|██████████| 131/131 [00:20<00:00,  6.44it/s]\n"
     ]
    },
    {
     "name": "stdout",
     "output_type": "stream",
     "text": [
      "                   all       4189      11173      0.857      0.832      0.879      0.658\n",
      "\n",
      "      Epoch    GPU_mem   box_loss   cls_loss   dfl_loss  Instances       Size\n"
     ]
    },
    {
     "name": "stderr",
     "output_type": "stream",
     "text": [
      "      40/50      2.41G      1.004      1.074      1.331         61        640: 100%|██████████| 262/262 [00:27<00:00,  9.50it/s]\n",
      "                 Class     Images  Instances      Box(P          R      mAP50  mAP50-95): 100%|██████████| 131/131 [00:20<00:00,  6.35it/s]\n"
     ]
    },
    {
     "name": "stdout",
     "output_type": "stream",
     "text": [
      "                   all       4189      11173      0.879      0.841      0.894      0.678\n",
      "Closing dataloader mosaic\n",
      "\n",
      "      Epoch    GPU_mem   box_loss   cls_loss   dfl_loss  Instances       Size\n"
     ]
    },
    {
     "name": "stderr",
     "output_type": "stream",
     "text": [
      "      41/50      2.44G     0.9647     0.9884      1.373         43        640: 100%|██████████| 262/262 [00:27<00:00,  9.63it/s]\n",
      "                 Class     Images  Instances      Box(P          R      mAP50  mAP50-95): 100%|██████████| 131/131 [00:20<00:00,  6.41it/s]\n"
     ]
    },
    {
     "name": "stdout",
     "output_type": "stream",
     "text": [
      "                   all       4189      11173      0.868      0.842      0.889      0.667\n",
      "\n",
      "      Epoch    GPU_mem   box_loss   cls_loss   dfl_loss  Instances       Size\n"
     ]
    },
    {
     "name": "stderr",
     "output_type": "stream",
     "text": [
      "      42/50      2.39G     0.9442     0.9261      1.349         35        640: 100%|██████████| 262/262 [00:27<00:00,  9.65it/s]\n",
      "                 Class     Images  Instances      Box(P          R      mAP50  mAP50-95): 100%|██████████| 131/131 [00:20<00:00,  6.42it/s]\n"
     ]
    },
    {
     "name": "stdout",
     "output_type": "stream",
     "text": [
      "                   all       4189      11173      0.874      0.852      0.897      0.678\n",
      "\n",
      "      Epoch    GPU_mem   box_loss   cls_loss   dfl_loss  Instances       Size\n"
     ]
    },
    {
     "name": "stderr",
     "output_type": "stream",
     "text": [
      "      43/50      2.43G     0.9257     0.9016      1.335         48        640: 100%|██████████| 262/262 [00:27<00:00,  9.64it/s]\n",
      "                 Class     Images  Instances      Box(P          R      mAP50  mAP50-95): 100%|██████████| 131/131 [00:20<00:00,  6.44it/s]\n"
     ]
    },
    {
     "name": "stdout",
     "output_type": "stream",
     "text": [
      "                   all       4189      11173      0.875      0.854      0.898      0.682\n",
      "\n",
      "      Epoch    GPU_mem   box_loss   cls_loss   dfl_loss  Instances       Size\n"
     ]
    },
    {
     "name": "stderr",
     "output_type": "stream",
     "text": [
      "      44/50      2.39G     0.9142     0.8784      1.321         43        640: 100%|██████████| 262/262 [00:27<00:00,  9.67it/s]\n",
      "                 Class     Images  Instances      Box(P          R      mAP50  mAP50-95): 100%|██████████| 131/131 [00:20<00:00,  6.41it/s]\n"
     ]
    },
    {
     "name": "stdout",
     "output_type": "stream",
     "text": [
      "                   all       4189      11173      0.871      0.853      0.898      0.682\n",
      "\n",
      "      Epoch    GPU_mem   box_loss   cls_loss   dfl_loss  Instances       Size\n"
     ]
    },
    {
     "name": "stderr",
     "output_type": "stream",
     "text": [
      "      45/50      2.41G     0.9021     0.8743      1.317         39        640: 100%|██████████| 262/262 [00:27<00:00,  9.64it/s]\n",
      "                 Class     Images  Instances      Box(P          R      mAP50  mAP50-95): 100%|██████████| 131/131 [00:20<00:00,  6.36it/s]\n"
     ]
    },
    {
     "name": "stdout",
     "output_type": "stream",
     "text": [
      "                   all       4189      11173      0.876      0.863      0.901      0.689\n",
      "\n",
      "      Epoch    GPU_mem   box_loss   cls_loss   dfl_loss  Instances       Size\n"
     ]
    },
    {
     "name": "stderr",
     "output_type": "stream",
     "text": [
      "      46/50      2.39G      0.898     0.8531      1.311         31        640: 100%|██████████| 262/262 [00:27<00:00,  9.67it/s]\n",
      "                 Class     Images  Instances      Box(P          R      mAP50  mAP50-95): 100%|██████████| 131/131 [00:20<00:00,  6.41it/s]\n"
     ]
    },
    {
     "name": "stdout",
     "output_type": "stream",
     "text": [
      "                   all       4189      11173      0.881      0.863      0.903      0.692\n",
      "\n",
      "      Epoch    GPU_mem   box_loss   cls_loss   dfl_loss  Instances       Size\n"
     ]
    },
    {
     "name": "stderr",
     "output_type": "stream",
     "text": [
      "      47/50      2.41G     0.8871      0.834      1.301         32        640: 100%|██████████| 262/262 [00:27<00:00,  9.66it/s]\n",
      "                 Class     Images  Instances      Box(P          R      mAP50  mAP50-95): 100%|██████████| 131/131 [00:20<00:00,  6.45it/s]\n"
     ]
    },
    {
     "name": "stdout",
     "output_type": "stream",
     "text": [
      "                   all       4189      11173      0.886      0.866      0.906      0.694\n",
      "\n",
      "      Epoch    GPU_mem   box_loss   cls_loss   dfl_loss  Instances       Size\n"
     ]
    },
    {
     "name": "stderr",
     "output_type": "stream",
     "text": [
      "      48/50      2.41G     0.8819     0.8299      1.294         37        640: 100%|██████████| 262/262 [00:27<00:00,  9.66it/s]\n",
      "                 Class     Images  Instances      Box(P          R      mAP50  mAP50-95): 100%|██████████| 131/131 [00:20<00:00,  6.44it/s]\n"
     ]
    },
    {
     "name": "stdout",
     "output_type": "stream",
     "text": [
      "                   all       4189      11173      0.887      0.868      0.909      0.701\n",
      "\n",
      "      Epoch    GPU_mem   box_loss   cls_loss   dfl_loss  Instances       Size\n"
     ]
    },
    {
     "name": "stderr",
     "output_type": "stream",
     "text": [
      "      49/50      2.39G     0.8792     0.8158      1.294         24        640: 100%|██████████| 262/262 [00:27<00:00,  9.68it/s]\n",
      "                 Class     Images  Instances      Box(P          R      mAP50  mAP50-95): 100%|██████████| 131/131 [00:20<00:00,  6.42it/s]\n"
     ]
    },
    {
     "name": "stdout",
     "output_type": "stream",
     "text": [
      "                   all       4189      11173      0.894      0.865      0.909      0.703\n",
      "\n",
      "      Epoch    GPU_mem   box_loss   cls_loss   dfl_loss  Instances       Size\n"
     ]
    },
    {
     "name": "stderr",
     "output_type": "stream",
     "text": [
      "      50/50      2.39G     0.8713     0.8119      1.293         21        640: 100%|██████████| 262/262 [00:27<00:00,  9.49it/s]\n",
      "                 Class     Images  Instances      Box(P          R      mAP50  mAP50-95): 100%|██████████| 131/131 [00:20<00:00,  6.33it/s]\n"
     ]
    },
    {
     "name": "stdout",
     "output_type": "stream",
     "text": [
      "                   all       4189      11173      0.887      0.869      0.908      0.701\n",
      "\n",
      "50 epochs completed in 0.710 hours.\n",
      "Optimizer stripped from runs\\detect\\yolo8-test4\\weights\\last.pt, 6.3MB\n",
      "Optimizer stripped from runs\\detect\\yolo8-test4\\weights\\best.pt, 6.3MB\n",
      "\n",
      "Validating runs\\detect\\yolo8-test4\\weights\\best.pt...\n",
      "Ultralytics YOLOv8.2.11  Python-3.11.7 torch-2.3.0+cu121 CUDA:0 (NVIDIA GeForce RTX 3060 Ti, 8191MiB)\n",
      "Model summary (fused): 168 layers, 3011498 parameters, 0 gradients, 8.1 GFLOPs\n"
     ]
    },
    {
     "name": "stderr",
     "output_type": "stream",
     "text": [
      "                 Class     Images  Instances      Box(P          R      mAP50  mAP50-95): 100%|██████████| 131/131 [00:23<00:00,  5.56it/s]\n"
     ]
    },
    {
     "name": "stdout",
     "output_type": "stream",
     "text": [
      "                   all       4189      11173      0.894      0.865      0.909      0.703\n",
      "               avocado       4189        287      0.934       0.84      0.895      0.762\n",
      "          bean sprouts       4189        301      0.761       0.93      0.919      0.681\n",
      "                  beef       4189        469      0.964      0.912      0.986      0.783\n",
      "              broccoli       4189        278      0.934       0.56      0.688      0.509\n",
      "               cabbage       4189        297      0.887      0.973      0.974      0.804\n",
      "                carrot       4189        286      0.809      0.564      0.693      0.546\n",
      "                cheese       4189        310      0.917      0.926       0.95      0.795\n",
      "               chicken       4189        372        0.9      0.918      0.963      0.703\n",
      "                 chili       4189        570      0.844       0.54      0.741      0.455\n",
      "              cucumber       4189        283      0.904      0.898       0.94      0.751\n",
      "                daikon       4189        326      0.763      0.733      0.739      0.572\n",
      "                   egg       4189        285       0.85      0.954      0.951      0.819\n",
      "             egg plant       4189        290      0.946      0.912      0.957      0.758\n",
      "                garlic       4189        581      0.967      0.919      0.981      0.681\n",
      "           green onion       4189        477      0.818       0.82      0.859      0.614\n",
      "                   ham       4189        447      0.977      0.984      0.993      0.807\n",
      "                kimchi       4189        265      0.959      0.951      0.977      0.784\n",
      "               lettuce       4189        284      0.968      0.968      0.989      0.778\n",
      "              mushroom       4189        320      0.898      0.939      0.967      0.706\n",
      "                 onion       4189        404      0.956      0.955      0.981      0.747\n",
      "               paprika       4189        394       0.91      0.985      0.978      0.811\n",
      "            pork belly       4189        329       0.97      0.894      0.968      0.734\n",
      "                potato       4189        563      0.917      0.963      0.969      0.751\n",
      "                  rice       4189        356      0.801      0.876      0.905      0.709\n",
      "               sausage       4189        588       0.93      0.956      0.976      0.712\n",
      "               spinach       4189        291      0.929      0.904       0.97      0.756\n",
      "          sweet potato       4189        380      0.921      0.903      0.959      0.731\n",
      "                  tofu       4189        292      0.672      0.671      0.706      0.534\n",
      "                tomato       4189        573      0.989      0.954      0.993      0.753\n",
      "              zucchini       4189        275      0.831      0.644      0.692      0.541\n",
      "Speed: 0.2ms preprocess, 1.3ms inference, 0.0ms loss, 0.9ms postprocess per image\n",
      "Results saved to \u001b[1mruns\\detect\\yolo8-test4\u001b[0m\n"
     ]
    }
   ],
   "source": [
    "# TRAINING FOOD INGREDIENTS\n",
    "model = YOLO('yolov8n.pt')\n",
    "\n",
    "results = model.train(data='data/food_ingredients/data.yaml',\n",
    "          epochs=50,\n",
    "          batch=16,\n",
    "          name = 'yolo8-test')"
   ]
  },
  {
   "cell_type": "code",
   "execution_count": 5,
   "id": "d8ab2996",
   "metadata": {},
   "outputs": [
    {
     "name": "stdout",
     "output_type": "stream",
     "text": [
      "Ultralytics YOLOv8.2.11  Python-3.11.7 torch-2.3.0+cu121 CUDA:0 (NVIDIA GeForce RTX 3060 Ti, 8191MiB)\n",
      "\u001b[34m\u001b[1mengine\\trainer: \u001b[0mtask=detect, mode=train, model=runs/detect/yolo8-test4/weights/best.pt, data=data/vegetables/data.yaml, epochs=30, time=None, patience=100, batch=16, imgsz=640, save=True, save_period=-1, cache=False, device=None, workers=8, project=None, name=yolo8-combined, exist_ok=False, pretrained=True, optimizer=auto, verbose=True, seed=0, deterministic=True, single_cls=False, rect=False, cos_lr=False, close_mosaic=10, resume=False, amp=True, fraction=1.0, profile=False, freeze=None, multi_scale=False, overlap_mask=True, mask_ratio=4, dropout=0.0, val=True, split=val, save_json=False, save_hybrid=False, conf=None, iou=0.7, max_det=300, half=False, dnn=False, plots=True, source=None, vid_stride=1, stream_buffer=False, visualize=False, augment=False, agnostic_nms=False, classes=None, retina_masks=False, embed=None, show=False, save_frames=False, save_txt=False, save_conf=False, save_crop=False, show_labels=True, show_conf=True, show_boxes=True, line_width=None, format=torchscript, keras=False, optimize=False, int8=False, dynamic=False, simplify=False, opset=None, workspace=4, nms=False, lr0=0.001, lrf=0.001, momentum=0.937, weight_decay=0.0005, warmup_epochs=3.0, warmup_momentum=0.8, warmup_bias_lr=0.1, box=7.5, cls=0.5, dfl=1.5, pose=12.0, kobj=1.0, label_smoothing=0.0, nbs=64, hsv_h=0.015, hsv_s=0.7, hsv_v=0.4, degrees=0.0, translate=0.1, scale=0.5, shear=0.0, perspective=0.0, flipud=0.0, fliplr=0.5, bgr=0.0, mosaic=1.0, mixup=0.0, copy_paste=0.0, auto_augment=randaugment, erasing=0.4, crop_fraction=1.0, cfg=None, tracker=botsort.yaml, save_dir=runs\\detect\\yolo8-combined\n",
      "Overriding model.yaml nc=30 with nc=26\n",
      "\n",
      "                   from  n    params  module                                       arguments                     \n",
      "  0                  -1  1       464  ultralytics.nn.modules.conv.Conv             [3, 16, 3, 2]                 \n",
      "  1                  -1  1      4672  ultralytics.nn.modules.conv.Conv             [16, 32, 3, 2]                \n",
      "  2                  -1  1      7360  ultralytics.nn.modules.block.C2f             [32, 32, 1, True]             \n",
      "  3                  -1  1     18560  ultralytics.nn.modules.conv.Conv             [32, 64, 3, 2]                \n",
      "  4                  -1  2     49664  ultralytics.nn.modules.block.C2f             [64, 64, 2, True]             \n",
      "  5                  -1  1     73984  ultralytics.nn.modules.conv.Conv             [64, 128, 3, 2]               \n",
      "  6                  -1  2    197632  ultralytics.nn.modules.block.C2f             [128, 128, 2, True]           \n",
      "  7                  -1  1    295424  ultralytics.nn.modules.conv.Conv             [128, 256, 3, 2]              \n",
      "  8                  -1  1    460288  ultralytics.nn.modules.block.C2f             [256, 256, 1, True]           \n",
      "  9                  -1  1    164608  ultralytics.nn.modules.block.SPPF            [256, 256, 5]                 \n",
      " 10                  -1  1         0  torch.nn.modules.upsampling.Upsample         [None, 2, 'nearest']          \n",
      " 11             [-1, 6]  1         0  ultralytics.nn.modules.conv.Concat           [1]                           \n",
      " 12                  -1  1    148224  ultralytics.nn.modules.block.C2f             [384, 128, 1]                 \n",
      " 13                  -1  1         0  torch.nn.modules.upsampling.Upsample         [None, 2, 'nearest']          \n",
      " 14             [-1, 4]  1         0  ultralytics.nn.modules.conv.Concat           [1]                           \n",
      " 15                  -1  1     37248  ultralytics.nn.modules.block.C2f             [192, 64, 1]                  \n",
      " 16                  -1  1     36992  ultralytics.nn.modules.conv.Conv             [64, 64, 3, 2]                \n",
      " 17            [-1, 12]  1         0  ultralytics.nn.modules.conv.Concat           [1]                           \n",
      " 18                  -1  1    123648  ultralytics.nn.modules.block.C2f             [192, 128, 1]                 \n",
      " 19                  -1  1    147712  ultralytics.nn.modules.conv.Conv             [128, 128, 3, 2]              \n",
      " 20             [-1, 9]  1         0  ultralytics.nn.modules.conv.Concat           [1]                           \n",
      " 21                  -1  1    493056  ultralytics.nn.modules.block.C2f             [384, 256, 1]                 \n",
      " 22        [15, 18, 21]  1    756382  ultralytics.nn.modules.head.Detect           [26, [64, 128, 256]]          \n",
      "Model summary: 225 layers, 3015918 parameters, 3015902 gradients, 8.2 GFLOPs\n",
      "\n",
      "Transferred 349/355 items from pretrained weights\n",
      "Freezing layer 'model.22.dfl.conv.weight'\n",
      "\u001b[34m\u001b[1mAMP: \u001b[0mrunning Automatic Mixed Precision (AMP) checks with YOLOv8n...\n",
      "\u001b[34m\u001b[1mAMP: \u001b[0mchecks passed \n"
     ]
    },
    {
     "name": "stderr",
     "output_type": "stream",
     "text": [
      "\u001b[34m\u001b[1mtrain: \u001b[0mScanning C:\\Users\\Arya Rahmanian\\Documents\\foodDetection\\data\\vegetables\\train\\labels... 5566 images, 0 backgrounds, 0 corrupt: 100%|██████████| 5566/5566 [00:08<00:00, 678.64it/s]\n"
     ]
    },
    {
     "name": "stdout",
     "output_type": "stream",
     "text": [
      "\u001b[34m\u001b[1mtrain: \u001b[0mNew cache created: C:\\Users\\Arya Rahmanian\\Documents\\foodDetection\\data\\vegetables\\train\\labels.cache\n"
     ]
    },
    {
     "name": "stderr",
     "output_type": "stream",
     "text": [
      "\u001b[34m\u001b[1mval: \u001b[0mScanning C:\\Users\\Arya Rahmanian\\Documents\\foodDetection\\data\\vegetables\\valid\\labels... 1192 images, 0 backgrounds, 0 corrupt: 100%|██████████| 1192/1192 [00:03<00:00, 369.93it/s]\n"
     ]
    },
    {
     "name": "stdout",
     "output_type": "stream",
     "text": [
      "\u001b[34m\u001b[1mval: \u001b[0mNew cache created: C:\\Users\\Arya Rahmanian\\Documents\\foodDetection\\data\\vegetables\\valid\\labels.cache\n",
      "Plotting labels to runs\\detect\\yolo8-combined\\labels.jpg... \n",
      "\u001b[34m\u001b[1moptimizer:\u001b[0m 'optimizer=auto' found, ignoring 'lr0=0.001' and 'momentum=0.937' and determining best 'optimizer', 'lr0' and 'momentum' automatically... \n",
      "\u001b[34m\u001b[1moptimizer:\u001b[0m AdamW(lr=0.000333, momentum=0.9) with parameter groups 57 weight(decay=0.0), 64 weight(decay=0.0005), 63 bias(decay=0.0)\n",
      "Image sizes 640 train, 640 val\n",
      "Using 8 dataloader workers\n",
      "Logging results to \u001b[1mruns\\detect\\yolo8-combined\u001b[0m\n",
      "Starting training for 30 epochs...\n",
      "\n",
      "      Epoch    GPU_mem   box_loss   cls_loss   dfl_loss  Instances       Size\n"
     ]
    },
    {
     "name": "stderr",
     "output_type": "stream",
     "text": [
      "       1/30      2.57G      1.332      3.536      1.544         98        640: 100%|██████████| 348/348 [00:48<00:00,  7.13it/s]\n",
      "                 Class     Images  Instances      Box(P          R      mAP50  mAP50-95): 100%|██████████| 38/38 [00:07<00:00,  5.42it/s]"
     ]
    },
    {
     "name": "stdout",
     "output_type": "stream",
     "text": [
      "                   all       1192       3863       0.47      0.359      0.331      0.197\n"
     ]
    },
    {
     "name": "stderr",
     "output_type": "stream",
     "text": [
      "\n"
     ]
    },
    {
     "name": "stdout",
     "output_type": "stream",
     "text": [
      "\n",
      "      Epoch    GPU_mem   box_loss   cls_loss   dfl_loss  Instances       Size\n"
     ]
    },
    {
     "name": "stderr",
     "output_type": "stream",
     "text": [
      "       2/30      2.49G      1.341      2.518      1.523         84        640: 100%|██████████| 348/348 [00:42<00:00,  8.26it/s]\n",
      "                 Class     Images  Instances      Box(P          R      mAP50  mAP50-95): 100%|██████████| 38/38 [00:06<00:00,  5.96it/s]"
     ]
    },
    {
     "name": "stdout",
     "output_type": "stream",
     "text": [
      "                   all       1192       3863      0.497      0.451      0.438      0.258\n"
     ]
    },
    {
     "name": "stderr",
     "output_type": "stream",
     "text": [
      "\n"
     ]
    },
    {
     "name": "stdout",
     "output_type": "stream",
     "text": [
      "\n",
      "      Epoch    GPU_mem   box_loss   cls_loss   dfl_loss  Instances       Size\n"
     ]
    },
    {
     "name": "stderr",
     "output_type": "stream",
     "text": [
      "       3/30      2.42G       1.31      2.215      1.492         82        640: 100%|██████████| 348/348 [00:42<00:00,  8.28it/s]\n",
      "                 Class     Images  Instances      Box(P          R      mAP50  mAP50-95): 100%|██████████| 38/38 [00:06<00:00,  5.79it/s]"
     ]
    },
    {
     "name": "stdout",
     "output_type": "stream",
     "text": [
      "                   all       1192       3863      0.521      0.483      0.476      0.292\n"
     ]
    },
    {
     "name": "stderr",
     "output_type": "stream",
     "text": [
      "\n"
     ]
    },
    {
     "name": "stdout",
     "output_type": "stream",
     "text": [
      "\n",
      "      Epoch    GPU_mem   box_loss   cls_loss   dfl_loss  Instances       Size\n"
     ]
    },
    {
     "name": "stderr",
     "output_type": "stream",
     "text": [
      "       4/30      2.47G      1.303      2.061      1.475         65        640: 100%|██████████| 348/348 [00:42<00:00,  8.26it/s]\n",
      "                 Class     Images  Instances      Box(P          R      mAP50  mAP50-95): 100%|██████████| 38/38 [00:06<00:00,  5.52it/s]"
     ]
    },
    {
     "name": "stdout",
     "output_type": "stream",
     "text": [
      "                   all       1192       3863      0.542       0.49      0.503      0.307\n"
     ]
    },
    {
     "name": "stderr",
     "output_type": "stream",
     "text": [
      "\n"
     ]
    },
    {
     "name": "stdout",
     "output_type": "stream",
     "text": [
      "\n",
      "      Epoch    GPU_mem   box_loss   cls_loss   dfl_loss  Instances       Size\n"
     ]
    },
    {
     "name": "stderr",
     "output_type": "stream",
     "text": [
      "       5/30      2.46G      1.285      1.951      1.459         70        640: 100%|██████████| 348/348 [00:41<00:00,  8.34it/s]\n",
      "                 Class     Images  Instances      Box(P          R      mAP50  mAP50-95): 100%|██████████| 38/38 [00:06<00:00,  5.78it/s]"
     ]
    },
    {
     "name": "stdout",
     "output_type": "stream",
     "text": [
      "                   all       1192       3863      0.586       0.54      0.556      0.341\n"
     ]
    },
    {
     "name": "stderr",
     "output_type": "stream",
     "text": [
      "\n"
     ]
    },
    {
     "name": "stdout",
     "output_type": "stream",
     "text": [
      "\n",
      "      Epoch    GPU_mem   box_loss   cls_loss   dfl_loss  Instances       Size\n"
     ]
    },
    {
     "name": "stderr",
     "output_type": "stream",
     "text": [
      "       6/30      2.42G       1.27      1.845      1.439         68        640: 100%|██████████| 348/348 [00:41<00:00,  8.35it/s]\n",
      "                 Class     Images  Instances      Box(P          R      mAP50  mAP50-95): 100%|██████████| 38/38 [00:06<00:00,  6.00it/s]"
     ]
    },
    {
     "name": "stdout",
     "output_type": "stream",
     "text": [
      "                   all       1192       3863      0.618      0.552      0.586      0.368\n"
     ]
    },
    {
     "name": "stderr",
     "output_type": "stream",
     "text": [
      "\n"
     ]
    },
    {
     "name": "stdout",
     "output_type": "stream",
     "text": [
      "\n",
      "      Epoch    GPU_mem   box_loss   cls_loss   dfl_loss  Instances       Size\n"
     ]
    },
    {
     "name": "stderr",
     "output_type": "stream",
     "text": [
      "       7/30      2.43G      1.256      1.756      1.419         84        640: 100%|██████████| 348/348 [00:43<00:00,  7.94it/s]\n",
      "                 Class     Images  Instances      Box(P          R      mAP50  mAP50-95): 100%|██████████| 38/38 [00:06<00:00,  5.88it/s]"
     ]
    },
    {
     "name": "stdout",
     "output_type": "stream",
     "text": [
      "                   all       1192       3863      0.641      0.539      0.595       0.37\n"
     ]
    },
    {
     "name": "stderr",
     "output_type": "stream",
     "text": [
      "\n"
     ]
    },
    {
     "name": "stdout",
     "output_type": "stream",
     "text": [
      "\n",
      "      Epoch    GPU_mem   box_loss   cls_loss   dfl_loss  Instances       Size\n"
     ]
    },
    {
     "name": "stderr",
     "output_type": "stream",
     "text": [
      "       8/30      2.47G      1.256      1.693       1.42         70        640: 100%|██████████| 348/348 [00:42<00:00,  8.17it/s]\n",
      "                 Class     Images  Instances      Box(P          R      mAP50  mAP50-95): 100%|██████████| 38/38 [00:08<00:00,  4.45it/s]\n"
     ]
    },
    {
     "name": "stdout",
     "output_type": "stream",
     "text": [
      "                   all       1192       3863      0.662      0.578       0.63      0.394\n",
      "\n",
      "      Epoch    GPU_mem   box_loss   cls_loss   dfl_loss  Instances       Size\n"
     ]
    },
    {
     "name": "stderr",
     "output_type": "stream",
     "text": [
      "       9/30      2.46G       1.24      1.633      1.409         66        640: 100%|██████████| 348/348 [00:45<00:00,  7.63it/s]\n",
      "                 Class     Images  Instances      Box(P          R      mAP50  mAP50-95): 100%|██████████| 38/38 [00:06<00:00,  5.85it/s]"
     ]
    },
    {
     "name": "stdout",
     "output_type": "stream",
     "text": [
      "                   all       1192       3863      0.678       0.58      0.638        0.4\n"
     ]
    },
    {
     "name": "stderr",
     "output_type": "stream",
     "text": [
      "\n"
     ]
    },
    {
     "name": "stdout",
     "output_type": "stream",
     "text": [
      "\n",
      "      Epoch    GPU_mem   box_loss   cls_loss   dfl_loss  Instances       Size\n"
     ]
    },
    {
     "name": "stderr",
     "output_type": "stream",
     "text": [
      "      10/30      2.46G      1.236      1.577      1.405         75        640: 100%|██████████| 348/348 [00:42<00:00,  8.17it/s]\n",
      "                 Class     Images  Instances      Box(P          R      mAP50  mAP50-95): 100%|██████████| 38/38 [00:06<00:00,  6.09it/s]"
     ]
    },
    {
     "name": "stdout",
     "output_type": "stream",
     "text": [
      "                   all       1192       3863      0.694      0.608       0.67      0.425\n"
     ]
    },
    {
     "name": "stderr",
     "output_type": "stream",
     "text": [
      "\n"
     ]
    },
    {
     "name": "stdout",
     "output_type": "stream",
     "text": [
      "\n",
      "      Epoch    GPU_mem   box_loss   cls_loss   dfl_loss  Instances       Size\n"
     ]
    },
    {
     "name": "stderr",
     "output_type": "stream",
     "text": [
      "      11/30      2.47G      1.216      1.539      1.392         76        640: 100%|██████████| 348/348 [00:43<00:00,  8.02it/s]\n",
      "                 Class     Images  Instances      Box(P          R      mAP50  mAP50-95): 100%|██████████| 38/38 [00:06<00:00,  5.59it/s]"
     ]
    },
    {
     "name": "stdout",
     "output_type": "stream",
     "text": [
      "                   all       1192       3863        0.7      0.628      0.692      0.443\n"
     ]
    },
    {
     "name": "stderr",
     "output_type": "stream",
     "text": [
      "\n"
     ]
    },
    {
     "name": "stdout",
     "output_type": "stream",
     "text": [
      "\n",
      "      Epoch    GPU_mem   box_loss   cls_loss   dfl_loss  Instances       Size\n"
     ]
    },
    {
     "name": "stderr",
     "output_type": "stream",
     "text": [
      "      12/30      2.45G      1.215      1.473      1.388         58        640: 100%|██████████| 348/348 [00:42<00:00,  8.15it/s]\n",
      "                 Class     Images  Instances      Box(P          R      mAP50  mAP50-95): 100%|██████████| 38/38 [00:06<00:00,  5.71it/s]"
     ]
    },
    {
     "name": "stdout",
     "output_type": "stream",
     "text": [
      "                   all       1192       3863      0.703      0.651      0.694      0.438\n"
     ]
    },
    {
     "name": "stderr",
     "output_type": "stream",
     "text": [
      "\n"
     ]
    },
    {
     "name": "stdout",
     "output_type": "stream",
     "text": [
      "\n",
      "      Epoch    GPU_mem   box_loss   cls_loss   dfl_loss  Instances       Size\n"
     ]
    },
    {
     "name": "stderr",
     "output_type": "stream",
     "text": [
      "      13/30      2.47G       1.21      1.435      1.378         99        640: 100%|██████████| 348/348 [00:42<00:00,  8.25it/s]\n",
      "                 Class     Images  Instances      Box(P          R      mAP50  mAP50-95): 100%|██████████| 38/38 [00:06<00:00,  5.71it/s]"
     ]
    },
    {
     "name": "stdout",
     "output_type": "stream",
     "text": [
      "                   all       1192       3863      0.731      0.642      0.715      0.458\n"
     ]
    },
    {
     "name": "stderr",
     "output_type": "stream",
     "text": [
      "\n"
     ]
    },
    {
     "name": "stdout",
     "output_type": "stream",
     "text": [
      "\n",
      "      Epoch    GPU_mem   box_loss   cls_loss   dfl_loss  Instances       Size\n"
     ]
    },
    {
     "name": "stderr",
     "output_type": "stream",
     "text": [
      "      14/30      2.49G      1.196      1.384      1.364         56        640: 100%|██████████| 348/348 [00:42<00:00,  8.25it/s]\n",
      "                 Class     Images  Instances      Box(P          R      mAP50  mAP50-95): 100%|██████████| 38/38 [00:07<00:00,  4.87it/s]"
     ]
    },
    {
     "name": "stdout",
     "output_type": "stream",
     "text": [
      "                   all       1192       3863      0.729      0.645      0.712      0.452\n"
     ]
    },
    {
     "name": "stderr",
     "output_type": "stream",
     "text": [
      "\n"
     ]
    },
    {
     "name": "stdout",
     "output_type": "stream",
     "text": [
      "\n",
      "      Epoch    GPU_mem   box_loss   cls_loss   dfl_loss  Instances       Size\n"
     ]
    },
    {
     "name": "stderr",
     "output_type": "stream",
     "text": [
      "      15/30      2.49G      1.195      1.367      1.368         79        640: 100%|██████████| 348/348 [00:42<00:00,  8.10it/s]\n",
      "                 Class     Images  Instances      Box(P          R      mAP50  mAP50-95): 100%|██████████| 38/38 [00:06<00:00,  5.70it/s]"
     ]
    },
    {
     "name": "stdout",
     "output_type": "stream",
     "text": [
      "                   all       1192       3863      0.716      0.693      0.737      0.472\n"
     ]
    },
    {
     "name": "stderr",
     "output_type": "stream",
     "text": [
      "\n"
     ]
    },
    {
     "name": "stdout",
     "output_type": "stream",
     "text": [
      "\n",
      "      Epoch    GPU_mem   box_loss   cls_loss   dfl_loss  Instances       Size\n"
     ]
    },
    {
     "name": "stderr",
     "output_type": "stream",
     "text": [
      "      16/30      2.43G      1.176      1.314      1.352         62        640: 100%|██████████| 348/348 [00:42<00:00,  8.19it/s]\n",
      "                 Class     Images  Instances      Box(P          R      mAP50  mAP50-95): 100%|██████████| 38/38 [00:06<00:00,  5.86it/s]"
     ]
    },
    {
     "name": "stdout",
     "output_type": "stream",
     "text": [
      "                   all       1192       3863      0.772      0.663       0.75      0.481\n"
     ]
    },
    {
     "name": "stderr",
     "output_type": "stream",
     "text": [
      "\n"
     ]
    },
    {
     "name": "stdout",
     "output_type": "stream",
     "text": [
      "\n",
      "      Epoch    GPU_mem   box_loss   cls_loss   dfl_loss  Instances       Size\n"
     ]
    },
    {
     "name": "stderr",
     "output_type": "stream",
     "text": [
      "      17/30       2.5G      1.176      1.296      1.355         66        640: 100%|██████████| 348/348 [00:42<00:00,  8.13it/s]\n",
      "                 Class     Images  Instances      Box(P          R      mAP50  mAP50-95): 100%|██████████| 38/38 [00:06<00:00,  5.52it/s]"
     ]
    },
    {
     "name": "stdout",
     "output_type": "stream",
     "text": [
      "                   all       1192       3863      0.711      0.699      0.732      0.464\n"
     ]
    },
    {
     "name": "stderr",
     "output_type": "stream",
     "text": [
      "\n"
     ]
    },
    {
     "name": "stdout",
     "output_type": "stream",
     "text": [
      "\n",
      "      Epoch    GPU_mem   box_loss   cls_loss   dfl_loss  Instances       Size\n"
     ]
    },
    {
     "name": "stderr",
     "output_type": "stream",
     "text": [
      "      18/30      2.45G      1.163      1.254      1.346         85        640: 100%|██████████| 348/348 [00:43<00:00,  7.97it/s]\n",
      "                 Class     Images  Instances      Box(P          R      mAP50  mAP50-95): 100%|██████████| 38/38 [00:06<00:00,  5.70it/s]"
     ]
    },
    {
     "name": "stdout",
     "output_type": "stream",
     "text": [
      "                   all       1192       3863       0.76      0.697      0.764      0.489\n"
     ]
    },
    {
     "name": "stderr",
     "output_type": "stream",
     "text": [
      "\n"
     ]
    },
    {
     "name": "stdout",
     "output_type": "stream",
     "text": [
      "\n",
      "      Epoch    GPU_mem   box_loss   cls_loss   dfl_loss  Instances       Size\n"
     ]
    },
    {
     "name": "stderr",
     "output_type": "stream",
     "text": [
      "      19/30      2.46G      1.152      1.229      1.341        103        640: 100%|██████████| 348/348 [00:42<00:00,  8.12it/s]\n",
      "                 Class     Images  Instances      Box(P          R      mAP50  mAP50-95): 100%|██████████| 38/38 [00:06<00:00,  5.69it/s]"
     ]
    },
    {
     "name": "stdout",
     "output_type": "stream",
     "text": [
      "                   all       1192       3863      0.767      0.717      0.779      0.503\n"
     ]
    },
    {
     "name": "stderr",
     "output_type": "stream",
     "text": [
      "\n"
     ]
    },
    {
     "name": "stdout",
     "output_type": "stream",
     "text": [
      "\n",
      "      Epoch    GPU_mem   box_loss   cls_loss   dfl_loss  Instances       Size\n"
     ]
    },
    {
     "name": "stderr",
     "output_type": "stream",
     "text": [
      "      20/30      2.42G      1.157      1.205      1.337         80        640: 100%|██████████| 348/348 [00:42<00:00,  8.15it/s]\n",
      "                 Class     Images  Instances      Box(P          R      mAP50  mAP50-95): 100%|██████████| 38/38 [00:06<00:00,  5.91it/s]"
     ]
    },
    {
     "name": "stdout",
     "output_type": "stream",
     "text": [
      "                   all       1192       3863      0.787      0.693       0.77      0.497\n"
     ]
    },
    {
     "name": "stderr",
     "output_type": "stream",
     "text": [
      "\n"
     ]
    },
    {
     "name": "stdout",
     "output_type": "stream",
     "text": [
      "Closing dataloader mosaic\n",
      "\n",
      "      Epoch    GPU_mem   box_loss   cls_loss   dfl_loss  Instances       Size\n"
     ]
    },
    {
     "name": "stderr",
     "output_type": "stream",
     "text": [
      "      21/30      2.53G      1.141      1.111      1.353         31        640: 100%|██████████| 348/348 [00:40<00:00,  8.60it/s]\n",
      "                 Class     Images  Instances      Box(P          R      mAP50  mAP50-95): 100%|██████████| 38/38 [00:06<00:00,  6.01it/s]"
     ]
    },
    {
     "name": "stdout",
     "output_type": "stream",
     "text": [
      "                   all       1192       3863       0.75       0.71      0.768      0.492\n"
     ]
    },
    {
     "name": "stderr",
     "output_type": "stream",
     "text": [
      "\n"
     ]
    },
    {
     "name": "stdout",
     "output_type": "stream",
     "text": [
      "\n",
      "      Epoch    GPU_mem   box_loss   cls_loss   dfl_loss  Instances       Size\n"
     ]
    },
    {
     "name": "stderr",
     "output_type": "stream",
     "text": [
      "      22/30      2.43G      1.131      1.078      1.349         48        640: 100%|██████████| 348/348 [00:40<00:00,  8.58it/s]\n",
      "                 Class     Images  Instances      Box(P          R      mAP50  mAP50-95): 100%|██████████| 38/38 [00:06<00:00,  5.92it/s]"
     ]
    },
    {
     "name": "stdout",
     "output_type": "stream",
     "text": [
      "                   all       1192       3863      0.779      0.714      0.783      0.509\n"
     ]
    },
    {
     "name": "stderr",
     "output_type": "stream",
     "text": [
      "\n"
     ]
    },
    {
     "name": "stdout",
     "output_type": "stream",
     "text": [
      "\n",
      "      Epoch    GPU_mem   box_loss   cls_loss   dfl_loss  Instances       Size\n"
     ]
    },
    {
     "name": "stderr",
     "output_type": "stream",
     "text": [
      "      23/30      2.43G      1.119      1.019      1.335         54        640: 100%|██████████| 348/348 [00:40<00:00,  8.62it/s]\n",
      "                 Class     Images  Instances      Box(P          R      mAP50  mAP50-95): 100%|██████████| 38/38 [00:06<00:00,  5.85it/s]"
     ]
    },
    {
     "name": "stdout",
     "output_type": "stream",
     "text": [
      "                   all       1192       3863      0.782      0.728      0.789      0.509\n"
     ]
    },
    {
     "name": "stderr",
     "output_type": "stream",
     "text": [
      "\n"
     ]
    },
    {
     "name": "stdout",
     "output_type": "stream",
     "text": [
      "\n",
      "      Epoch    GPU_mem   box_loss   cls_loss   dfl_loss  Instances       Size\n"
     ]
    },
    {
     "name": "stderr",
     "output_type": "stream",
     "text": [
      "      24/30      2.41G      1.108      1.003       1.33         49        640: 100%|██████████| 348/348 [00:41<00:00,  8.35it/s]\n",
      "                 Class     Images  Instances      Box(P          R      mAP50  mAP50-95): 100%|██████████| 38/38 [00:06<00:00,  5.89it/s]\n"
     ]
    },
    {
     "name": "stdout",
     "output_type": "stream",
     "text": [
      "                   all       1192       3863      0.804       0.72      0.795       0.52\n",
      "\n",
      "      Epoch    GPU_mem   box_loss   cls_loss   dfl_loss  Instances       Size\n"
     ]
    },
    {
     "name": "stderr",
     "output_type": "stream",
     "text": [
      "      25/30       2.4G      1.097     0.9589      1.322         49        640: 100%|██████████| 348/348 [00:36<00:00,  9.48it/s]\n",
      "                 Class     Images  Instances      Box(P          R      mAP50  mAP50-95): 100%|██████████| 38/38 [00:05<00:00,  6.46it/s]"
     ]
    },
    {
     "name": "stdout",
     "output_type": "stream",
     "text": [
      "                   all       1192       3863      0.808      0.738      0.807      0.526\n"
     ]
    },
    {
     "name": "stderr",
     "output_type": "stream",
     "text": [
      "\n"
     ]
    },
    {
     "name": "stdout",
     "output_type": "stream",
     "text": [
      "\n",
      "      Epoch    GPU_mem   box_loss   cls_loss   dfl_loss  Instances       Size\n"
     ]
    },
    {
     "name": "stderr",
     "output_type": "stream",
     "text": [
      "      26/30      2.38G      1.083     0.9253      1.308         47        640: 100%|██████████| 348/348 [00:36<00:00,  9.57it/s]\n",
      "                 Class     Images  Instances      Box(P          R      mAP50  mAP50-95): 100%|██████████| 38/38 [00:06<00:00,  6.08it/s]"
     ]
    },
    {
     "name": "stdout",
     "output_type": "stream",
     "text": [
      "                   all       1192       3863      0.806      0.744      0.813      0.533\n"
     ]
    },
    {
     "name": "stderr",
     "output_type": "stream",
     "text": [
      "\n"
     ]
    },
    {
     "name": "stdout",
     "output_type": "stream",
     "text": [
      "\n",
      "      Epoch    GPU_mem   box_loss   cls_loss   dfl_loss  Instances       Size\n"
     ]
    },
    {
     "name": "stderr",
     "output_type": "stream",
     "text": [
      "      27/30      2.42G      1.072     0.9127      1.306         47        640: 100%|██████████| 348/348 [00:39<00:00,  8.85it/s]\n",
      "                 Class     Images  Instances      Box(P          R      mAP50  mAP50-95): 100%|██████████| 38/38 [00:06<00:00,  6.30it/s]"
     ]
    },
    {
     "name": "stdout",
     "output_type": "stream",
     "text": [
      "                   all       1192       3863      0.819      0.732      0.811      0.532\n"
     ]
    },
    {
     "name": "stderr",
     "output_type": "stream",
     "text": [
      "\n"
     ]
    },
    {
     "name": "stdout",
     "output_type": "stream",
     "text": [
      "\n",
      "      Epoch    GPU_mem   box_loss   cls_loss   dfl_loss  Instances       Size\n"
     ]
    },
    {
     "name": "stderr",
     "output_type": "stream",
     "text": [
      "      28/30      2.38G      1.063     0.8895      1.294         50        640: 100%|██████████| 348/348 [00:38<00:00,  9.06it/s]\n",
      "                 Class     Images  Instances      Box(P          R      mAP50  mAP50-95): 100%|██████████| 38/38 [00:05<00:00,  6.51it/s]\n"
     ]
    },
    {
     "name": "stdout",
     "output_type": "stream",
     "text": [
      "                   all       1192       3863      0.829      0.737      0.817      0.537\n",
      "\n",
      "      Epoch    GPU_mem   box_loss   cls_loss   dfl_loss  Instances       Size\n"
     ]
    },
    {
     "name": "stderr",
     "output_type": "stream",
     "text": [
      "      29/30      2.38G      1.056     0.8725      1.289         49        640: 100%|██████████| 348/348 [00:40<00:00,  8.62it/s]\n",
      "                 Class     Images  Instances      Box(P          R      mAP50  mAP50-95): 100%|██████████| 38/38 [00:07<00:00,  5.26it/s]"
     ]
    },
    {
     "name": "stdout",
     "output_type": "stream",
     "text": [
      "                   all       1192       3863      0.823      0.742      0.821      0.541\n"
     ]
    },
    {
     "name": "stderr",
     "output_type": "stream",
     "text": [
      "\n"
     ]
    },
    {
     "name": "stdout",
     "output_type": "stream",
     "text": [
      "\n",
      "      Epoch    GPU_mem   box_loss   cls_loss   dfl_loss  Instances       Size\n"
     ]
    },
    {
     "name": "stderr",
     "output_type": "stream",
     "text": [
      "      30/30      2.38G      1.056      0.868      1.288         40        640: 100%|██████████| 348/348 [00:40<00:00,  8.62it/s]\n",
      "                 Class     Images  Instances      Box(P          R      mAP50  mAP50-95): 100%|██████████| 38/38 [00:06<00:00,  5.94it/s]"
     ]
    },
    {
     "name": "stdout",
     "output_type": "stream",
     "text": [
      "                   all       1192       3863      0.832      0.739      0.822      0.545\n"
     ]
    },
    {
     "name": "stderr",
     "output_type": "stream",
     "text": [
      "\n"
     ]
    },
    {
     "name": "stdout",
     "output_type": "stream",
     "text": [
      "\n",
      "30 epochs completed in 0.421 hours.\n",
      "Optimizer stripped from runs\\detect\\yolo8-combined\\weights\\last.pt, 6.3MB\n",
      "Optimizer stripped from runs\\detect\\yolo8-combined\\weights\\best.pt, 6.3MB\n",
      "\n",
      "Validating runs\\detect\\yolo8-combined\\weights\\best.pt...\n",
      "Ultralytics YOLOv8.2.11  Python-3.11.7 torch-2.3.0+cu121 CUDA:0 (NVIDIA GeForce RTX 3060 Ti, 8191MiB)\n",
      "Model summary (fused): 168 layers, 3010718 parameters, 0 gradients, 8.1 GFLOPs\n"
     ]
    },
    {
     "name": "stderr",
     "output_type": "stream",
     "text": [
      "                 Class     Images  Instances      Box(P          R      mAP50  mAP50-95): 100%|██████████| 38/38 [00:08<00:00,  4.73it/s]\n"
     ]
    },
    {
     "name": "stdout",
     "output_type": "stream",
     "text": [
      "                   all       1192       3863      0.834      0.739      0.822      0.545\n",
      "               avocado       1192        175      0.883      0.903      0.936      0.556\n",
      "                 beans       1192         52      0.554      0.598      0.585      0.404\n",
      "                  beet       1192        157       0.82      0.796      0.882      0.612\n",
      "           bell pepper       1192        169      0.818      0.876      0.868      0.673\n",
      "              broccoli       1192         94      0.738       0.78      0.837      0.531\n",
      "          brus capusta       1192         95      0.808      0.664      0.809      0.471\n",
      "               cabbage       1192        107      0.723      0.636      0.697      0.458\n",
      "                carrot       1192        212      0.833      0.632      0.743      0.451\n",
      "           cayliflower       1192         84      0.884      0.774      0.847      0.597\n",
      "                celery       1192         71      0.745       0.66       0.72      0.472\n",
      "                  corn       1192        184      0.921      0.881      0.947      0.642\n",
      "              cucumber       1192        233      0.764      0.717      0.797      0.496\n",
      "              eggplant       1192        166      0.857      0.792      0.882      0.513\n",
      "                 fasol       1192         71      0.958      0.635      0.753      0.514\n",
      "                garlic       1192        193      0.872      0.779      0.874      0.605\n",
      "            hot pepper       1192        208      0.778      0.572      0.708      0.391\n",
      "                 onion       1192        176       0.94      0.892      0.948        0.7\n",
      "                  peas       1192        144      0.782      0.438      0.665      0.346\n",
      "                potato       1192        174      0.856      0.887      0.892        0.6\n",
      "               pumpkin       1192        202      0.888      0.748      0.858      0.623\n",
      "               rediska       1192        185      0.813      0.735      0.792      0.533\n",
      "                 redka       1192        124      0.883      0.791      0.842      0.611\n",
      "                 salad       1192         60      0.941      0.767      0.862      0.669\n",
      "       squash-patisson       1192        142      0.918      0.792      0.926      0.619\n",
      "                tomato       1192        280      0.832      0.708      0.825      0.565\n",
      "      vegetable marrow       1192        105      0.866      0.752      0.875       0.51\n",
      "Speed: 0.2ms preprocess, 1.4ms inference, 0.0ms loss, 1.0ms postprocess per image\n",
      "Results saved to \u001b[1mruns\\detect\\yolo8-combined\u001b[0m\n"
     ]
    }
   ],
   "source": [
    "# TRAINING VEGETABLES ON TOP OF FOOD INGREDIENTS\n",
    "model = YOLO('runs/detect/yolo8-test4/weights/best.pt')  \n",
    "\n",
    "# Continue training on the new dataset.\n",
    "results = model.train(data='data/vegetables/data.yaml',\n",
    "                      epochs=30,\n",
    "                      batch=16,\n",
    "                      name='yolo8-combined',\n",
    "                      lr0=0.001,\n",
    "                      lrf=0.001)\n"
   ]
  },
  {
   "cell_type": "code",
   "execution_count": 2,
   "id": "122c2720-84ee-4873-8a46-387626ba031d",
   "metadata": {},
   "outputs": [
    {
     "name": "stdout",
     "output_type": "stream",
     "text": [
      "Ultralytics YOLOv8.2.11  Python-3.11.7 torch-2.3.0+cu121 CUDA:0 (NVIDIA GeForce RTX 3060 Ti, 8191MiB)\n",
      "\u001b[34m\u001b[1mengine\\trainer: \u001b[0mtask=detect, mode=train, model=yolov8n.pt, data=data/combined/data.yaml, epochs=100, time=None, patience=100, batch=16, imgsz=640, save=True, save_period=-1, cache=False, device=None, workers=8, project=None, name=yolo8-combined-dataset, exist_ok=False, pretrained=True, optimizer=auto, verbose=True, seed=0, deterministic=True, single_cls=False, rect=False, cos_lr=False, close_mosaic=10, resume=False, amp=True, fraction=1.0, profile=False, freeze=None, multi_scale=False, overlap_mask=True, mask_ratio=4, dropout=0.0, val=True, split=val, save_json=False, save_hybrid=False, conf=None, iou=0.7, max_det=300, half=False, dnn=False, plots=True, source=None, vid_stride=1, stream_buffer=False, visualize=False, augment=False, agnostic_nms=False, classes=None, retina_masks=False, embed=None, show=False, save_frames=False, save_txt=False, save_conf=False, save_crop=False, show_labels=True, show_conf=True, show_boxes=True, line_width=None, format=torchscript, keras=False, optimize=False, int8=False, dynamic=False, simplify=False, opset=None, workspace=4, nms=False, lr0=0.01, lrf=0.01, momentum=0.937, weight_decay=0.0005, warmup_epochs=3.0, warmup_momentum=0.8, warmup_bias_lr=0.1, box=7.5, cls=0.5, dfl=1.5, pose=12.0, kobj=1.0, label_smoothing=0.0, nbs=64, hsv_h=0.015, hsv_s=0.7, hsv_v=0.4, degrees=0.0, translate=0.1, scale=0.5, shear=0.0, perspective=0.0, flipud=0.0, fliplr=0.5, bgr=0.0, mosaic=1.0, mixup=0.0, copy_paste=0.0, auto_augment=randaugment, erasing=0.4, crop_fraction=1.0, cfg=None, tracker=botsort.yaml, save_dir=runs\\detect\\yolo8-combined-dataset\n",
      "Overriding model.yaml nc=80 with nc=47\n",
      "\n",
      "                   from  n    params  module                                       arguments                     \n",
      "  0                  -1  1       464  ultralytics.nn.modules.conv.Conv             [3, 16, 3, 2]                 \n",
      "  1                  -1  1      4672  ultralytics.nn.modules.conv.Conv             [16, 32, 3, 2]                \n",
      "  2                  -1  1      7360  ultralytics.nn.modules.block.C2f             [32, 32, 1, True]             \n",
      "  3                  -1  1     18560  ultralytics.nn.modules.conv.Conv             [32, 64, 3, 2]                \n",
      "  4                  -1  2     49664  ultralytics.nn.modules.block.C2f             [64, 64, 2, True]             \n",
      "  5                  -1  1     73984  ultralytics.nn.modules.conv.Conv             [64, 128, 3, 2]               \n",
      "  6                  -1  2    197632  ultralytics.nn.modules.block.C2f             [128, 128, 2, True]           \n",
      "  7                  -1  1    295424  ultralytics.nn.modules.conv.Conv             [128, 256, 3, 2]              \n",
      "  8                  -1  1    460288  ultralytics.nn.modules.block.C2f             [256, 256, 1, True]           \n",
      "  9                  -1  1    164608  ultralytics.nn.modules.block.SPPF            [256, 256, 5]                 \n",
      " 10                  -1  1         0  torch.nn.modules.upsampling.Upsample         [None, 2, 'nearest']          \n",
      " 11             [-1, 6]  1         0  ultralytics.nn.modules.conv.Concat           [1]                           \n",
      " 12                  -1  1    148224  ultralytics.nn.modules.block.C2f             [384, 128, 1]                 \n",
      " 13                  -1  1         0  torch.nn.modules.upsampling.Upsample         [None, 2, 'nearest']          \n",
      " 14             [-1, 4]  1         0  ultralytics.nn.modules.conv.Concat           [1]                           \n",
      " 15                  -1  1     37248  ultralytics.nn.modules.block.C2f             [192, 64, 1]                  \n",
      " 16                  -1  1     36992  ultralytics.nn.modules.conv.Conv             [64, 64, 3, 2]                \n",
      " 17            [-1, 12]  1         0  ultralytics.nn.modules.conv.Concat           [1]                           \n",
      " 18                  -1  1    123648  ultralytics.nn.modules.block.C2f             [192, 128, 1]                 \n",
      " 19                  -1  1    147712  ultralytics.nn.modules.conv.Conv             [128, 128, 3, 2]              \n",
      " 20             [-1, 9]  1         0  ultralytics.nn.modules.conv.Concat           [1]                           \n",
      " 21                  -1  1    493056  ultralytics.nn.modules.block.C2f             [384, 256, 1]                 \n",
      " 22        [15, 18, 21]  1    760477  ultralytics.nn.modules.head.Detect           [47, [64, 128, 256]]          \n",
      "Model summary: 225 layers, 3020013 parameters, 3019997 gradients, 8.2 GFLOPs\n",
      "\n",
      "Transferred 319/355 items from pretrained weights\n",
      "Freezing layer 'model.22.dfl.conv.weight'\n",
      "\u001b[34m\u001b[1mAMP: \u001b[0mrunning Automatic Mixed Precision (AMP) checks with YOLOv8n...\n",
      "\u001b[34m\u001b[1mAMP: \u001b[0mchecks passed \n"
     ]
    },
    {
     "name": "stderr",
     "output_type": "stream",
     "text": [
      "\u001b[34m\u001b[1mtrain: \u001b[0mScanning C:\\Users\\Arya Rahmanian\\Documents\\foodDetection\\data\\combined\\train\\labels.cache... 9243 images, 3 backgrounds, 0 corrupt: 100%|██████████| 9243/9243 [00:00<?, ?it/s]"
     ]
    },
    {
     "name": "stdout",
     "output_type": "stream",
     "text": [
      "WARNING  Box and segment counts should be equal, but got len(segments) = 1885, len(boxes) = 28292. To resolve this only boxes will be used and all segments will be removed. To avoid this please supply either a detect or segment dataset, not a detect-segment mixed dataset.\n"
     ]
    },
    {
     "name": "stderr",
     "output_type": "stream",
     "text": [
      "\n",
      "\u001b[34m\u001b[1mval: \u001b[0mScanning C:\\Users\\Arya Rahmanian\\Documents\\foodDetection\\data\\combined\\valid\\labels.cache... 1532 images, 0 backgrounds, 0 corrupt: 100%|██████████| 1532/1532 [00:00<?, ?it/s]"
     ]
    },
    {
     "name": "stdout",
     "output_type": "stream",
     "text": [
      "WARNING  Box and segment counts should be equal, but got len(segments) = 204, len(boxes) = 4763. To resolve this only boxes will be used and all segments will be removed. To avoid this please supply either a detect or segment dataset, not a detect-segment mixed dataset.\n"
     ]
    },
    {
     "name": "stderr",
     "output_type": "stream",
     "text": [
      "\n"
     ]
    },
    {
     "name": "stdout",
     "output_type": "stream",
     "text": [
      "Plotting labels to runs\\detect\\yolo8-combined-dataset\\labels.jpg... \n",
      "\u001b[34m\u001b[1moptimizer:\u001b[0m 'optimizer=auto' found, ignoring 'lr0=0.01' and 'momentum=0.937' and determining best 'optimizer', 'lr0' and 'momentum' automatically... \n",
      "\u001b[34m\u001b[1moptimizer:\u001b[0m SGD(lr=0.01, momentum=0.9) with parameter groups 57 weight(decay=0.0), 64 weight(decay=0.0005), 63 bias(decay=0.0)\n",
      "Image sizes 640 train, 640 val\n",
      "Using 8 dataloader workers\n",
      "Logging results to \u001b[1mruns\\detect\\yolo8-combined-dataset\u001b[0m\n",
      "Starting training for 100 epochs...\n",
      "\n",
      "      Epoch    GPU_mem   box_loss   cls_loss   dfl_loss  Instances       Size\n"
     ]
    },
    {
     "name": "stderr",
     "output_type": "stream",
     "text": [
      "      1/100      2.24G      1.316      4.346      1.601         77        640: 100%|██████████| 578/578 [01:12<00:00,  7.92it/s]\n",
      "                 Class     Images  Instances      Box(P          R      mAP50  mAP50-95): 100%|██████████| 48/48 [00:08<00:00,  5.63it/s]"
     ]
    },
    {
     "name": "stdout",
     "output_type": "stream",
     "text": [
      "                   all       1532       4763      0.332     0.0765     0.0439     0.0245\n"
     ]
    },
    {
     "name": "stderr",
     "output_type": "stream",
     "text": [
      "\n"
     ]
    },
    {
     "name": "stdout",
     "output_type": "stream",
     "text": [
      "\n",
      "      Epoch    GPU_mem   box_loss   cls_loss   dfl_loss  Instances       Size\n"
     ]
    },
    {
     "name": "stderr",
     "output_type": "stream",
     "text": [
      "      2/100      2.38G      1.413       3.54      1.701         70        640: 100%|██████████| 578/578 [01:05<00:00,  8.88it/s]\n",
      "                 Class     Images  Instances      Box(P          R      mAP50  mAP50-95): 100%|██████████| 48/48 [00:08<00:00,  5.83it/s]\n"
     ]
    },
    {
     "name": "stdout",
     "output_type": "stream",
     "text": [
      "                   all       1532       4763      0.281      0.237      0.139     0.0768\n",
      "\n",
      "      Epoch    GPU_mem   box_loss   cls_loss   dfl_loss  Instances       Size\n"
     ]
    },
    {
     "name": "stderr",
     "output_type": "stream",
     "text": [
      "      3/100      2.39G      1.467      3.174      1.697         73        640: 100%|██████████| 578/578 [01:03<00:00,  9.06it/s]\n",
      "                 Class     Images  Instances      Box(P          R      mAP50  mAP50-95): 100%|██████████| 48/48 [00:08<00:00,  5.79it/s]\n"
     ]
    },
    {
     "name": "stdout",
     "output_type": "stream",
     "text": [
      "                   all       1532       4763      0.228      0.216      0.121     0.0624\n",
      "\n",
      "      Epoch    GPU_mem   box_loss   cls_loss   dfl_loss  Instances       Size\n"
     ]
    },
    {
     "name": "stderr",
     "output_type": "stream",
     "text": [
      "      4/100       2.2G      1.494      3.055      1.696         77        640: 100%|██████████| 578/578 [01:02<00:00,  9.31it/s]\n",
      "                 Class     Images  Instances      Box(P          R      mAP50  mAP50-95): 100%|██████████| 48/48 [00:07<00:00,  6.12it/s]\n"
     ]
    },
    {
     "name": "stdout",
     "output_type": "stream",
     "text": [
      "                   all       1532       4763      0.271      0.246      0.144     0.0816\n",
      "\n",
      "      Epoch    GPU_mem   box_loss   cls_loss   dfl_loss  Instances       Size\n"
     ]
    },
    {
     "name": "stderr",
     "output_type": "stream",
     "text": [
      "      5/100       2.2G      1.463       2.83      1.656         86        640: 100%|██████████| 578/578 [01:03<00:00,  9.06it/s]\n",
      "                 Class     Images  Instances      Box(P          R      mAP50  mAP50-95): 100%|██████████| 48/48 [00:07<00:00,  6.05it/s]\n"
     ]
    },
    {
     "name": "stdout",
     "output_type": "stream",
     "text": [
      "                   all       1532       4763      0.295      0.317       0.24      0.134\n",
      "\n",
      "      Epoch    GPU_mem   box_loss   cls_loss   dfl_loss  Instances       Size\n"
     ]
    },
    {
     "name": "stderr",
     "output_type": "stream",
     "text": [
      "      6/100      2.39G      1.436      2.653      1.628         49        640: 100%|██████████| 578/578 [01:03<00:00,  9.10it/s]\n",
      "                 Class     Images  Instances      Box(P          R      mAP50  mAP50-95): 100%|██████████| 48/48 [00:07<00:00,  6.20it/s]\n"
     ]
    },
    {
     "name": "stdout",
     "output_type": "stream",
     "text": [
      "                   all       1532       4763      0.358      0.313      0.267      0.146\n",
      "\n",
      "      Epoch    GPU_mem   box_loss   cls_loss   dfl_loss  Instances       Size\n"
     ]
    },
    {
     "name": "stderr",
     "output_type": "stream",
     "text": [
      "      7/100      2.38G      1.425      2.511      1.611         92        640: 100%|██████████| 578/578 [01:03<00:00,  9.09it/s]\n",
      "                 Class     Images  Instances      Box(P          R      mAP50  mAP50-95): 100%|██████████| 48/48 [00:07<00:00,  6.03it/s]\n"
     ]
    },
    {
     "name": "stdout",
     "output_type": "stream",
     "text": [
      "                   all       1532       4763      0.376      0.396      0.326      0.185\n",
      "\n",
      "      Epoch    GPU_mem   box_loss   cls_loss   dfl_loss  Instances       Size\n"
     ]
    },
    {
     "name": "stderr",
     "output_type": "stream",
     "text": [
      "      8/100       2.2G      1.404      2.366      1.592         62        640: 100%|██████████| 578/578 [01:03<00:00,  9.12it/s]\n",
      "                 Class     Images  Instances      Box(P          R      mAP50  mAP50-95): 100%|██████████| 48/48 [00:08<00:00,  5.95it/s]\n"
     ]
    },
    {
     "name": "stdout",
     "output_type": "stream",
     "text": [
      "                   all       1532       4763       0.44      0.412      0.374      0.224\n",
      "\n",
      "      Epoch    GPU_mem   box_loss   cls_loss   dfl_loss  Instances       Size\n"
     ]
    },
    {
     "name": "stderr",
     "output_type": "stream",
     "text": [
      "      9/100      2.39G      1.388      2.255      1.576         52        640: 100%|██████████| 578/578 [01:02<00:00,  9.30it/s]\n",
      "                 Class     Images  Instances      Box(P          R      mAP50  mAP50-95): 100%|██████████| 48/48 [00:07<00:00,  6.14it/s]\n"
     ]
    },
    {
     "name": "stdout",
     "output_type": "stream",
     "text": [
      "                   all       1532       4763      0.402      0.384      0.354      0.204\n",
      "\n",
      "      Epoch    GPU_mem   box_loss   cls_loss   dfl_loss  Instances       Size\n"
     ]
    },
    {
     "name": "stderr",
     "output_type": "stream",
     "text": [
      "     10/100       2.2G      1.382      2.182      1.573         58        640: 100%|██████████| 578/578 [01:02<00:00,  9.23it/s]\n",
      "                 Class     Images  Instances      Box(P          R      mAP50  mAP50-95): 100%|██████████| 48/48 [00:07<00:00,  6.03it/s]\n"
     ]
    },
    {
     "name": "stdout",
     "output_type": "stream",
     "text": [
      "                   all       1532       4763      0.456      0.437       0.42      0.253\n",
      "\n",
      "      Epoch    GPU_mem   box_loss   cls_loss   dfl_loss  Instances       Size\n"
     ]
    },
    {
     "name": "stderr",
     "output_type": "stream",
     "text": [
      "     11/100      2.38G      1.378      2.113       1.56         80        640: 100%|██████████| 578/578 [01:02<00:00,  9.20it/s]\n",
      "                 Class     Images  Instances      Box(P          R      mAP50  mAP50-95): 100%|██████████| 48/48 [00:07<00:00,  6.17it/s]\n"
     ]
    },
    {
     "name": "stdout",
     "output_type": "stream",
     "text": [
      "                   all       1532       4763      0.538      0.432      0.445      0.269\n",
      "\n",
      "      Epoch    GPU_mem   box_loss   cls_loss   dfl_loss  Instances       Size\n"
     ]
    },
    {
     "name": "stderr",
     "output_type": "stream",
     "text": [
      "     12/100      2.38G      1.352      2.024      1.549         48        640: 100%|██████████| 578/578 [01:02<00:00,  9.31it/s]\n",
      "                 Class     Images  Instances      Box(P          R      mAP50  mAP50-95): 100%|██████████| 48/48 [00:07<00:00,  6.21it/s]\n"
     ]
    },
    {
     "name": "stdout",
     "output_type": "stream",
     "text": [
      "                   all       1532       4763      0.497      0.444      0.444      0.263\n",
      "\n",
      "      Epoch    GPU_mem   box_loss   cls_loss   dfl_loss  Instances       Size\n"
     ]
    },
    {
     "name": "stderr",
     "output_type": "stream",
     "text": [
      "     13/100      2.38G      1.348      1.969      1.537         62        640: 100%|██████████| 578/578 [01:02<00:00,  9.30it/s]\n",
      "                 Class     Images  Instances      Box(P          R      mAP50  mAP50-95): 100%|██████████| 48/48 [00:07<00:00,  6.16it/s]\n"
     ]
    },
    {
     "name": "stdout",
     "output_type": "stream",
     "text": [
      "                   all       1532       4763      0.464       0.45      0.441      0.267\n",
      "\n",
      "      Epoch    GPU_mem   box_loss   cls_loss   dfl_loss  Instances       Size\n"
     ]
    },
    {
     "name": "stderr",
     "output_type": "stream",
     "text": [
      "     14/100      2.38G      1.342       1.93      1.531         58        640: 100%|██████████| 578/578 [01:02<00:00,  9.32it/s]\n",
      "                 Class     Images  Instances      Box(P          R      mAP50  mAP50-95): 100%|██████████| 48/48 [00:07<00:00,  6.25it/s]\n"
     ]
    },
    {
     "name": "stdout",
     "output_type": "stream",
     "text": [
      "                   all       1532       4763      0.487      0.505      0.475      0.288\n",
      "\n",
      "      Epoch    GPU_mem   box_loss   cls_loss   dfl_loss  Instances       Size\n"
     ]
    },
    {
     "name": "stderr",
     "output_type": "stream",
     "text": [
      "     15/100       2.3G      1.333      1.881      1.522         86        640: 100%|██████████| 578/578 [01:02<00:00,  9.29it/s]\n",
      "                 Class     Images  Instances      Box(P          R      mAP50  mAP50-95): 100%|██████████| 48/48 [00:07<00:00,  6.26it/s]\n"
     ]
    },
    {
     "name": "stdout",
     "output_type": "stream",
     "text": [
      "                   all       1532       4763      0.431      0.478      0.424      0.253\n",
      "\n",
      "      Epoch    GPU_mem   box_loss   cls_loss   dfl_loss  Instances       Size\n"
     ]
    },
    {
     "name": "stderr",
     "output_type": "stream",
     "text": [
      "     16/100      2.19G      1.324       1.84       1.52         54        640: 100%|██████████| 578/578 [01:02<00:00,  9.30it/s]\n",
      "                 Class     Images  Instances      Box(P          R      mAP50  mAP50-95): 100%|██████████| 48/48 [00:07<00:00,  6.25it/s]\n"
     ]
    },
    {
     "name": "stdout",
     "output_type": "stream",
     "text": [
      "                   all       1532       4763      0.524      0.478      0.489      0.301\n",
      "\n",
      "      Epoch    GPU_mem   box_loss   cls_loss   dfl_loss  Instances       Size\n"
     ]
    },
    {
     "name": "stderr",
     "output_type": "stream",
     "text": [
      "     17/100      2.19G      1.313      1.789      1.508         64        640: 100%|██████████| 578/578 [01:02<00:00,  9.32it/s]\n",
      "                 Class     Images  Instances      Box(P          R      mAP50  mAP50-95): 100%|██████████| 48/48 [00:07<00:00,  6.23it/s]\n"
     ]
    },
    {
     "name": "stdout",
     "output_type": "stream",
     "text": [
      "                   all       1532       4763      0.568      0.481      0.515      0.316\n",
      "\n",
      "      Epoch    GPU_mem   box_loss   cls_loss   dfl_loss  Instances       Size\n"
     ]
    },
    {
     "name": "stderr",
     "output_type": "stream",
     "text": [
      "     18/100      2.38G      1.309      1.768      1.513         54        640: 100%|██████████| 578/578 [01:02<00:00,  9.32it/s]\n",
      "                 Class     Images  Instances      Box(P          R      mAP50  mAP50-95): 100%|██████████| 48/48 [00:07<00:00,  6.18it/s]\n"
     ]
    },
    {
     "name": "stdout",
     "output_type": "stream",
     "text": [
      "                   all       1532       4763      0.528      0.519       0.53      0.324\n",
      "\n",
      "      Epoch    GPU_mem   box_loss   cls_loss   dfl_loss  Instances       Size\n"
     ]
    },
    {
     "name": "stderr",
     "output_type": "stream",
     "text": [
      "     19/100      2.19G        1.3      1.727      1.501         43        640: 100%|██████████| 578/578 [01:01<00:00,  9.32it/s]\n",
      "                 Class     Images  Instances      Box(P          R      mAP50  mAP50-95): 100%|██████████| 48/48 [00:07<00:00,  6.20it/s]\n"
     ]
    },
    {
     "name": "stdout",
     "output_type": "stream",
     "text": [
      "                   all       1532       4763      0.578      0.504      0.542      0.336\n",
      "\n",
      "      Epoch    GPU_mem   box_loss   cls_loss   dfl_loss  Instances       Size\n"
     ]
    },
    {
     "name": "stderr",
     "output_type": "stream",
     "text": [
      "     20/100      2.38G      1.298       1.68      1.491         65        640: 100%|██████████| 578/578 [01:01<00:00,  9.38it/s]\n",
      "                 Class     Images  Instances      Box(P          R      mAP50  mAP50-95): 100%|██████████| 48/48 [00:07<00:00,  6.21it/s]\n"
     ]
    },
    {
     "name": "stdout",
     "output_type": "stream",
     "text": [
      "                   all       1532       4763      0.568      0.513      0.532      0.325\n",
      "\n",
      "      Epoch    GPU_mem   box_loss   cls_loss   dfl_loss  Instances       Size\n"
     ]
    },
    {
     "name": "stderr",
     "output_type": "stream",
     "text": [
      "     21/100      2.38G      1.287      1.644      1.489         64        640: 100%|██████████| 578/578 [01:01<00:00,  9.37it/s]\n",
      "                 Class     Images  Instances      Box(P          R      mAP50  mAP50-95): 100%|██████████| 48/48 [00:08<00:00,  5.73it/s]\n"
     ]
    },
    {
     "name": "stdout",
     "output_type": "stream",
     "text": [
      "                   all       1532       4763      0.579      0.524       0.55       0.34\n",
      "\n",
      "      Epoch    GPU_mem   box_loss   cls_loss   dfl_loss  Instances       Size\n"
     ]
    },
    {
     "name": "stderr",
     "output_type": "stream",
     "text": [
      "     22/100      2.38G      1.284      1.633      1.486         73        640: 100%|██████████| 578/578 [01:02<00:00,  9.31it/s]\n",
      "                 Class     Images  Instances      Box(P          R      mAP50  mAP50-95): 100%|██████████| 48/48 [00:07<00:00,  6.23it/s]\n"
     ]
    },
    {
     "name": "stdout",
     "output_type": "stream",
     "text": [
      "                   all       1532       4763      0.575      0.551      0.561      0.352\n",
      "\n",
      "      Epoch    GPU_mem   box_loss   cls_loss   dfl_loss  Instances       Size\n"
     ]
    },
    {
     "name": "stderr",
     "output_type": "stream",
     "text": [
      "     23/100      2.38G      1.278      1.592      1.478         69        640: 100%|██████████| 578/578 [01:02<00:00,  9.30it/s]\n",
      "                 Class     Images  Instances      Box(P          R      mAP50  mAP50-95): 100%|██████████| 48/48 [00:07<00:00,  6.25it/s]\n"
     ]
    },
    {
     "name": "stdout",
     "output_type": "stream",
     "text": [
      "                   all       1532       4763      0.585      0.561      0.582      0.362\n",
      "\n",
      "      Epoch    GPU_mem   box_loss   cls_loss   dfl_loss  Instances       Size\n"
     ]
    },
    {
     "name": "stderr",
     "output_type": "stream",
     "text": [
      "     24/100      2.38G      1.274      1.572      1.476         52        640: 100%|██████████| 578/578 [01:02<00:00,  9.26it/s]\n",
      "                 Class     Images  Instances      Box(P          R      mAP50  mAP50-95): 100%|██████████| 48/48 [00:07<00:00,  6.25it/s]\n"
     ]
    },
    {
     "name": "stdout",
     "output_type": "stream",
     "text": [
      "                   all       1532       4763      0.636       0.58      0.607      0.377\n",
      "\n",
      "      Epoch    GPU_mem   box_loss   cls_loss   dfl_loss  Instances       Size\n"
     ]
    },
    {
     "name": "stderr",
     "output_type": "stream",
     "text": [
      "     25/100      2.38G      1.268      1.547      1.465         48        640: 100%|██████████| 578/578 [01:02<00:00,  9.27it/s]\n",
      "                 Class     Images  Instances      Box(P          R      mAP50  mAP50-95): 100%|██████████| 48/48 [00:07<00:00,  6.25it/s]\n"
     ]
    },
    {
     "name": "stdout",
     "output_type": "stream",
     "text": [
      "                   all       1532       4763       0.62      0.557      0.585      0.365\n",
      "\n",
      "      Epoch    GPU_mem   box_loss   cls_loss   dfl_loss  Instances       Size\n"
     ]
    },
    {
     "name": "stderr",
     "output_type": "stream",
     "text": [
      "     26/100      2.38G      1.253      1.522      1.464         59        640: 100%|██████████| 578/578 [01:02<00:00,  9.26it/s]\n",
      "                 Class     Images  Instances      Box(P          R      mAP50  mAP50-95): 100%|██████████| 48/48 [00:07<00:00,  6.25it/s]\n"
     ]
    },
    {
     "name": "stdout",
     "output_type": "stream",
     "text": [
      "                   all       1532       4763      0.646      0.597      0.628      0.394\n",
      "\n",
      "      Epoch    GPU_mem   box_loss   cls_loss   dfl_loss  Instances       Size\n"
     ]
    },
    {
     "name": "stderr",
     "output_type": "stream",
     "text": [
      "     27/100      2.38G       1.26      1.503      1.461         94        640: 100%|██████████| 578/578 [01:02<00:00,  9.28it/s]\n",
      "                 Class     Images  Instances      Box(P          R      mAP50  mAP50-95): 100%|██████████| 48/48 [00:07<00:00,  6.30it/s]\n"
     ]
    },
    {
     "name": "stdout",
     "output_type": "stream",
     "text": [
      "                   all       1532       4763      0.622      0.581      0.625      0.393\n",
      "\n",
      "      Epoch    GPU_mem   box_loss   cls_loss   dfl_loss  Instances       Size\n"
     ]
    },
    {
     "name": "stderr",
     "output_type": "stream",
     "text": [
      "     28/100      2.38G      1.246      1.482      1.453         59        640: 100%|██████████| 578/578 [01:02<00:00,  9.29it/s]\n",
      "                 Class     Images  Instances      Box(P          R      mAP50  mAP50-95): 100%|██████████| 48/48 [00:07<00:00,  6.30it/s]\n"
     ]
    },
    {
     "name": "stdout",
     "output_type": "stream",
     "text": [
      "                   all       1532       4763      0.634      0.589       0.63        0.4\n",
      "\n",
      "      Epoch    GPU_mem   box_loss   cls_loss   dfl_loss  Instances       Size\n"
     ]
    },
    {
     "name": "stderr",
     "output_type": "stream",
     "text": [
      "     29/100      2.19G      1.242      1.447      1.445         57        640: 100%|██████████| 578/578 [01:02<00:00,  9.30it/s]\n",
      "                 Class     Images  Instances      Box(P          R      mAP50  mAP50-95): 100%|██████████| 48/48 [00:07<00:00,  6.29it/s]\n"
     ]
    },
    {
     "name": "stdout",
     "output_type": "stream",
     "text": [
      "                   all       1532       4763       0.64      0.591      0.626      0.396\n",
      "\n",
      "      Epoch    GPU_mem   box_loss   cls_loss   dfl_loss  Instances       Size\n"
     ]
    },
    {
     "name": "stderr",
     "output_type": "stream",
     "text": [
      "     30/100      2.38G      1.235      1.448      1.447         67        640: 100%|██████████| 578/578 [01:02<00:00,  9.28it/s]\n",
      "                 Class     Images  Instances      Box(P          R      mAP50  mAP50-95): 100%|██████████| 48/48 [00:07<00:00,  6.26it/s]\n"
     ]
    },
    {
     "name": "stdout",
     "output_type": "stream",
     "text": [
      "                   all       1532       4763      0.649       0.58      0.627      0.401\n",
      "\n",
      "      Epoch    GPU_mem   box_loss   cls_loss   dfl_loss  Instances       Size\n"
     ]
    },
    {
     "name": "stderr",
     "output_type": "stream",
     "text": [
      "     31/100      2.19G      1.235      1.424      1.445         55        640: 100%|██████████| 578/578 [01:02<00:00,  9.29it/s]\n",
      "                 Class     Images  Instances      Box(P          R      mAP50  mAP50-95): 100%|██████████| 48/48 [00:07<00:00,  6.18it/s]\n"
     ]
    },
    {
     "name": "stdout",
     "output_type": "stream",
     "text": [
      "                   all       1532       4763      0.674      0.609      0.644      0.411\n",
      "\n",
      "      Epoch    GPU_mem   box_loss   cls_loss   dfl_loss  Instances       Size\n"
     ]
    },
    {
     "name": "stderr",
     "output_type": "stream",
     "text": [
      "     32/100      2.29G      1.233      1.389      1.442         53        640: 100%|██████████| 578/578 [01:02<00:00,  9.28it/s]\n",
      "                 Class     Images  Instances      Box(P          R      mAP50  mAP50-95): 100%|██████████| 48/48 [00:07<00:00,  6.18it/s]\n"
     ]
    },
    {
     "name": "stdout",
     "output_type": "stream",
     "text": [
      "                   all       1532       4763      0.642      0.612      0.641      0.415\n",
      "\n",
      "      Epoch    GPU_mem   box_loss   cls_loss   dfl_loss  Instances       Size\n"
     ]
    },
    {
     "name": "stderr",
     "output_type": "stream",
     "text": [
      "     33/100      2.19G      1.222      1.382      1.435         69        640: 100%|██████████| 578/578 [01:02<00:00,  9.21it/s]\n",
      "                 Class     Images  Instances      Box(P          R      mAP50  mAP50-95): 100%|██████████| 48/48 [00:07<00:00,  6.17it/s]\n"
     ]
    },
    {
     "name": "stdout",
     "output_type": "stream",
     "text": [
      "                   all       1532       4763      0.634      0.621       0.65      0.418\n",
      "\n",
      "      Epoch    GPU_mem   box_loss   cls_loss   dfl_loss  Instances       Size\n"
     ]
    },
    {
     "name": "stderr",
     "output_type": "stream",
     "text": [
      "     34/100      2.38G       1.22      1.375      1.435         83        640: 100%|██████████| 578/578 [01:02<00:00,  9.31it/s]\n",
      "                 Class     Images  Instances      Box(P          R      mAP50  mAP50-95): 100%|██████████| 48/48 [00:07<00:00,  6.19it/s]\n"
     ]
    },
    {
     "name": "stdout",
     "output_type": "stream",
     "text": [
      "                   all       1532       4763      0.643      0.595      0.634      0.403\n",
      "\n",
      "      Epoch    GPU_mem   box_loss   cls_loss   dfl_loss  Instances       Size\n"
     ]
    },
    {
     "name": "stderr",
     "output_type": "stream",
     "text": [
      "     35/100      2.38G       1.21      1.342      1.425         59        640: 100%|██████████| 578/578 [01:02<00:00,  9.32it/s]\n",
      "                 Class     Images  Instances      Box(P          R      mAP50  mAP50-95): 100%|██████████| 48/48 [00:07<00:00,  6.28it/s]\n"
     ]
    },
    {
     "name": "stdout",
     "output_type": "stream",
     "text": [
      "                   all       1532       4763       0.67      0.611       0.65      0.414\n",
      "\n",
      "      Epoch    GPU_mem   box_loss   cls_loss   dfl_loss  Instances       Size\n"
     ]
    },
    {
     "name": "stderr",
     "output_type": "stream",
     "text": [
      "     36/100      2.29G      1.212      1.333      1.427         50        640: 100%|██████████| 578/578 [01:02<00:00,  9.32it/s]\n",
      "                 Class     Images  Instances      Box(P          R      mAP50  mAP50-95): 100%|██████████| 48/48 [00:07<00:00,  6.25it/s]\n"
     ]
    },
    {
     "name": "stdout",
     "output_type": "stream",
     "text": [
      "                   all       1532       4763      0.643      0.634      0.663      0.428\n",
      "\n",
      "      Epoch    GPU_mem   box_loss   cls_loss   dfl_loss  Instances       Size\n"
     ]
    },
    {
     "name": "stderr",
     "output_type": "stream",
     "text": [
      "     37/100      2.19G      1.208      1.319       1.42         61        640: 100%|██████████| 578/578 [01:02<00:00,  9.26it/s]\n",
      "                 Class     Images  Instances      Box(P          R      mAP50  mAP50-95): 100%|██████████| 48/48 [00:07<00:00,  6.35it/s]\n"
     ]
    },
    {
     "name": "stdout",
     "output_type": "stream",
     "text": [
      "                   all       1532       4763       0.65      0.631      0.669      0.428\n",
      "\n",
      "      Epoch    GPU_mem   box_loss   cls_loss   dfl_loss  Instances       Size\n"
     ]
    },
    {
     "name": "stderr",
     "output_type": "stream",
     "text": [
      "     38/100      2.38G      1.194      1.296      1.413        129        640: 100%|██████████| 578/578 [01:02<00:00,  9.30it/s]\n",
      "                 Class     Images  Instances      Box(P          R      mAP50  mAP50-95): 100%|██████████| 48/48 [00:07<00:00,  6.37it/s]\n"
     ]
    },
    {
     "name": "stdout",
     "output_type": "stream",
     "text": [
      "                   all       1532       4763      0.661      0.631      0.668      0.433\n",
      "\n",
      "      Epoch    GPU_mem   box_loss   cls_loss   dfl_loss  Instances       Size\n"
     ]
    },
    {
     "name": "stderr",
     "output_type": "stream",
     "text": [
      "     39/100      2.29G      1.195      1.281      1.415         61        640: 100%|██████████| 578/578 [01:02<00:00,  9.30it/s]\n",
      "                 Class     Images  Instances      Box(P          R      mAP50  mAP50-95): 100%|██████████| 48/48 [00:07<00:00,  6.31it/s]\n"
     ]
    },
    {
     "name": "stdout",
     "output_type": "stream",
     "text": [
      "                   all       1532       4763      0.695      0.629      0.679      0.435\n",
      "\n",
      "      Epoch    GPU_mem   box_loss   cls_loss   dfl_loss  Instances       Size\n"
     ]
    },
    {
     "name": "stderr",
     "output_type": "stream",
     "text": [
      "     40/100      2.38G      1.196      1.284      1.411         45        640: 100%|██████████| 578/578 [01:02<00:00,  9.28it/s]\n",
      "                 Class     Images  Instances      Box(P          R      mAP50  mAP50-95): 100%|██████████| 48/48 [00:07<00:00,  6.33it/s]\n"
     ]
    },
    {
     "name": "stdout",
     "output_type": "stream",
     "text": [
      "                   all       1532       4763      0.684      0.644      0.683       0.44\n",
      "\n",
      "      Epoch    GPU_mem   box_loss   cls_loss   dfl_loss  Instances       Size\n"
     ]
    },
    {
     "name": "stderr",
     "output_type": "stream",
     "text": [
      "     41/100      2.19G      1.187       1.27      1.409         54        640: 100%|██████████| 578/578 [01:02<00:00,  9.30it/s]\n",
      "                 Class     Images  Instances      Box(P          R      mAP50  mAP50-95): 100%|██████████| 48/48 [00:07<00:00,  6.26it/s]\n"
     ]
    },
    {
     "name": "stdout",
     "output_type": "stream",
     "text": [
      "                   all       1532       4763      0.693      0.648      0.689      0.447\n",
      "\n",
      "      Epoch    GPU_mem   box_loss   cls_loss   dfl_loss  Instances       Size\n"
     ]
    },
    {
     "name": "stderr",
     "output_type": "stream",
     "text": [
      "     42/100      2.19G      1.188      1.255      1.409         93        640: 100%|██████████| 578/578 [01:02<00:00,  9.32it/s]\n",
      "                 Class     Images  Instances      Box(P          R      mAP50  mAP50-95): 100%|██████████| 48/48 [00:07<00:00,  6.32it/s]\n"
     ]
    },
    {
     "name": "stdout",
     "output_type": "stream",
     "text": [
      "                   all       1532       4763        0.7      0.652      0.695      0.454\n",
      "\n",
      "      Epoch    GPU_mem   box_loss   cls_loss   dfl_loss  Instances       Size\n"
     ]
    },
    {
     "name": "stderr",
     "output_type": "stream",
     "text": [
      "     43/100      2.19G      1.182      1.233      1.402         62        640: 100%|██████████| 578/578 [01:01<00:00,  9.38it/s]\n",
      "                 Class     Images  Instances      Box(P          R      mAP50  mAP50-95): 100%|██████████| 48/48 [00:07<00:00,  6.32it/s]\n"
     ]
    },
    {
     "name": "stdout",
     "output_type": "stream",
     "text": [
      "                   all       1532       4763      0.709      0.638      0.697      0.454\n",
      "\n",
      "      Epoch    GPU_mem   box_loss   cls_loss   dfl_loss  Instances       Size\n"
     ]
    },
    {
     "name": "stderr",
     "output_type": "stream",
     "text": [
      "     44/100      2.19G      1.173      1.211      1.395         40        640: 100%|██████████| 578/578 [01:01<00:00,  9.38it/s]\n",
      "                 Class     Images  Instances      Box(P          R      mAP50  mAP50-95): 100%|██████████| 48/48 [00:07<00:00,  6.32it/s]\n"
     ]
    },
    {
     "name": "stdout",
     "output_type": "stream",
     "text": [
      "                   all       1532       4763      0.708       0.65      0.698      0.455\n",
      "\n",
      "      Epoch    GPU_mem   box_loss   cls_loss   dfl_loss  Instances       Size\n"
     ]
    },
    {
     "name": "stderr",
     "output_type": "stream",
     "text": [
      "     45/100      2.19G      1.166      1.198      1.387         75        640: 100%|██████████| 578/578 [01:01<00:00,  9.39it/s]\n",
      "                 Class     Images  Instances      Box(P          R      mAP50  mAP50-95): 100%|██████████| 48/48 [00:07<00:00,  6.27it/s]\n"
     ]
    },
    {
     "name": "stdout",
     "output_type": "stream",
     "text": [
      "                   all       1532       4763      0.718      0.636      0.698      0.461\n",
      "\n",
      "      Epoch    GPU_mem   box_loss   cls_loss   dfl_loss  Instances       Size\n"
     ]
    },
    {
     "name": "stderr",
     "output_type": "stream",
     "text": [
      "     46/100      2.38G      1.172      1.205      1.393         69        640: 100%|██████████| 578/578 [01:01<00:00,  9.39it/s]\n",
      "                 Class     Images  Instances      Box(P          R      mAP50  mAP50-95): 100%|██████████| 48/48 [00:07<00:00,  6.24it/s]\n"
     ]
    },
    {
     "name": "stdout",
     "output_type": "stream",
     "text": [
      "                   all       1532       4763      0.712      0.657      0.701      0.458\n",
      "\n",
      "      Epoch    GPU_mem   box_loss   cls_loss   dfl_loss  Instances       Size\n"
     ]
    },
    {
     "name": "stderr",
     "output_type": "stream",
     "text": [
      "     47/100      2.19G      1.167      1.194      1.387         70        640: 100%|██████████| 578/578 [01:01<00:00,  9.38it/s]\n",
      "                 Class     Images  Instances      Box(P          R      mAP50  mAP50-95): 100%|██████████| 48/48 [00:07<00:00,  6.15it/s]\n"
     ]
    },
    {
     "name": "stdout",
     "output_type": "stream",
     "text": [
      "                   all       1532       4763      0.722      0.632      0.695      0.455\n",
      "\n",
      "      Epoch    GPU_mem   box_loss   cls_loss   dfl_loss  Instances       Size\n"
     ]
    },
    {
     "name": "stderr",
     "output_type": "stream",
     "text": [
      "     48/100      2.38G      1.159      1.181      1.382         52        640: 100%|██████████| 578/578 [01:01<00:00,  9.39it/s]\n",
      "                 Class     Images  Instances      Box(P          R      mAP50  mAP50-95): 100%|██████████| 48/48 [00:07<00:00,  6.25it/s]\n"
     ]
    },
    {
     "name": "stdout",
     "output_type": "stream",
     "text": [
      "                   all       1532       4763       0.72      0.656       0.71      0.467\n",
      "\n",
      "      Epoch    GPU_mem   box_loss   cls_loss   dfl_loss  Instances       Size\n"
     ]
    },
    {
     "name": "stderr",
     "output_type": "stream",
     "text": [
      "     49/100      2.19G       1.16      1.162      1.383         68        640: 100%|██████████| 578/578 [01:01<00:00,  9.38it/s]\n",
      "                 Class     Images  Instances      Box(P          R      mAP50  mAP50-95): 100%|██████████| 48/48 [00:07<00:00,  6.29it/s]\n"
     ]
    },
    {
     "name": "stdout",
     "output_type": "stream",
     "text": [
      "                   all       1532       4763      0.746      0.662       0.72      0.471\n",
      "\n",
      "      Epoch    GPU_mem   box_loss   cls_loss   dfl_loss  Instances       Size\n"
     ]
    },
    {
     "name": "stderr",
     "output_type": "stream",
     "text": [
      "     50/100      2.38G       1.15      1.138      1.375         45        640: 100%|██████████| 578/578 [01:02<00:00,  9.22it/s]\n",
      "                 Class     Images  Instances      Box(P          R      mAP50  mAP50-95): 100%|██████████| 48/48 [00:07<00:00,  6.39it/s]\n"
     ]
    },
    {
     "name": "stdout",
     "output_type": "stream",
     "text": [
      "                   all       1532       4763      0.734      0.648      0.715      0.469\n",
      "\n",
      "      Epoch    GPU_mem   box_loss   cls_loss   dfl_loss  Instances       Size\n"
     ]
    },
    {
     "name": "stderr",
     "output_type": "stream",
     "text": [
      "     51/100      2.38G      1.143      1.146      1.374         67        640: 100%|██████████| 578/578 [01:02<00:00,  9.30it/s]\n",
      "                 Class     Images  Instances      Box(P          R      mAP50  mAP50-95): 100%|██████████| 48/48 [00:07<00:00,  6.29it/s]\n"
     ]
    },
    {
     "name": "stdout",
     "output_type": "stream",
     "text": [
      "                   all       1532       4763      0.709      0.652      0.709      0.467\n",
      "\n",
      "      Epoch    GPU_mem   box_loss   cls_loss   dfl_loss  Instances       Size\n"
     ]
    },
    {
     "name": "stderr",
     "output_type": "stream",
     "text": [
      "     52/100      2.38G      1.142      1.115      1.367         61        640: 100%|██████████| 578/578 [01:07<00:00,  8.56it/s]\n",
      "                 Class     Images  Instances      Box(P          R      mAP50  mAP50-95): 100%|██████████| 48/48 [00:08<00:00,  5.61it/s]\n"
     ]
    },
    {
     "name": "stdout",
     "output_type": "stream",
     "text": [
      "                   all       1532       4763      0.708      0.655      0.709       0.47\n",
      "\n",
      "      Epoch    GPU_mem   box_loss   cls_loss   dfl_loss  Instances       Size\n"
     ]
    },
    {
     "name": "stderr",
     "output_type": "stream",
     "text": [
      "     53/100      2.38G      1.136      1.119      1.362         75        640: 100%|██████████| 578/578 [01:11<00:00,  8.09it/s]\n",
      "                 Class     Images  Instances      Box(P          R      mAP50  mAP50-95): 100%|██████████| 48/48 [00:08<00:00,  5.67it/s]\n"
     ]
    },
    {
     "name": "stdout",
     "output_type": "stream",
     "text": [
      "                   all       1532       4763      0.746      0.658      0.723      0.475\n",
      "\n",
      "      Epoch    GPU_mem   box_loss   cls_loss   dfl_loss  Instances       Size\n"
     ]
    },
    {
     "name": "stderr",
     "output_type": "stream",
     "text": [
      "     54/100      2.38G      1.132      1.105      1.362         42        640: 100%|██████████| 578/578 [01:09<00:00,  8.32it/s]\n",
      "                 Class     Images  Instances      Box(P          R      mAP50  mAP50-95): 100%|██████████| 48/48 [00:08<00:00,  5.78it/s]\n"
     ]
    },
    {
     "name": "stdout",
     "output_type": "stream",
     "text": [
      "                   all       1532       4763      0.733      0.664      0.724      0.477\n",
      "\n",
      "      Epoch    GPU_mem   box_loss   cls_loss   dfl_loss  Instances       Size\n"
     ]
    },
    {
     "name": "stderr",
     "output_type": "stream",
     "text": [
      "     55/100      2.19G      1.139      1.115      1.368         71        640: 100%|██████████| 578/578 [01:09<00:00,  8.31it/s]\n",
      "                 Class     Images  Instances      Box(P          R      mAP50  mAP50-95): 100%|██████████| 48/48 [00:08<00:00,  5.65it/s]\n"
     ]
    },
    {
     "name": "stdout",
     "output_type": "stream",
     "text": [
      "                   all       1532       4763      0.721      0.663       0.72      0.477\n",
      "\n",
      "      Epoch    GPU_mem   box_loss   cls_loss   dfl_loss  Instances       Size\n"
     ]
    },
    {
     "name": "stderr",
     "output_type": "stream",
     "text": [
      "     56/100      2.38G      1.134      1.095       1.36         46        640: 100%|██████████| 578/578 [01:09<00:00,  8.30it/s]\n",
      "                 Class     Images  Instances      Box(P          R      mAP50  mAP50-95): 100%|██████████| 48/48 [00:08<00:00,  5.76it/s]\n"
     ]
    },
    {
     "name": "stdout",
     "output_type": "stream",
     "text": [
      "                   all       1532       4763      0.709       0.68      0.722      0.476\n",
      "\n",
      "      Epoch    GPU_mem   box_loss   cls_loss   dfl_loss  Instances       Size\n"
     ]
    },
    {
     "name": "stderr",
     "output_type": "stream",
     "text": [
      "     57/100      2.38G       1.13      1.076      1.357         53        640: 100%|██████████| 578/578 [01:09<00:00,  8.29it/s]\n",
      "                 Class     Images  Instances      Box(P          R      mAP50  mAP50-95): 100%|██████████| 48/48 [00:08<00:00,  5.72it/s]\n"
     ]
    },
    {
     "name": "stdout",
     "output_type": "stream",
     "text": [
      "                   all       1532       4763      0.737      0.663       0.72      0.476\n",
      "\n",
      "      Epoch    GPU_mem   box_loss   cls_loss   dfl_loss  Instances       Size\n"
     ]
    },
    {
     "name": "stderr",
     "output_type": "stream",
     "text": [
      "     58/100      2.19G      1.125      1.063      1.352         69        640: 100%|██████████| 578/578 [01:09<00:00,  8.35it/s]\n",
      "                 Class     Images  Instances      Box(P          R      mAP50  mAP50-95): 100%|██████████| 48/48 [00:08<00:00,  5.67it/s]\n"
     ]
    },
    {
     "name": "stdout",
     "output_type": "stream",
     "text": [
      "                   all       1532       4763      0.735      0.675      0.723      0.477\n",
      "\n",
      "      Epoch    GPU_mem   box_loss   cls_loss   dfl_loss  Instances       Size\n"
     ]
    },
    {
     "name": "stderr",
     "output_type": "stream",
     "text": [
      "     59/100      2.38G      1.118      1.057       1.35         63        640: 100%|██████████| 578/578 [01:09<00:00,  8.29it/s]\n",
      "                 Class     Images  Instances      Box(P          R      mAP50  mAP50-95): 100%|██████████| 48/48 [00:08<00:00,  5.60it/s]\n"
     ]
    },
    {
     "name": "stdout",
     "output_type": "stream",
     "text": [
      "                   all       1532       4763      0.746      0.655      0.721      0.476\n",
      "\n",
      "      Epoch    GPU_mem   box_loss   cls_loss   dfl_loss  Instances       Size\n"
     ]
    },
    {
     "name": "stderr",
     "output_type": "stream",
     "text": [
      "     60/100      2.38G      1.118       1.05      1.346         62        640: 100%|██████████| 578/578 [01:09<00:00,  8.30it/s]\n",
      "                 Class     Images  Instances      Box(P          R      mAP50  mAP50-95): 100%|██████████| 48/48 [00:09<00:00,  5.31it/s]\n"
     ]
    },
    {
     "name": "stdout",
     "output_type": "stream",
     "text": [
      "                   all       1532       4763      0.737      0.687      0.728       0.48\n",
      "\n",
      "      Epoch    GPU_mem   box_loss   cls_loss   dfl_loss  Instances       Size\n"
     ]
    },
    {
     "name": "stderr",
     "output_type": "stream",
     "text": [
      "     61/100      2.19G      1.108      1.051      1.346         83        640: 100%|██████████| 578/578 [01:11<00:00,  8.11it/s]\n",
      "                 Class     Images  Instances      Box(P          R      mAP50  mAP50-95): 100%|██████████| 48/48 [00:08<00:00,  5.67it/s]\n"
     ]
    },
    {
     "name": "stdout",
     "output_type": "stream",
     "text": [
      "                   all       1532       4763      0.751      0.686      0.735      0.488\n",
      "\n",
      "      Epoch    GPU_mem   box_loss   cls_loss   dfl_loss  Instances       Size\n"
     ]
    },
    {
     "name": "stderr",
     "output_type": "stream",
     "text": [
      "     62/100      2.19G      1.111      1.042      1.346         49        640: 100%|██████████| 578/578 [01:10<00:00,  8.17it/s]\n",
      "                 Class     Images  Instances      Box(P          R      mAP50  mAP50-95): 100%|██████████| 48/48 [00:08<00:00,  5.79it/s]\n"
     ]
    },
    {
     "name": "stdout",
     "output_type": "stream",
     "text": [
      "                   all       1532       4763      0.742      0.682      0.733      0.485\n",
      "\n",
      "      Epoch    GPU_mem   box_loss   cls_loss   dfl_loss  Instances       Size\n"
     ]
    },
    {
     "name": "stderr",
     "output_type": "stream",
     "text": [
      "     63/100      2.38G       1.11      1.032      1.343         58        640: 100%|██████████| 578/578 [01:10<00:00,  8.21it/s]\n",
      "                 Class     Images  Instances      Box(P          R      mAP50  mAP50-95): 100%|██████████| 48/48 [00:08<00:00,  5.82it/s]\n"
     ]
    },
    {
     "name": "stdout",
     "output_type": "stream",
     "text": [
      "                   all       1532       4763      0.746      0.682      0.731      0.486\n",
      "\n",
      "      Epoch    GPU_mem   box_loss   cls_loss   dfl_loss  Instances       Size\n"
     ]
    },
    {
     "name": "stderr",
     "output_type": "stream",
     "text": [
      "     64/100      2.19G      1.105      1.023      1.338         54        640: 100%|██████████| 578/578 [01:09<00:00,  8.29it/s]\n",
      "                 Class     Images  Instances      Box(P          R      mAP50  mAP50-95): 100%|██████████| 48/48 [00:08<00:00,  5.80it/s]\n"
     ]
    },
    {
     "name": "stdout",
     "output_type": "stream",
     "text": [
      "                   all       1532       4763      0.763      0.671      0.738      0.491\n",
      "\n",
      "      Epoch    GPU_mem   box_loss   cls_loss   dfl_loss  Instances       Size\n"
     ]
    },
    {
     "name": "stderr",
     "output_type": "stream",
     "text": [
      "     65/100      2.19G      1.099      1.014      1.338         69        640: 100%|██████████| 578/578 [01:09<00:00,  8.31it/s]\n",
      "                 Class     Images  Instances      Box(P          R      mAP50  mAP50-95): 100%|██████████| 48/48 [00:08<00:00,  5.81it/s]\n"
     ]
    },
    {
     "name": "stdout",
     "output_type": "stream",
     "text": [
      "                   all       1532       4763      0.749       0.68      0.733       0.49\n",
      "\n",
      "      Epoch    GPU_mem   box_loss   cls_loss   dfl_loss  Instances       Size\n"
     ]
    },
    {
     "name": "stderr",
     "output_type": "stream",
     "text": [
      "     66/100      2.19G      1.091      1.008       1.33         56        640: 100%|██████████| 578/578 [01:09<00:00,  8.31it/s]\n",
      "                 Class     Images  Instances      Box(P          R      mAP50  mAP50-95): 100%|██████████| 48/48 [00:08<00:00,  5.66it/s]\n"
     ]
    },
    {
     "name": "stdout",
     "output_type": "stream",
     "text": [
      "                   all       1532       4763      0.748      0.694      0.739      0.495\n",
      "\n",
      "      Epoch    GPU_mem   box_loss   cls_loss   dfl_loss  Instances       Size\n"
     ]
    },
    {
     "name": "stderr",
     "output_type": "stream",
     "text": [
      "     67/100      2.38G      1.096      1.004      1.332         62        640: 100%|██████████| 578/578 [01:09<00:00,  8.30it/s]\n",
      "                 Class     Images  Instances      Box(P          R      mAP50  mAP50-95): 100%|██████████| 48/48 [00:08<00:00,  5.67it/s]\n"
     ]
    },
    {
     "name": "stdout",
     "output_type": "stream",
     "text": [
      "                   all       1532       4763      0.758      0.672      0.737      0.493\n",
      "\n",
      "      Epoch    GPU_mem   box_loss   cls_loss   dfl_loss  Instances       Size\n"
     ]
    },
    {
     "name": "stderr",
     "output_type": "stream",
     "text": [
      "     68/100      2.38G      1.087     0.9859      1.327         54        640: 100%|██████████| 578/578 [01:09<00:00,  8.28it/s]\n",
      "                 Class     Images  Instances      Box(P          R      mAP50  mAP50-95): 100%|██████████| 48/48 [00:08<00:00,  5.66it/s]\n"
     ]
    },
    {
     "name": "stdout",
     "output_type": "stream",
     "text": [
      "                   all       1532       4763      0.729      0.703      0.739      0.493\n",
      "\n",
      "      Epoch    GPU_mem   box_loss   cls_loss   dfl_loss  Instances       Size\n"
     ]
    },
    {
     "name": "stderr",
     "output_type": "stream",
     "text": [
      "     69/100      2.38G      1.085     0.9856      1.324         56        640: 100%|██████████| 578/578 [01:09<00:00,  8.29it/s]\n",
      "                 Class     Images  Instances      Box(P          R      mAP50  mAP50-95): 100%|██████████| 48/48 [00:08<00:00,  5.73it/s]\n"
     ]
    },
    {
     "name": "stdout",
     "output_type": "stream",
     "text": [
      "                   all       1532       4763      0.731      0.706      0.738      0.493\n",
      "\n",
      "      Epoch    GPU_mem   box_loss   cls_loss   dfl_loss  Instances       Size\n"
     ]
    },
    {
     "name": "stderr",
     "output_type": "stream",
     "text": [
      "     70/100      2.38G      1.076     0.9793      1.321         73        640: 100%|██████████| 578/578 [01:09<00:00,  8.30it/s]\n",
      "                 Class     Images  Instances      Box(P          R      mAP50  mAP50-95): 100%|██████████| 48/48 [00:08<00:00,  5.60it/s]\n"
     ]
    },
    {
     "name": "stdout",
     "output_type": "stream",
     "text": [
      "                   all       1532       4763      0.744      0.694      0.739      0.494\n",
      "\n",
      "      Epoch    GPU_mem   box_loss   cls_loss   dfl_loss  Instances       Size\n"
     ]
    },
    {
     "name": "stderr",
     "output_type": "stream",
     "text": [
      "     71/100      2.38G      1.077     0.9667      1.317         74        640: 100%|██████████| 578/578 [01:10<00:00,  8.18it/s]\n",
      "                 Class     Images  Instances      Box(P          R      mAP50  mAP50-95): 100%|██████████| 48/48 [00:08<00:00,  5.64it/s]\n"
     ]
    },
    {
     "name": "stdout",
     "output_type": "stream",
     "text": [
      "                   all       1532       4763      0.752      0.692      0.739       0.49\n",
      "\n",
      "      Epoch    GPU_mem   box_loss   cls_loss   dfl_loss  Instances       Size\n"
     ]
    },
    {
     "name": "stderr",
     "output_type": "stream",
     "text": [
      "     72/100      2.38G      1.075     0.9598      1.319         42        640: 100%|██████████| 578/578 [01:10<00:00,  8.19it/s]\n",
      "                 Class     Images  Instances      Box(P          R      mAP50  mAP50-95): 100%|██████████| 48/48 [00:08<00:00,  5.78it/s]\n"
     ]
    },
    {
     "name": "stdout",
     "output_type": "stream",
     "text": [
      "                   all       1532       4763      0.777      0.674      0.743      0.496\n",
      "\n",
      "      Epoch    GPU_mem   box_loss   cls_loss   dfl_loss  Instances       Size\n"
     ]
    },
    {
     "name": "stderr",
     "output_type": "stream",
     "text": [
      "     73/100      2.27G      1.071     0.9523      1.316         45        640: 100%|██████████| 578/578 [01:10<00:00,  8.24it/s]\n",
      "                 Class     Images  Instances      Box(P          R      mAP50  mAP50-95): 100%|██████████| 48/48 [00:08<00:00,  5.75it/s]\n"
     ]
    },
    {
     "name": "stdout",
     "output_type": "stream",
     "text": [
      "                   all       1532       4763      0.761      0.689      0.745      0.497\n",
      "\n",
      "      Epoch    GPU_mem   box_loss   cls_loss   dfl_loss  Instances       Size\n"
     ]
    },
    {
     "name": "stderr",
     "output_type": "stream",
     "text": [
      "     74/100      2.18G      1.063     0.9398      1.309         59        640: 100%|██████████| 578/578 [01:09<00:00,  8.27it/s]\n",
      "                 Class     Images  Instances      Box(P          R      mAP50  mAP50-95): 100%|██████████| 48/48 [00:08<00:00,  5.71it/s]\n"
     ]
    },
    {
     "name": "stdout",
     "output_type": "stream",
     "text": [
      "                   all       1532       4763      0.746      0.706      0.745      0.499\n",
      "\n",
      "      Epoch    GPU_mem   box_loss   cls_loss   dfl_loss  Instances       Size\n"
     ]
    },
    {
     "name": "stderr",
     "output_type": "stream",
     "text": [
      "     75/100      2.19G      1.065     0.9366      1.307         45        640: 100%|██████████| 578/578 [01:10<00:00,  8.21it/s]\n",
      "                 Class     Images  Instances      Box(P          R      mAP50  mAP50-95): 100%|██████████| 48/48 [00:08<00:00,  5.67it/s]\n"
     ]
    },
    {
     "name": "stdout",
     "output_type": "stream",
     "text": [
      "                   all       1532       4763      0.761      0.685      0.742      0.499\n",
      "\n",
      "      Epoch    GPU_mem   box_loss   cls_loss   dfl_loss  Instances       Size\n"
     ]
    },
    {
     "name": "stderr",
     "output_type": "stream",
     "text": [
      "     76/100      2.18G      1.061     0.9329      1.311         41        640: 100%|██████████| 578/578 [01:10<00:00,  8.20it/s]\n",
      "                 Class     Images  Instances      Box(P          R      mAP50  mAP50-95): 100%|██████████| 48/48 [00:08<00:00,  5.72it/s]\n"
     ]
    },
    {
     "name": "stdout",
     "output_type": "stream",
     "text": [
      "                   all       1532       4763      0.764      0.686      0.743        0.5\n",
      "\n",
      "      Epoch    GPU_mem   box_loss   cls_loss   dfl_loss  Instances       Size\n"
     ]
    },
    {
     "name": "stderr",
     "output_type": "stream",
     "text": [
      "     77/100      2.28G      1.058     0.9271      1.306         59        640: 100%|██████████| 578/578 [01:09<00:00,  8.29it/s]\n",
      "                 Class     Images  Instances      Box(P          R      mAP50  mAP50-95): 100%|██████████| 48/48 [00:08<00:00,  5.74it/s]\n"
     ]
    },
    {
     "name": "stdout",
     "output_type": "stream",
     "text": [
      "                   all       1532       4763      0.756       0.69      0.743      0.501\n",
      "\n",
      "      Epoch    GPU_mem   box_loss   cls_loss   dfl_loss  Instances       Size\n"
     ]
    },
    {
     "name": "stderr",
     "output_type": "stream",
     "text": [
      "     78/100      2.24G      1.048     0.9227      1.301         64        640: 100%|██████████| 578/578 [01:09<00:00,  8.29it/s]\n",
      "                 Class     Images  Instances      Box(P          R      mAP50  mAP50-95): 100%|██████████| 48/48 [00:08<00:00,  5.66it/s]\n"
     ]
    },
    {
     "name": "stdout",
     "output_type": "stream",
     "text": [
      "                   all       1532       4763       0.76      0.691      0.743      0.501\n",
      "\n",
      "      Epoch    GPU_mem   box_loss   cls_loss   dfl_loss  Instances       Size\n"
     ]
    },
    {
     "name": "stderr",
     "output_type": "stream",
     "text": [
      "     79/100      2.24G      1.041     0.9038      1.296         51        640: 100%|██████████| 578/578 [01:10<00:00,  8.22it/s]\n",
      "                 Class     Images  Instances      Box(P          R      mAP50  mAP50-95): 100%|██████████| 48/48 [00:08<00:00,  5.68it/s]\n"
     ]
    },
    {
     "name": "stdout",
     "output_type": "stream",
     "text": [
      "                   all       1532       4763      0.749      0.701      0.747      0.502\n",
      "\n",
      "      Epoch    GPU_mem   box_loss   cls_loss   dfl_loss  Instances       Size\n"
     ]
    },
    {
     "name": "stderr",
     "output_type": "stream",
     "text": [
      "     80/100      2.24G      1.047     0.9087        1.3         56        640: 100%|██████████| 578/578 [01:10<00:00,  8.20it/s]\n",
      "                 Class     Images  Instances      Box(P          R      mAP50  mAP50-95): 100%|██████████| 48/48 [00:08<00:00,  5.70it/s]\n"
     ]
    },
    {
     "name": "stdout",
     "output_type": "stream",
     "text": [
      "                   all       1532       4763      0.751      0.703      0.748      0.503\n",
      "\n",
      "      Epoch    GPU_mem   box_loss   cls_loss   dfl_loss  Instances       Size\n"
     ]
    },
    {
     "name": "stderr",
     "output_type": "stream",
     "text": [
      "     81/100      2.24G      1.038     0.8963      1.293         62        640: 100%|██████████| 578/578 [01:09<00:00,  8.29it/s]\n",
      "                 Class     Images  Instances      Box(P          R      mAP50  mAP50-95): 100%|██████████| 48/48 [00:08<00:00,  5.64it/s]\n"
     ]
    },
    {
     "name": "stdout",
     "output_type": "stream",
     "text": [
      "                   all       1532       4763      0.744      0.704      0.748      0.503\n",
      "\n",
      "      Epoch    GPU_mem   box_loss   cls_loss   dfl_loss  Instances       Size\n"
     ]
    },
    {
     "name": "stderr",
     "output_type": "stream",
     "text": [
      "     82/100      2.24G      1.038     0.8882       1.29         52        640: 100%|██████████| 578/578 [01:09<00:00,  8.27it/s]\n",
      "                 Class     Images  Instances      Box(P          R      mAP50  mAP50-95): 100%|██████████| 48/48 [00:08<00:00,  5.73it/s]\n"
     ]
    },
    {
     "name": "stdout",
     "output_type": "stream",
     "text": [
      "                   all       1532       4763      0.774      0.692      0.749      0.503\n",
      "\n",
      "      Epoch    GPU_mem   box_loss   cls_loss   dfl_loss  Instances       Size\n"
     ]
    },
    {
     "name": "stderr",
     "output_type": "stream",
     "text": [
      "     83/100      2.24G      1.032     0.8882      1.289         82        640: 100%|██████████| 578/578 [01:09<00:00,  8.29it/s]\n",
      "                 Class     Images  Instances      Box(P          R      mAP50  mAP50-95): 100%|██████████| 48/48 [00:08<00:00,  5.77it/s]\n"
     ]
    },
    {
     "name": "stdout",
     "output_type": "stream",
     "text": [
      "                   all       1532       4763      0.771      0.691      0.749      0.502\n",
      "\n",
      "      Epoch    GPU_mem   box_loss   cls_loss   dfl_loss  Instances       Size\n"
     ]
    },
    {
     "name": "stderr",
     "output_type": "stream",
     "text": [
      "     84/100      2.28G      1.034     0.8788      1.291         51        640: 100%|██████████| 578/578 [01:10<00:00,  8.25it/s]\n",
      "                 Class     Images  Instances      Box(P          R      mAP50  mAP50-95): 100%|██████████| 48/48 [00:08<00:00,  5.77it/s]\n"
     ]
    },
    {
     "name": "stdout",
     "output_type": "stream",
     "text": [
      "                   all       1532       4763      0.769      0.692      0.748      0.502\n",
      "\n",
      "      Epoch    GPU_mem   box_loss   cls_loss   dfl_loss  Instances       Size\n"
     ]
    },
    {
     "name": "stderr",
     "output_type": "stream",
     "text": [
      "     85/100      2.38G      1.026     0.8742      1.286         44        640: 100%|██████████| 578/578 [01:09<00:00,  8.30it/s]\n",
      "                 Class     Images  Instances      Box(P          R      mAP50  mAP50-95): 100%|██████████| 48/48 [00:08<00:00,  5.76it/s]\n"
     ]
    },
    {
     "name": "stdout",
     "output_type": "stream",
     "text": [
      "                   all       1532       4763      0.775       0.69       0.75      0.503\n",
      "\n",
      "      Epoch    GPU_mem   box_loss   cls_loss   dfl_loss  Instances       Size\n"
     ]
    },
    {
     "name": "stderr",
     "output_type": "stream",
     "text": [
      "     86/100      2.24G      1.026     0.8742      1.283         67        640: 100%|██████████| 578/578 [01:09<00:00,  8.27it/s]\n",
      "                 Class     Images  Instances      Box(P          R      mAP50  mAP50-95): 100%|██████████| 48/48 [00:07<00:00,  6.00it/s]\n"
     ]
    },
    {
     "name": "stdout",
     "output_type": "stream",
     "text": [
      "                   all       1532       4763       0.77      0.698      0.752      0.504\n",
      "\n",
      "      Epoch    GPU_mem   box_loss   cls_loss   dfl_loss  Instances       Size\n"
     ]
    },
    {
     "name": "stderr",
     "output_type": "stream",
     "text": [
      "     87/100      2.24G      1.018     0.8537      1.279         52        640: 100%|██████████| 578/578 [01:01<00:00,  9.32it/s]\n",
      "                 Class     Images  Instances      Box(P          R      mAP50  mAP50-95): 100%|██████████| 48/48 [00:07<00:00,  6.45it/s]"
     ]
    },
    {
     "name": "stdout",
     "output_type": "stream",
     "text": [
      "                   all       1532       4763      0.775      0.699      0.754      0.504\n"
     ]
    },
    {
     "name": "stderr",
     "output_type": "stream",
     "text": [
      "\n"
     ]
    },
    {
     "name": "stdout",
     "output_type": "stream",
     "text": [
      "\n",
      "      Epoch    GPU_mem   box_loss   cls_loss   dfl_loss  Instances       Size\n"
     ]
    },
    {
     "name": "stderr",
     "output_type": "stream",
     "text": [
      "     88/100      2.18G      1.009     0.8541      1.274         61        640: 100%|██████████| 578/578 [01:01<00:00,  9.38it/s]\n",
      "                 Class     Images  Instances      Box(P          R      mAP50  mAP50-95): 100%|██████████| 48/48 [00:07<00:00,  6.36it/s]"
     ]
    },
    {
     "name": "stdout",
     "output_type": "stream",
     "text": [
      "                   all       1532       4763      0.761      0.707      0.752      0.503\n"
     ]
    },
    {
     "name": "stderr",
     "output_type": "stream",
     "text": [
      "\n"
     ]
    },
    {
     "name": "stdout",
     "output_type": "stream",
     "text": [
      "\n",
      "      Epoch    GPU_mem   box_loss   cls_loss   dfl_loss  Instances       Size\n"
     ]
    },
    {
     "name": "stderr",
     "output_type": "stream",
     "text": [
      "     89/100      2.19G       1.01     0.8467      1.275         63        640: 100%|██████████| 578/578 [01:01<00:00,  9.36it/s]\n",
      "                 Class     Images  Instances      Box(P          R      mAP50  mAP50-95): 100%|██████████| 48/48 [00:07<00:00,  6.37it/s]"
     ]
    },
    {
     "name": "stdout",
     "output_type": "stream",
     "text": [
      "                   all       1532       4763      0.764      0.709      0.755      0.506\n"
     ]
    },
    {
     "name": "stderr",
     "output_type": "stream",
     "text": [
      "\n"
     ]
    },
    {
     "name": "stdout",
     "output_type": "stream",
     "text": [
      "\n",
      "      Epoch    GPU_mem   box_loss   cls_loss   dfl_loss  Instances       Size\n"
     ]
    },
    {
     "name": "stderr",
     "output_type": "stream",
     "text": [
      "     90/100      2.19G       1.01     0.8414      1.273         57        640: 100%|██████████| 578/578 [01:01<00:00,  9.36it/s]\n",
      "                 Class     Images  Instances      Box(P          R      mAP50  mAP50-95): 100%|██████████| 48/48 [00:07<00:00,  6.25it/s]"
     ]
    },
    {
     "name": "stdout",
     "output_type": "stream",
     "text": [
      "                   all       1532       4763      0.776        0.7      0.755      0.507\n"
     ]
    },
    {
     "name": "stderr",
     "output_type": "stream",
     "text": [
      "\n"
     ]
    },
    {
     "name": "stdout",
     "output_type": "stream",
     "text": [
      "Closing dataloader mosaic\n",
      "\n",
      "      Epoch    GPU_mem   box_loss   cls_loss   dfl_loss  Instances       Size\n"
     ]
    },
    {
     "name": "stderr",
     "output_type": "stream",
     "text": [
      "     91/100      2.32G     0.9748     0.6946      1.284         45        640: 100%|██████████| 578/578 [01:00<00:00,  9.58it/s]\n",
      "                 Class     Images  Instances      Box(P          R      mAP50  mAP50-95): 100%|██████████| 48/48 [00:07<00:00,  6.29it/s]\n"
     ]
    },
    {
     "name": "stdout",
     "output_type": "stream",
     "text": [
      "                   all       1532       4763      0.772      0.705      0.757      0.507\n",
      "\n",
      "      Epoch    GPU_mem   box_loss   cls_loss   dfl_loss  Instances       Size\n"
     ]
    },
    {
     "name": "stderr",
     "output_type": "stream",
     "text": [
      "     92/100      2.19G     0.9597     0.6633      1.275         28        640: 100%|██████████| 578/578 [00:59<00:00,  9.64it/s]\n",
      "                 Class     Images  Instances      Box(P          R      mAP50  mAP50-95): 100%|██████████| 48/48 [00:07<00:00,  6.29it/s]\n"
     ]
    },
    {
     "name": "stdout",
     "output_type": "stream",
     "text": [
      "                   all       1532       4763      0.771      0.702      0.758      0.508\n",
      "\n",
      "      Epoch    GPU_mem   box_loss   cls_loss   dfl_loss  Instances       Size\n"
     ]
    },
    {
     "name": "stderr",
     "output_type": "stream",
     "text": [
      "     93/100      2.19G     0.9533     0.6518      1.268         56        640: 100%|██████████| 578/578 [01:00<00:00,  9.63it/s]\n",
      "                 Class     Images  Instances      Box(P          R      mAP50  mAP50-95): 100%|██████████| 48/48 [00:07<00:00,  6.29it/s]\n"
     ]
    },
    {
     "name": "stdout",
     "output_type": "stream",
     "text": [
      "                   all       1532       4763      0.765      0.706      0.757      0.509\n",
      "\n",
      "      Epoch    GPU_mem   box_loss   cls_loss   dfl_loss  Instances       Size\n"
     ]
    },
    {
     "name": "stderr",
     "output_type": "stream",
     "text": [
      "     94/100      2.19G     0.9458      0.645      1.263         38        640: 100%|██████████| 578/578 [01:00<00:00,  9.63it/s]\n",
      "                 Class     Images  Instances      Box(P          R      mAP50  mAP50-95): 100%|██████████| 48/48 [00:07<00:00,  6.36it/s]\n"
     ]
    },
    {
     "name": "stdout",
     "output_type": "stream",
     "text": [
      "                   all       1532       4763      0.763      0.716      0.758      0.509\n",
      "\n",
      "      Epoch    GPU_mem   box_loss   cls_loss   dfl_loss  Instances       Size\n"
     ]
    },
    {
     "name": "stderr",
     "output_type": "stream",
     "text": [
      "     95/100      2.19G      0.942     0.6377      1.263         36        640: 100%|██████████| 578/578 [01:00<00:00,  9.63it/s]\n",
      "                 Class     Images  Instances      Box(P          R      mAP50  mAP50-95): 100%|██████████| 48/48 [00:07<00:00,  6.37it/s]"
     ]
    },
    {
     "name": "stdout",
     "output_type": "stream",
     "text": [
      "                   all       1532       4763      0.766      0.712      0.757      0.508\n"
     ]
    },
    {
     "name": "stderr",
     "output_type": "stream",
     "text": [
      "\n"
     ]
    },
    {
     "name": "stdout",
     "output_type": "stream",
     "text": [
      "\n",
      "      Epoch    GPU_mem   box_loss   cls_loss   dfl_loss  Instances       Size\n"
     ]
    },
    {
     "name": "stderr",
     "output_type": "stream",
     "text": [
      "     96/100      2.19G     0.9347     0.6312      1.257         20        640: 100%|██████████| 578/578 [00:59<00:00,  9.65it/s]\n",
      "                 Class     Images  Instances      Box(P          R      mAP50  mAP50-95): 100%|██████████| 48/48 [00:07<00:00,  6.33it/s]"
     ]
    },
    {
     "name": "stdout",
     "output_type": "stream",
     "text": [
      "                   all       1532       4763      0.768      0.705      0.756      0.509\n"
     ]
    },
    {
     "name": "stderr",
     "output_type": "stream",
     "text": [
      "\n"
     ]
    },
    {
     "name": "stdout",
     "output_type": "stream",
     "text": [
      "\n",
      "      Epoch    GPU_mem   box_loss   cls_loss   dfl_loss  Instances       Size\n"
     ]
    },
    {
     "name": "stderr",
     "output_type": "stream",
     "text": [
      "     97/100      2.19G     0.9269     0.6195      1.253         47        640: 100%|██████████| 578/578 [01:01<00:00,  9.45it/s]\n",
      "                 Class     Images  Instances      Box(P          R      mAP50  mAP50-95): 100%|██████████| 48/48 [00:07<00:00,  6.39it/s]\n"
     ]
    },
    {
     "name": "stdout",
     "output_type": "stream",
     "text": [
      "                   all       1532       4763      0.764      0.704      0.755      0.509\n",
      "\n",
      "      Epoch    GPU_mem   box_loss   cls_loss   dfl_loss  Instances       Size\n"
     ]
    },
    {
     "name": "stderr",
     "output_type": "stream",
     "text": [
      "     98/100      2.24G     0.9189      0.615      1.248         19        640: 100%|██████████| 578/578 [01:00<00:00,  9.63it/s]\n",
      "                 Class     Images  Instances      Box(P          R      mAP50  mAP50-95): 100%|██████████| 48/48 [00:07<00:00,  6.41it/s]\n"
     ]
    },
    {
     "name": "stdout",
     "output_type": "stream",
     "text": [
      "                   all       1532       4763      0.767      0.704      0.756      0.509\n",
      "\n",
      "      Epoch    GPU_mem   box_loss   cls_loss   dfl_loss  Instances       Size\n"
     ]
    },
    {
     "name": "stderr",
     "output_type": "stream",
     "text": [
      "     99/100      2.19G      0.917     0.6025      1.238         52        640: 100%|██████████| 578/578 [00:59<00:00,  9.64it/s]\n",
      "                 Class     Images  Instances      Box(P          R      mAP50  mAP50-95): 100%|██████████| 48/48 [00:07<00:00,  6.44it/s]"
     ]
    },
    {
     "name": "stdout",
     "output_type": "stream",
     "text": [
      "                   all       1532       4763      0.761       0.71      0.756      0.509\n"
     ]
    },
    {
     "name": "stderr",
     "output_type": "stream",
     "text": [
      "\n"
     ]
    },
    {
     "name": "stdout",
     "output_type": "stream",
     "text": [
      "\n",
      "      Epoch    GPU_mem   box_loss   cls_loss   dfl_loss  Instances       Size\n"
     ]
    },
    {
     "name": "stderr",
     "output_type": "stream",
     "text": [
      "    100/100      2.19G     0.9107     0.5985      1.236         34        640: 100%|██████████| 578/578 [00:59<00:00,  9.64it/s]\n",
      "                 Class     Images  Instances      Box(P          R      mAP50  mAP50-95): 100%|██████████| 48/48 [00:07<00:00,  6.38it/s]"
     ]
    },
    {
     "name": "stdout",
     "output_type": "stream",
     "text": [
      "                   all       1532       4763      0.759       0.71      0.755      0.508\n"
     ]
    },
    {
     "name": "stderr",
     "output_type": "stream",
     "text": [
      "\n"
     ]
    },
    {
     "name": "stdout",
     "output_type": "stream",
     "text": [
      "\n",
      "100 epochs completed in 2.049 hours.\n",
      "Optimizer stripped from runs\\detect\\yolo8-combined-dataset\\weights\\last.pt, 6.3MB\n",
      "Optimizer stripped from runs\\detect\\yolo8-combined-dataset\\weights\\best.pt, 6.3MB\n",
      "\n",
      "Validating runs\\detect\\yolo8-combined-dataset\\weights\\best.pt...\n",
      "Ultralytics YOLOv8.2.11  Python-3.11.7 torch-2.3.0+cu121 CUDA:0 (NVIDIA GeForce RTX 3060 Ti, 8191MiB)\n",
      "Model summary (fused): 168 layers, 3014813 parameters, 0 gradients, 8.1 GFLOPs\n"
     ]
    },
    {
     "name": "stderr",
     "output_type": "stream",
     "text": [
      "                 Class     Images  Instances      Box(P          R      mAP50  mAP50-95): 100%|██████████| 48/48 [00:08<00:00,  5.44it/s]\n"
     ]
    },
    {
     "name": "stdout",
     "output_type": "stream",
     "text": [
      "                   all       1532       4763      0.762      0.704      0.755      0.509\n",
      "               avocado       1532        195      0.879      0.923      0.926      0.591\n",
      "                 beans       1532         52      0.715      0.725      0.768      0.533\n",
      "                  beet       1532        157      0.873      0.866      0.914      0.663\n",
      "           bell pepper       1532        169      0.779      0.905      0.867      0.679\n",
      "              broccoli       1532        125       0.75      0.736      0.772      0.475\n",
      "          brus capusta       1532         95      0.825      0.716      0.851      0.526\n",
      "               cabbage       1532        125      0.696      0.732      0.779      0.509\n",
      "                carrot       1532        234      0.889      0.624      0.736      0.455\n",
      "           cayliflower       1532         84       0.87      0.821       0.87      0.657\n",
      "                celery       1532         71      0.751      0.722      0.832      0.553\n",
      "                  corn       1532        184      0.901      0.908      0.955      0.656\n",
      "              cucumber       1532        258      0.855      0.837      0.913      0.597\n",
      "              eggplant       1532        166      0.893      0.909      0.949      0.554\n",
      "                 fasol       1532         71      0.835      0.786      0.871      0.651\n",
      "                garlic       1532        240      0.755      0.758      0.819       0.57\n",
      "            hot pepper       1532        208      0.755      0.754      0.799      0.469\n",
      "                 onion       1532        202      0.902      0.916      0.952      0.696\n",
      "                  peas       1532        144      0.781      0.625      0.746        0.4\n",
      "                potato       1532        223      0.844      0.874      0.876      0.621\n",
      "               pumpkin       1532        202      0.855      0.837      0.899      0.649\n",
      "               rediska       1532        185      0.797      0.805      0.851      0.579\n",
      "                 redka       1532        124      0.896      0.899       0.94      0.721\n",
      "                 salad       1532         60      0.911      0.833      0.894      0.727\n",
      "       squash-patisson       1532        142      0.963      0.873      0.972      0.685\n",
      "                tomato       1532        318      0.836      0.777      0.847      0.583\n",
      "      vegetable marrow       1532        105       0.88      0.905       0.94      0.599\n",
      "          bean sprouts       1532         17      0.784      0.824      0.894      0.638\n",
      "                  beef       1532         31      0.639      0.774       0.74      0.493\n",
      "                cheese       1532         18      0.875      0.776      0.719      0.531\n",
      "               chicken       1532         22      0.579      0.364      0.414      0.238\n",
      "                 chili       1532         52      0.565      0.175      0.256      0.118\n",
      "                daikon       1532         25      0.453       0.32      0.268      0.182\n",
      "                   egg       1532         29      0.638      0.487      0.686      0.589\n",
      "             egg plant       1532         22      0.568      0.682        0.7      0.443\n",
      "           green onion       1532         25      0.538       0.48      0.438      0.299\n",
      "                   ham       1532         58      0.885      0.776      0.806      0.563\n",
      "                kimchi       1532         19      0.748      0.895      0.892      0.626\n",
      "               lettuce       1532         26       0.72      0.654      0.623      0.312\n",
      "              mushroom       1532         25       0.56        0.6      0.632      0.423\n",
      "               paprika       1532         41      0.916      0.683      0.771      0.594\n",
      "            pork belly       1532         26      0.758      0.722      0.668      0.352\n",
      "                  rice       1532         20      0.682        0.6      0.601      0.301\n",
      "               sausage       1532         50      0.632       0.24      0.524      0.279\n",
      "               spinach       1532         23      0.687      0.574      0.687      0.468\n",
      "          sweet potato       1532         47      0.826      0.745      0.784      0.497\n",
      "                  tofu       1532         20      0.549      0.184      0.361      0.221\n",
      "              zucchini       1532         28      0.507      0.464      0.462       0.36\n",
      "Speed: 0.2ms preprocess, 1.2ms inference, 0.0ms loss, 0.9ms postprocess per image\n",
      "Results saved to \u001b[1mruns\\detect\\yolo8-combined-dataset\u001b[0m\n"
     ]
    }
   ],
   "source": [
    "#TRAINING COMBINED DATA SET\n",
    "\n",
    "model = YOLO('yolov8n.pt')\n",
    "\n",
    "results = model.train(data='data/combined/data.yaml',\n",
    "          epochs=100,\n",
    "          batch=16,\n",
    "          name = 'yolo8-combined-dataset')"
   ]
  },
  {
   "cell_type": "code",
   "execution_count": 7,
   "id": "4c222d3c-e352-4171-b558-e801b10845ae",
   "metadata": {},
   "outputs": [],
   "source": [
    "from PIL import Image\n",
    "import cv2"
   ]
  },
  {
   "cell_type": "code",
   "execution_count": 8,
   "id": "f3162ade-1540-47ad-8276-0fbc5e115657",
   "metadata": {},
   "outputs": [
    {
     "name": "stdout",
     "output_type": "stream",
     "text": [
      "\n",
      "1/1: 0... Success  (inf frames of shape 640x480 at 30.00 FPS)\n",
      "\n",
      "\n",
      "WARNING  inference results will accumulate in RAM unless `stream=True` is passed, causing potential out-of-memory\n",
      "errors for large sources or long-running streams and videos. See https://docs.ultralytics.com/modes/predict/ for help.\n",
      "\n",
      "Example:\n",
      "    results = model(source=..., stream=True)  # generator of Results objects\n",
      "    for r in results:\n",
      "        boxes = r.boxes  # Boxes object for bbox outputs\n",
      "        masks = r.masks  # Masks object for segment masks outputs\n",
      "        probs = r.probs  # Class probabilities for classification outputs\n",
      "\n",
      "0: 480x640 (no detections), 599.2ms\n",
      "0: 480x640 1 bell pepper, 6.0ms\n",
      "0: 480x640 (no detections), 7.0ms\n",
      "0: 480x640 1 garlic, 6.0ms\n",
      "0: 480x640 1 garlic, 7.0ms\n",
      "0: 480x640 1 onion, 7.5ms\n",
      "0: 480x640 1 onion, 6.0ms\n",
      "0: 480x640 1 onion, 6.0ms\n",
      "0: 480x640 (no detections), 7.0ms\n",
      "0: 480x640 (no detections), 6.0ms\n",
      "0: 480x640 1 eggplant, 6.0ms\n",
      "0: 480x640 (no detections), 7.0ms\n",
      "0: 480x640 (no detections), 6.0ms\n",
      "0: 480x640 (no detections), 6.0ms\n",
      "0: 480x640 1 eggplant, 6.0ms\n",
      "0: 480x640 1 garlic, 1 onion, 7.0ms\n",
      "0: 480x640 (no detections), 6.0ms\n",
      "0: 480x640 (no detections), 6.0ms\n",
      "0: 480x640 (no detections), 6.0ms\n",
      "0: 480x640 (no detections), 6.0ms\n",
      "0: 480x640 (no detections), 6.0ms\n",
      "0: 480x640 (no detections), 6.0ms\n",
      "0: 480x640 (no detections), 6.2ms\n",
      "0: 480x640 (no detections), 6.0ms\n",
      "0: 480x640 1 bell pepper, 7.0ms\n",
      "0: 480x640 (no detections), 6.0ms\n",
      "0: 480x640 (no detections), 6.0ms\n",
      "0: 480x640 1 garlic, 1 onion, 6.0ms\n",
      "0: 480x640 1 garlic, 6.0ms\n",
      "0: 480x640 1 bell pepper, 6.0ms\n",
      "0: 480x640 1 bell pepper, 6.0ms\n",
      "0: 480x640 1 bell pepper, 6.0ms\n",
      "0: 480x640 1 pumpkin, 6.0ms\n",
      "0: 480x640 1 pumpkin, 6.0ms\n",
      "0: 480x640 1 pumpkin, 6.0ms\n",
      "0: 480x640 1 pumpkin, 7.0ms\n",
      "0: 480x640 1 pumpkin, 6.0ms\n",
      "0: 480x640 1 pumpkin, 6.0ms\n",
      "0: 480x640 1 pumpkin, 7.0ms\n",
      "0: 480x640 1 pumpkin, 6.0ms\n",
      "0: 480x640 1 pumpkin, 6.6ms\n",
      "0: 480x640 1 pumpkin, 6.0ms\n",
      "0: 480x640 1 pumpkin, 6.0ms\n",
      "0: 480x640 1 pumpkin, 7.0ms\n",
      "0: 480x640 1 pumpkin, 6.0ms\n",
      "0: 480x640 1 pumpkin, 6.5ms\n",
      "0: 480x640 1 bell pepper, 6.0ms\n",
      "0: 480x640 1 bell pepper, 1 pumpkin, 7.0ms\n",
      "0: 480x640 1 pumpkin, 6.0ms\n",
      "0: 480x640 1 pumpkin, 6.0ms\n",
      "0: 480x640 1 pumpkin, 6.0ms\n",
      "0: 480x640 1 pumpkin, 6.0ms\n",
      "0: 480x640 1 pumpkin, 6.0ms\n",
      "0: 480x640 1 pumpkin, 6.0ms\n",
      "0: 480x640 1 pumpkin, 6.0ms\n",
      "0: 480x640 1 pumpkin, 6.0ms\n",
      "0: 480x640 1 pumpkin, 6.2ms\n",
      "0: 480x640 1 pumpkin, 6.1ms\n",
      "0: 480x640 1 pumpkin, 6.0ms\n",
      "0: 480x640 (no detections), 6.0ms\n",
      "0: 480x640 (no detections), 7.0ms\n",
      "0: 480x640 1 pumpkin, 7.0ms\n",
      "0: 480x640 1 pumpkin, 6.0ms\n",
      "0: 480x640 1 pumpkin, 6.0ms\n",
      "0: 480x640 1 pumpkin, 7.0ms\n",
      "0: 480x640 1 pumpkin, 6.0ms\n",
      "0: 480x640 1 pumpkin, 6.0ms\n",
      "0: 480x640 1 pumpkin, 6.0ms\n",
      "0: 480x640 1 pumpkin, 6.0ms\n",
      "0: 480x640 1 pumpkin, 6.0ms\n",
      "0: 480x640 1 pumpkin, 6.0ms\n",
      "0: 480x640 1 pumpkin, 7.0ms\n",
      "0: 480x640 1 pumpkin, 6.0ms\n",
      "0: 480x640 1 pumpkin, 6.0ms\n",
      "0: 480x640 1 pumpkin, 7.0ms\n",
      "0: 480x640 1 pumpkin, 6.0ms\n",
      "0: 480x640 1 pumpkin, 7.0ms\n",
      "0: 480x640 1 pumpkin, 6.0ms\n",
      "0: 480x640 1 pumpkin, 6.0ms\n",
      "0: 480x640 1 garlic, 1 pumpkin, 7.0ms\n",
      "0: 480x640 1 pumpkin, 7.0ms\n",
      "0: 480x640 1 pumpkin, 6.0ms\n",
      "0: 480x640 1 pumpkin, 6.0ms\n",
      "0: 480x640 1 pumpkin, 6.0ms\n",
      "0: 480x640 1 pumpkin, 6.0ms\n",
      "0: 480x640 1 pumpkin, 6.0ms\n",
      "0: 480x640 1 pumpkin, 6.0ms\n",
      "0: 480x640 1 pumpkin, 6.0ms\n",
      "0: 480x640 1 pumpkin, 6.0ms\n",
      "0: 480x640 1 pumpkin, 6.0ms\n",
      "0: 480x640 1 pumpkin, 6.0ms\n",
      "0: 480x640 1 pumpkin, 6.5ms\n",
      "0: 480x640 1 pumpkin, 6.6ms\n",
      "0: 480x640 1 pumpkin, 5.7ms\n",
      "0: 480x640 1 pumpkin, 7.0ms\n",
      "0: 480x640 1 pumpkin, 7.0ms\n",
      "0: 480x640 1 pumpkin, 6.0ms\n",
      "0: 480x640 1 pumpkin, 6.2ms\n",
      "0: 480x640 1 pumpkin, 7.0ms\n",
      "0: 480x640 1 pumpkin, 6.0ms\n",
      "0: 480x640 1 pumpkin, 7.0ms\n",
      "0: 480x640 1 pumpkin, 6.0ms\n",
      "0: 480x640 1 pumpkin, 6.0ms\n",
      "0: 480x640 1 pumpkin, 6.0ms\n",
      "0: 480x640 1 pumpkin, 6.0ms\n",
      "0: 480x640 1 pumpkin, 6.0ms\n",
      "0: 480x640 1 pumpkin, 5.9ms\n",
      "0: 480x640 1 pumpkin, 6.0ms\n",
      "0: 480x640 1 pumpkin, 6.0ms\n",
      "0: 480x640 1 pumpkin, 7.0ms\n",
      "0: 480x640 1 pumpkin, 7.0ms\n",
      "0: 480x640 1 pumpkin, 6.0ms\n",
      "0: 480x640 1 pumpkin, 8.0ms\n",
      "0: 480x640 1 pumpkin, 6.0ms\n",
      "0: 480x640 1 pumpkin, 7.0ms\n",
      "0: 480x640 1 pumpkin, 6.0ms\n",
      "0: 480x640 1 carrot, 1 pumpkin, 6.5ms\n",
      "0: 480x640 1 pumpkin, 6.9ms\n",
      "0: 480x640 1 pumpkin, 6.2ms\n",
      "0: 480x640 1 pumpkin, 6.0ms\n",
      "0: 480x640 1 pumpkin, 6.0ms\n",
      "0: 480x640 1 pumpkin, 6.0ms\n",
      "0: 480x640 1 pumpkin, 7.0ms\n",
      "0: 480x640 1 pumpkin, 7.0ms\n",
      "0: 480x640 1 pumpkin, 7.0ms\n",
      "0: 480x640 1 pumpkin, 7.0ms\n",
      "0: 480x640 1 pumpkin, 5.5ms\n",
      "0: 480x640 1 pumpkin, 6.0ms\n",
      "0: 480x640 1 pumpkin, 6.0ms\n",
      "0: 480x640 1 pumpkin, 6.0ms\n",
      "0: 480x640 1 carrot, 1 pumpkin, 6.0ms\n",
      "0: 480x640 1 pumpkin, 6.0ms\n",
      "0: 480x640 1 pumpkin, 6.0ms\n",
      "0: 480x640 1 pumpkin, 6.0ms\n",
      "0: 480x640 1 garlic, 6.0ms\n",
      "0: 480x640 (no detections), 6.0ms\n",
      "0: 480x640 (no detections), 6.0ms\n",
      "0: 480x640 (no detections), 6.0ms\n",
      "0: 480x640 (no detections), 6.0ms\n",
      "0: 480x640 1 bell pepper, 6.0ms\n",
      "0: 480x640 (no detections), 6.0ms\n",
      "0: 480x640 (no detections), 6.0ms\n",
      "0: 480x640 1 garlic, 6.6ms\n",
      "0: 480x640 1 garlic, 6.0ms\n",
      "0: 480x640 (no detections), 6.0ms\n",
      "0: 480x640 1 onion, 7.0ms\n",
      "0: 480x640 1 onion, 7.6ms\n",
      "0: 480x640 (no detections), 7.0ms\n",
      "0: 480x640 1 onion, 6.0ms\n",
      "0: 480x640 1 onion, 6.0ms\n",
      "0: 480x640 1 onion, 7.0ms\n",
      "0: 480x640 1 onion, 6.0ms\n",
      "0: 480x640 1 onion, 6.0ms\n",
      "0: 480x640 1 onion, 6.0ms\n",
      "0: 480x640 1 carrot, 1 onion, 6.0ms\n",
      "0: 480x640 1 carrot, 6.0ms\n",
      "0: 480x640 1 onion, 6.0ms\n",
      "0: 480x640 1 onion, 7.0ms\n",
      "0: 480x640 (no detections), 6.0ms\n",
      "0: 480x640 1 onion, 7.0ms\n",
      "0: 480x640 1 onion, 6.0ms\n",
      "0: 480x640 1 onion, 6.4ms\n",
      "0: 480x640 1 onion, 6.0ms\n",
      "0: 480x640 1 onion, 6.0ms\n",
      "0: 480x640 1 onion, 6.0ms\n",
      "0: 480x640 1 onion, 6.0ms\n",
      "0: 480x640 1 onion, 6.0ms\n",
      "0: 480x640 1 onion, 6.0ms\n",
      "0: 480x640 1 onion, 6.0ms\n",
      "0: 480x640 1 onion, 1 pumpkin, 7.0ms\n",
      "0: 480x640 1 onion, 1 pumpkin, 6.0ms\n",
      "0: 480x640 1 onion, 1 pumpkin, 6.0ms\n",
      "0: 480x640 1 onion, 1 pumpkin, 6.0ms\n",
      "0: 480x640 1 onion, 1 pumpkin, 7.0ms\n",
      "0: 480x640 (no detections), 6.0ms\n",
      "0: 480x640 1 onion, 6.0ms\n",
      "0: 480x640 1 onion, 6.0ms\n",
      "0: 480x640 1 onion, 6.0ms\n",
      "0: 480x640 1 carrot, 1 onion, 6.0ms\n",
      "0: 480x640 1 carrot, 1 onion, 6.0ms\n",
      "0: 480x640 1 onion, 7.0ms\n",
      "0: 480x640 1 pumpkin, 6.0ms\n",
      "0: 480x640 1 pumpkin, 6.2ms\n",
      "0: 480x640 1 onion, 6.0ms\n",
      "0: 480x640 1 onion, 7.5ms\n",
      "0: 480x640 1 onion, 6.5ms\n",
      "0: 480x640 1 onion, 6.0ms\n",
      "0: 480x640 1 onion, 7.0ms\n",
      "0: 480x640 1 onion, 6.0ms\n",
      "0: 480x640 (no detections), 6.0ms\n",
      "0: 480x640 1 onion, 7.0ms\n",
      "0: 480x640 1 onion, 6.5ms\n",
      "0: 480x640 1 onion, 6.0ms\n",
      "0: 480x640 1 onion, 6.0ms\n",
      "0: 480x640 1 onion, 6.0ms\n",
      "0: 480x640 1 onion, 6.0ms\n",
      "0: 480x640 1 onion, 6.0ms\n",
      "0: 480x640 1 onion, 6.0ms\n",
      "0: 480x640 1 onion, 6.0ms\n",
      "0: 480x640 1 onion, 6.0ms\n",
      "0: 480x640 1 onion, 6.0ms\n",
      "0: 480x640 1 onion, 7.0ms\n",
      "0: 480x640 1 onion, 6.0ms\n",
      "0: 480x640 1 onion, 6.0ms\n",
      "0: 480x640 1 onion, 6.0ms\n",
      "0: 480x640 (no detections), 6.0ms\n",
      "0: 480x640 (no detections), 6.0ms\n",
      "0: 480x640 (no detections), 5.6ms\n",
      "0: 480x640 2 carrots, 6.0ms\n",
      "0: 480x640 1 carrot, 6.0ms\n",
      "0: 480x640 1 onion, 6.0ms\n",
      "0: 480x640 1 onion, 6.0ms\n",
      "0: 480x640 (no detections), 6.0ms\n",
      "0: 480x640 1 onion, 6.0ms\n",
      "0: 480x640 1 onion, 1 pumpkin, 6.0ms\n",
      "0: 480x640 1 garlic, 6.0ms\n",
      "0: 480x640 1 onion, 6.0ms\n",
      "0: 480x640 1 onion, 6.0ms\n",
      "0: 480x640 1 onion, 6.0ms\n",
      "0: 480x640 1 onion, 6.0ms\n",
      "0: 480x640 1 onion, 6.0ms\n",
      "0: 480x640 1 onion, 6.0ms\n",
      "0: 480x640 1 onion, 6.0ms\n",
      "0: 480x640 1 onion, 6.0ms\n",
      "0: 480x640 1 carrot, 1 onion, 6.0ms\n",
      "0: 480x640 1 carrot, 1 onion, 6.0ms\n",
      "0: 480x640 1 onion, 6.0ms\n",
      "0: 480x640 1 onion, 6.0ms\n",
      "0: 480x640 1 onion, 6.0ms\n",
      "0: 480x640 1 onion, 6.0ms\n",
      "0: 480x640 1 onion, 6.0ms\n",
      "0: 480x640 1 onion, 6.0ms\n",
      "0: 480x640 1 onion, 6.0ms\n",
      "0: 480x640 1 onion, 6.0ms\n",
      "0: 480x640 1 carrot, 6.0ms\n",
      "0: 480x640 1 onion, 6.0ms\n",
      "0: 480x640 1 onion, 6.0ms\n",
      "0: 480x640 1 onion, 7.0ms\n",
      "0: 480x640 1 carrot, 6.0ms\n",
      "0: 480x640 1 carrot, 6.0ms\n",
      "0: 480x640 1 onion, 6.0ms\n",
      "0: 480x640 1 carrot, 6.0ms\n",
      "0: 480x640 1 carrot, 6.0ms\n",
      "0: 480x640 1 carrot, 6.0ms\n",
      "0: 480x640 1 carrot, 6.0ms\n",
      "0: 480x640 1 carrot, 7.0ms\n",
      "0: 480x640 (no detections), 6.0ms\n",
      "0: 480x640 1 onion, 6.0ms\n",
      "0: 480x640 1 onion, 6.0ms\n",
      "0: 480x640 1 onion, 6.0ms\n",
      "0: 480x640 (no detections), 6.0ms\n",
      "0: 480x640 1 onion, 5.0ms\n",
      "0: 480x640 1 onion, 7.0ms\n",
      "0: 480x640 1 onion, 6.0ms\n",
      "0: 480x640 1 onion, 6.0ms\n",
      "0: 480x640 1 onion, 7.0ms\n",
      "0: 480x640 1 onion, 6.0ms\n",
      "0: 480x640 1 onion, 6.0ms\n",
      "0: 480x640 1 onion, 6.0ms\n",
      "0: 480x640 1 onion, 6.0ms\n",
      "0: 480x640 1 onion, 5.0ms\n",
      "0: 480x640 1 onion, 6.0ms\n",
      "0: 480x640 1 onion, 6.0ms\n",
      "0: 480x640 1 onion, 7.0ms\n",
      "0: 480x640 1 onion, 6.0ms\n",
      "0: 480x640 1 onion, 6.0ms\n",
      "0: 480x640 1 onion, 6.0ms\n",
      "0: 480x640 1 onion, 6.0ms\n",
      "0: 480x640 1 onion, 6.0ms\n",
      "0: 480x640 1 onion, 7.0ms\n",
      "0: 480x640 1 onion, 6.0ms\n",
      "0: 480x640 1 onion, 6.0ms\n",
      "0: 480x640 1 onion, 6.0ms\n",
      "0: 480x640 1 onion, 6.0ms\n",
      "0: 480x640 1 onion, 7.0ms\n",
      "0: 480x640 1 onion, 6.0ms\n",
      "0: 480x640 1 onion, 6.0ms\n",
      "0: 480x640 1 onion, 6.0ms\n",
      "0: 480x640 1 onion, 6.0ms\n",
      "0: 480x640 1 onion, 6.0ms\n",
      "0: 480x640 1 onion, 6.0ms\n",
      "0: 480x640 1 onion, 6.0ms\n",
      "0: 480x640 1 onion, 6.0ms\n",
      "0: 480x640 1 onion, 5.0ms\n",
      "0: 480x640 1 onion, 6.0ms\n",
      "0: 480x640 1 onion, 6.0ms\n",
      "0: 480x640 1 onion, 6.0ms\n",
      "0: 480x640 1 onion, 6.0ms\n",
      "0: 480x640 1 onion, 6.0ms\n",
      "0: 480x640 1 onion, 7.0ms\n",
      "0: 480x640 1 onion, 6.0ms\n",
      "0: 480x640 1 onion, 6.0ms\n",
      "0: 480x640 1 onion, 6.0ms\n",
      "0: 480x640 1 onion, 6.0ms\n",
      "0: 480x640 1 onion, 7.0ms\n",
      "0: 480x640 1 onion, 7.0ms\n",
      "0: 480x640 1 onion, 6.0ms\n",
      "0: 480x640 1 onion, 6.0ms\n",
      "0: 480x640 1 onion, 6.0ms\n",
      "0: 480x640 1 onion, 6.0ms\n",
      "0: 480x640 1 onion, 7.0ms\n",
      "0: 480x640 1 onion, 7.0ms\n",
      "0: 480x640 1 onion, 6.0ms\n",
      "0: 480x640 1 onion, 6.0ms\n",
      "0: 480x640 1 onion, 7.0ms\n",
      "0: 480x640 1 onion, 6.0ms\n",
      "0: 480x640 1 onion, 6.0ms\n",
      "0: 480x640 1 onion, 6.0ms\n",
      "0: 480x640 1 onion, 6.0ms\n",
      "0: 480x640 1 onion, 6.0ms\n",
      "0: 480x640 1 pumpkin, 6.0ms\n",
      "0: 480x640 1 pumpkin, 6.0ms\n",
      "0: 480x640 1 onion, 6.0ms\n",
      "0: 480x640 1 onion, 6.1ms\n",
      "0: 480x640 1 onion, 7.0ms\n",
      "0: 480x640 1 onion, 6.0ms\n",
      "0: 480x640 1 onion, 1 pumpkin, 7.0ms\n",
      "0: 480x640 1 onion, 6.0ms\n",
      "0: 480x640 1 onion, 6.0ms\n",
      "0: 480x640 1 onion, 6.0ms\n",
      "0: 480x640 1 onion, 6.0ms\n",
      "0: 480x640 1 onion, 6.0ms\n",
      "0: 480x640 1 onion, 6.0ms\n",
      "0: 480x640 1 onion, 6.0ms\n",
      "0: 480x640 1 onion, 6.0ms\n",
      "0: 480x640 1 onion, 7.0ms\n",
      "0: 480x640 1 onion, 6.0ms\n",
      "0: 480x640 1 onion, 7.0ms\n",
      "0: 480x640 1 onion, 6.0ms\n",
      "0: 480x640 1 onion, 6.0ms\n",
      "0: 480x640 1 onion, 6.0ms\n",
      "0: 480x640 1 onion, 5.0ms\n",
      "0: 480x640 1 onion, 6.0ms\n",
      "0: 480x640 1 onion, 6.0ms\n",
      "0: 480x640 1 onion, 6.0ms\n",
      "0: 480x640 1 onion, 6.0ms\n",
      "0: 480x640 1 onion, 6.0ms\n",
      "0: 480x640 1 onion, 6.0ms\n",
      "0: 480x640 1 onion, 6.0ms\n",
      "0: 480x640 1 onion, 6.0ms\n",
      "0: 480x640 1 onion, 7.0ms\n",
      "0: 480x640 1 onion, 6.0ms\n",
      "0: 480x640 1 onion, 6.0ms\n",
      "0: 480x640 1 onion, 6.0ms\n",
      "0: 480x640 1 onion, 6.0ms\n",
      "0: 480x640 1 onion, 6.0ms\n",
      "0: 480x640 1 onion, 7.0ms\n",
      "0: 480x640 1 onion, 6.0ms\n",
      "0: 480x640 1 onion, 6.0ms\n",
      "0: 480x640 1 onion, 6.0ms\n",
      "0: 480x640 1 onion, 6.0ms\n",
      "0: 480x640 1 onion, 5.0ms\n",
      "0: 480x640 1 onion, 6.5ms\n",
      "0: 480x640 1 onion, 6.0ms\n",
      "0: 480x640 1 onion, 6.0ms\n",
      "0: 480x640 1 onion, 6.0ms\n",
      "0: 480x640 1 onion, 6.0ms\n",
      "0: 480x640 1 onion, 6.0ms\n",
      "0: 480x640 1 onion, 6.0ms\n",
      "0: 480x640 1 onion, 6.0ms\n",
      "0: 480x640 1 onion, 6.0ms\n",
      "0: 480x640 1 onion, 7.0ms\n",
      "0: 480x640 1 onion, 6.0ms\n",
      "0: 480x640 1 onion, 7.0ms\n",
      "0: 480x640 1 onion, 6.0ms\n",
      "0: 480x640 1 onion, 6.0ms\n",
      "0: 480x640 1 onion, 6.0ms\n",
      "0: 480x640 1 onion, 6.5ms\n",
      "0: 480x640 1 onion, 6.0ms\n",
      "0: 480x640 1 onion, 6.0ms\n",
      "0: 480x640 1 onion, 5.0ms\n",
      "0: 480x640 1 onion, 6.0ms\n",
      "0: 480x640 1 onion, 5.0ms\n",
      "0: 480x640 1 onion, 6.0ms\n",
      "0: 480x640 1 onion, 7.0ms\n",
      "0: 480x640 1 onion, 6.0ms\n",
      "0: 480x640 1 onion, 6.0ms\n",
      "0: 480x640 1 onion, 6.0ms\n",
      "0: 480x640 1 onion, 6.0ms\n",
      "0: 480x640 1 onion, 6.0ms\n",
      "0: 480x640 1 onion, 6.6ms\n",
      "0: 480x640 1 onion, 6.0ms\n",
      "0: 480x640 1 onion, 7.0ms\n",
      "0: 480x640 1 onion, 6.0ms\n",
      "0: 480x640 1 onion, 6.0ms\n",
      "0: 480x640 1 onion, 6.0ms\n",
      "0: 480x640 1 onion, 6.0ms\n",
      "0: 480x640 1 onion, 7.0ms\n",
      "0: 480x640 1 onion, 5.0ms\n",
      "0: 480x640 1 onion, 6.0ms\n",
      "0: 480x640 1 onion, 6.0ms\n",
      "0: 480x640 1 onion, 6.0ms\n",
      "0: 480x640 1 onion, 6.0ms\n",
      "0: 480x640 1 onion, 5.4ms\n",
      "0: 480x640 1 onion, 6.0ms\n",
      "0: 480x640 1 onion, 6.6ms\n",
      "0: 480x640 1 onion, 6.0ms\n",
      "0: 480x640 1 onion, 6.0ms\n",
      "0: 480x640 1 onion, 6.0ms\n",
      "0: 480x640 1 onion, 6.0ms\n",
      "0: 480x640 1 onion, 5.0ms\n",
      "0: 480x640 1 onion, 6.0ms\n",
      "0: 480x640 1 onion, 6.0ms\n",
      "0: 480x640 1 onion, 6.0ms\n",
      "0: 480x640 1 onion, 6.0ms\n",
      "0: 480x640 1 onion, 7.0ms\n",
      "0: 480x640 1 onion, 6.0ms\n",
      "0: 480x640 1 onion, 6.0ms\n",
      "0: 480x640 1 onion, 6.0ms\n",
      "0: 480x640 1 onion, 6.0ms\n",
      "0: 480x640 1 onion, 6.0ms\n",
      "0: 480x640 1 onion, 6.7ms\n",
      "0: 480x640 1 onion, 6.0ms\n",
      "0: 480x640 1 onion, 6.0ms\n",
      "0: 480x640 1 onion, 6.0ms\n",
      "0: 480x640 1 onion, 6.0ms\n",
      "0: 480x640 1 onion, 6.0ms\n",
      "0: 480x640 1 onion, 6.0ms\n",
      "0: 480x640 1 onion, 6.0ms\n",
      "0: 480x640 1 onion, 6.0ms\n",
      "0: 480x640 1 onion, 6.0ms\n",
      "0: 480x640 1 onion, 6.0ms\n",
      "0: 480x640 1 onion, 6.0ms\n",
      "0: 480x640 1 onion, 6.0ms\n",
      "0: 480x640 1 onion, 6.0ms\n",
      "0: 480x640 1 onion, 7.0ms\n",
      "0: 480x640 1 onion, 6.0ms\n",
      "0: 480x640 1 onion, 6.0ms\n",
      "0: 480x640 1 onion, 6.0ms\n",
      "0: 480x640 1 onion, 5.0ms\n",
      "0: 480x640 1 onion, 6.0ms\n",
      "0: 480x640 1 onion, 5.0ms\n",
      "0: 480x640 1 onion, 6.0ms\n",
      "0: 480x640 1 onion, 6.0ms\n",
      "0: 480x640 1 onion, 6.0ms\n",
      "0: 480x640 1 onion, 6.0ms\n",
      "0: 480x640 1 onion, 7.0ms\n",
      "0: 480x640 1 onion, 7.0ms\n",
      "0: 480x640 1 onion, 7.0ms\n",
      "0: 480x640 1 onion, 7.0ms\n",
      "0: 480x640 1 onion, 7.0ms\n",
      "0: 480x640 1 onion, 6.0ms\n",
      "0: 480x640 1 onion, 7.0ms\n",
      "0: 480x640 1 onion, 6.0ms\n",
      "0: 480x640 1 onion, 6.0ms\n",
      "0: 480x640 1 onion, 7.0ms\n",
      "0: 480x640 1 onion, 5.6ms\n",
      "0: 480x640 1 onion, 7.0ms\n",
      "0: 480x640 1 onion, 6.0ms\n",
      "0: 480x640 1 onion, 6.0ms\n",
      "0: 480x640 1 onion, 6.0ms\n",
      "0: 480x640 1 onion, 6.0ms\n",
      "0: 480x640 1 onion, 6.0ms\n",
      "0: 480x640 1 onion, 6.0ms\n",
      "0: 480x640 1 onion, 6.0ms\n",
      "0: 480x640 1 onion, 6.0ms\n",
      "0: 480x640 1 onion, 6.0ms\n",
      "0: 480x640 1 onion, 6.0ms\n",
      "0: 480x640 1 onion, 7.0ms\n",
      "0: 480x640 1 onion, 6.0ms\n",
      "0: 480x640 1 onion, 6.0ms\n",
      "0: 480x640 1 onion, 6.0ms\n",
      "0: 480x640 1 onion, 6.0ms\n",
      "0: 480x640 1 onion, 7.0ms\n",
      "0: 480x640 1 onion, 6.0ms\n",
      "0: 480x640 1 onion, 7.0ms\n",
      "0: 480x640 1 onion, 6.0ms\n",
      "0: 480x640 1 onion, 7.0ms\n",
      "0: 480x640 1 onion, 6.0ms\n",
      "0: 480x640 1 onion, 6.0ms\n",
      "0: 480x640 1 onion, 6.0ms\n",
      "0: 480x640 1 onion, 5.0ms\n",
      "0: 480x640 1 onion, 6.0ms\n",
      "0: 480x640 1 onion, 6.0ms\n",
      "0: 480x640 1 onion, 6.0ms\n",
      "0: 480x640 1 onion, 6.0ms\n",
      "0: 480x640 1 onion, 7.0ms\n",
      "0: 480x640 1 onion, 7.0ms\n",
      "0: 480x640 1 onion, 5.0ms\n",
      "0: 480x640 1 onion, 7.0ms\n",
      "0: 480x640 1 onion, 6.0ms\n",
      "0: 480x640 1 onion, 7.0ms\n",
      "0: 480x640 1 onion, 5.7ms\n",
      "0: 480x640 1 onion, 6.0ms\n",
      "0: 480x640 1 onion, 6.0ms\n",
      "0: 480x640 1 onion, 6.0ms\n",
      "0: 480x640 1 onion, 6.0ms\n",
      "0: 480x640 1 onion, 7.0ms\n",
      "0: 480x640 1 onion, 6.0ms\n",
      "0: 480x640 1 onion, 6.0ms\n",
      "0: 480x640 1 onion, 6.0ms\n",
      "0: 480x640 1 onion, 6.0ms\n",
      "0: 480x640 1 onion, 6.0ms\n",
      "0: 480x640 1 onion, 7.0ms\n",
      "0: 480x640 1 onion, 7.0ms\n",
      "0: 480x640 1 onion, 6.0ms\n",
      "0: 480x640 1 onion, 6.0ms\n",
      "0: 480x640 1 onion, 6.5ms\n",
      "0: 480x640 1 onion, 6.0ms\n",
      "0: 480x640 1 onion, 1 pumpkin, 7.0ms\n",
      "0: 480x640 1 onion, 6.0ms\n",
      "0: 480x640 1 onion, 7.0ms\n",
      "0: 480x640 1 onion, 6.0ms\n",
      "0: 480x640 1 onion, 6.0ms\n",
      "0: 480x640 1 onion, 6.0ms\n",
      "0: 480x640 1 onion, 6.0ms\n",
      "0: 480x640 1 onion, 5.7ms\n",
      "0: 480x640 1 onion, 6.0ms\n",
      "0: 480x640 1 onion, 6.0ms\n",
      "0: 480x640 1 onion, 1 pumpkin, 6.0ms\n",
      "0: 480x640 1 onion, 7.0ms\n",
      "0: 480x640 1 onion, 6.0ms\n",
      "0: 480x640 1 onion, 7.0ms\n",
      "0: 480x640 1 onion, 6.0ms\n",
      "0: 480x640 1 onion, 6.7ms\n",
      "0: 480x640 1 onion, 6.0ms\n",
      "0: 480x640 1 onion, 6.7ms\n",
      "0: 480x640 1 onion, 6.0ms\n",
      "0: 480x640 1 onion, 7.0ms\n",
      "0: 480x640 1 onion, 7.0ms\n",
      "0: 480x640 1 onion, 6.0ms\n",
      "0: 480x640 1 onion, 7.0ms\n",
      "0: 480x640 1 onion, 6.0ms\n",
      "0: 480x640 1 onion, 6.0ms\n",
      "0: 480x640 1 onion, 6.6ms\n",
      "0: 480x640 1 onion, 6.0ms\n",
      "0: 480x640 1 onion, 6.0ms\n",
      "0: 480x640 1 onion, 6.0ms\n",
      "0: 480x640 1 onion, 7.0ms\n",
      "0: 480x640 1 onion, 6.0ms\n",
      "0: 480x640 1 onion, 6.0ms\n",
      "0: 480x640 1 onion, 6.0ms\n",
      "0: 480x640 1 onion, 6.0ms\n",
      "0: 480x640 1 onion, 6.0ms\n",
      "0: 480x640 1 onion, 6.0ms\n",
      "0: 480x640 1 onion, 6.0ms\n",
      "0: 480x640 1 onion, 1 pumpkin, 6.7ms\n",
      "0: 480x640 1 onion, 1 pumpkin, 6.0ms\n",
      "0: 480x640 1 bell pepper, 7.0ms\n",
      "0: 480x640 1 bell pepper, 9.0ms\n",
      "0: 480x640 1 bell pepper, 6.0ms\n",
      "0: 480x640 1 onion, 5.7ms\n",
      "0: 480x640 1 onion, 7.0ms\n",
      "0: 480x640 1 pumpkin, 7.0ms\n",
      "0: 480x640 (no detections), 6.0ms\n",
      "0: 480x640 (no detections), 6.0ms\n",
      "0: 480x640 1 pumpkin, 6.0ms\n",
      "0: 480x640 1 onion, 5.0ms\n",
      "0: 480x640 1 onion, 7.0ms\n",
      "0: 480x640 1 pumpkin, 5.7ms\n",
      "0: 480x640 (no detections), 6.0ms\n",
      "0: 480x640 1 pumpkin, 7.0ms\n",
      "0: 480x640 (no detections), 6.0ms\n",
      "0: 480x640 1 bell pepper, 7.0ms\n",
      "0: 480x640 (no detections), 7.0ms\n",
      "0: 480x640 (no detections), 7.0ms\n",
      "0: 480x640 1 onion, 7.0ms\n",
      "0: 480x640 1 onion, 6.0ms\n",
      "0: 480x640 (no detections), 6.0ms\n",
      "0: 480x640 (no detections), 6.0ms\n",
      "0: 480x640 1 garlic, 6.0ms\n",
      "0: 480x640 (no detections), 6.0ms\n",
      "0: 480x640 1 garlic, 7.0ms\n",
      "0: 480x640 1 garlic, 6.0ms\n",
      "0: 480x640 1 garlic, 6.0ms\n",
      "0: 480x640 1 garlic, 7.7ms\n",
      "0: 480x640 1 pumpkin, 6.0ms\n",
      "0: 480x640 1 pumpkin, 6.0ms\n",
      "0: 480x640 1 pumpkin, 6.0ms\n",
      "0: 480x640 1 pumpkin, 6.0ms\n",
      "0: 480x640 1 pumpkin, 7.0ms\n",
      "0: 480x640 1 pumpkin, 7.0ms\n",
      "0: 480x640 1 pumpkin, 6.0ms\n",
      "0: 480x640 1 pumpkin, 7.0ms\n",
      "0: 480x640 1 pumpkin, 7.0ms\n",
      "0: 480x640 1 pumpkin, 6.6ms\n",
      "0: 480x640 (no detections), 5.7ms\n",
      "0: 480x640 (no detections), 6.0ms\n",
      "0: 480x640 (no detections), 7.0ms\n",
      "0: 480x640 1 carrot, 7.0ms\n",
      "0: 480x640 1 carrot, 6.0ms\n",
      "0: 480x640 1 garlic, 7.0ms\n",
      "0: 480x640 (no detections), 7.0ms\n",
      "0: 480x640 1 carrot, 7.0ms\n",
      "0: 480x640 1 carrot, 6.0ms\n",
      "0: 480x640 1 carrot, 1 garlic, 7.0ms\n",
      "0: 480x640 1 carrot, 7.0ms\n",
      "0: 480x640 (no detections), 6.0ms\n",
      "0: 480x640 1 carrot, 6.0ms\n",
      "0: 480x640 1 carrot, 6.0ms\n",
      "0: 480x640 1 carrot, 6.0ms\n",
      "0: 480x640 1 carrot, 7.0ms\n",
      "0: 480x640 1 carrot, 8.0ms\n",
      "0: 480x640 1 carrot, 7.0ms\n",
      "0: 480x640 1 carrot, 1 pumpkin, 6.0ms\n",
      "0: 480x640 1 pumpkin, 6.0ms\n",
      "0: 480x640 (no detections), 6.0ms\n",
      "0: 480x640 1 onion, 7.0ms\n",
      "0: 480x640 (no detections), 7.0ms\n",
      "0: 480x640 (no detections), 7.0ms\n",
      "0: 480x640 1 pumpkin, 7.0ms\n",
      "0: 480x640 1 pumpkin, 6.0ms\n",
      "0: 480x640 1 garlic, 1 pumpkin, 6.0ms\n",
      "0: 480x640 1 pumpkin, 6.0ms\n",
      "0: 480x640 1 garlic, 1 pumpkin, 5.0ms\n",
      "0: 480x640 1 tomato, 6.0ms\n",
      "0: 480x640 1 pumpkin, 7.0ms\n",
      "0: 480x640 1 pumpkin, 7.0ms\n",
      "0: 480x640 1 pumpkin, 7.0ms\n",
      "0: 480x640 1 pumpkin, 7.0ms\n",
      "0: 480x640 1 pumpkin, 6.3ms\n",
      "0: 480x640 1 pumpkin, 7.4ms\n",
      "0: 480x640 1 garlic, 1 pumpkin, 7.0ms\n",
      "0: 480x640 1 pumpkin, 7.0ms\n",
      "0: 480x640 (no detections), 6.0ms\n",
      "0: 480x640 (no detections), 6.0ms\n",
      "0: 480x640 1 garlic, 1 tomato, 7.0ms\n",
      "0: 480x640 (no detections), 7.0ms\n",
      "0: 480x640 1 garlic, 7.0ms\n",
      "0: 480x640 1 garlic, 5.7ms\n",
      "0: 480x640 (no detections), 7.0ms\n",
      "0: 480x640 (no detections), 7.0ms\n",
      "0: 480x640 1 garlic, 6.0ms\n",
      "0: 480x640 1 garlic, 6.0ms\n",
      "0: 480x640 (no detections), 6.0ms\n",
      "0: 480x640 1 garlic, 6.0ms\n",
      "0: 480x640 (no detections), 7.0ms\n",
      "0: 480x640 (no detections), 6.0ms\n",
      "0: 480x640 (no detections), 6.0ms\n",
      "0: 480x640 1 garlic, 6.0ms\n",
      "0: 480x640 (no detections), 6.5ms\n",
      "0: 480x640 1 tomato, 5.5ms\n",
      "0: 480x640 (no detections), 6.0ms\n",
      "0: 480x640 (no detections), 6.0ms\n",
      "0: 480x640 (no detections), 7.0ms\n",
      "0: 480x640 (no detections), 6.0ms\n",
      "0: 480x640 (no detections), 6.0ms\n",
      "0: 480x640 (no detections), 6.0ms\n",
      "0: 480x640 (no detections), 7.0ms\n",
      "0: 480x640 (no detections), 5.0ms\n",
      "0: 480x640 1 tomato, 7.0ms\n",
      "0: 480x640 (no detections), 6.0ms\n",
      "0: 480x640 1 tomato, 7.0ms\n",
      "0: 480x640 (no detections), 6.0ms\n",
      "0: 480x640 (no detections), 6.0ms\n",
      "0: 480x640 (no detections), 6.0ms\n",
      "0: 480x640 (no detections), 6.0ms\n",
      "0: 480x640 (no detections), 6.0ms\n",
      "0: 480x640 (no detections), 6.0ms\n",
      "0: 480x640 (no detections), 7.0ms\n",
      "0: 480x640 (no detections), 7.0ms\n",
      "0: 480x640 (no detections), 6.7ms\n",
      "0: 480x640 (no detections), 6.0ms\n",
      "0: 480x640 1 garlic, 7.0ms\n",
      "0: 480x640 (no detections), 7.0ms\n",
      "0: 480x640 (no detections), 7.0ms\n",
      "0: 480x640 (no detections), 6.0ms\n",
      "0: 480x640 (no detections), 8.0ms\n",
      "0: 480x640 (no detections), 6.0ms\n",
      "0: 480x640 (no detections), 7.0ms\n",
      "0: 480x640 (no detections), 7.0ms\n",
      "0: 480x640 (no detections), 6.7ms\n",
      "0: 480x640 (no detections), 7.0ms\n",
      "0: 480x640 (no detections), 6.0ms\n",
      "0: 480x640 (no detections), 7.0ms\n",
      "0: 480x640 1 tomato, 6.0ms\n",
      "0: 480x640 1 tomato, 6.0ms\n",
      "0: 480x640 (no detections), 6.0ms\n",
      "0: 480x640 1 tomato, 6.0ms\n",
      "0: 480x640 1 tomato, 6.0ms\n",
      "0: 480x640 (no detections), 7.0ms\n",
      "0: 480x640 (no detections), 6.0ms\n",
      "0: 480x640 (no detections), 6.0ms\n",
      "0: 480x640 (no detections), 6.0ms\n",
      "0: 480x640 (no detections), 6.0ms\n",
      "0: 480x640 (no detections), 6.0ms\n",
      "0: 480x640 1 tomato, 6.0ms\n",
      "0: 480x640 1 tomato, 7.0ms\n",
      "0: 480x640 1 garlic, 1 tomato, 6.0ms\n",
      "0: 480x640 1 tomato, 6.0ms\n",
      "0: 480x640 1 tomato, 6.0ms\n",
      "0: 480x640 (no detections), 6.0ms\n",
      "0: 480x640 1 tomato, 6.0ms\n",
      "0: 480x640 1 tomato, 6.0ms\n",
      "0: 480x640 (no detections), 7.0ms\n",
      "0: 480x640 1 tomato, 6.0ms\n",
      "0: 480x640 1 tomato, 6.0ms\n",
      "0: 480x640 1 tomato, 7.0ms\n",
      "0: 480x640 1 garlic, 1 tomato, 7.0ms\n",
      "0: 480x640 1 tomato, 5.0ms\n",
      "0: 480x640 1 tomato, 7.0ms\n",
      "0: 480x640 1 tomato, 6.6ms\n",
      "0: 480x640 1 tomato, 6.0ms\n",
      "0: 480x640 (no detections), 7.0ms\n",
      "0: 480x640 1 tomato, 6.0ms\n",
      "0: 480x640 (no detections), 7.0ms\n",
      "0: 480x640 (no detections), 6.0ms\n",
      "0: 480x640 1 tomato, 7.0ms\n",
      "0: 480x640 (no detections), 6.0ms\n",
      "0: 480x640 (no detections), 6.0ms\n",
      "0: 480x640 1 tomato, 6.0ms\n",
      "0: 480x640 1 tomato, 6.0ms\n",
      "0: 480x640 (no detections), 7.0ms\n",
      "0: 480x640 1 garlic, 6.0ms\n",
      "0: 480x640 1 tomato, 6.0ms\n",
      "0: 480x640 1 tomato, 7.0ms\n",
      "0: 480x640 1 tomato, 6.5ms\n",
      "0: 480x640 1 tomato, 6.0ms\n",
      "0: 480x640 1 tomato, 6.0ms\n",
      "0: 480x640 1 tomato, 7.0ms\n",
      "0: 480x640 1 garlic, 1 tomato, 6.0ms\n",
      "0: 480x640 1 tomato, 7.0ms\n",
      "0: 480x640 1 garlic, 1 tomato, 6.0ms\n",
      "0: 480x640 1 tomato, 7.0ms\n",
      "0: 480x640 1 pumpkin, 1 tomato, 7.0ms\n",
      "0: 480x640 1 pumpkin, 7.0ms\n",
      "0: 480x640 1 pumpkin, 6.5ms\n",
      "0: 480x640 1 pumpkin, 7.0ms\n",
      "0: 480x640 2 pumpkins, 7.0ms\n",
      "0: 480x640 1 pumpkin, 6.0ms\n",
      "0: 480x640 2 pumpkins, 6.7ms\n",
      "0: 480x640 2 pumpkins, 6.0ms\n",
      "0: 480x640 2 pumpkins, 6.0ms\n",
      "0: 480x640 2 pumpkins, 6.7ms\n",
      "0: 480x640 2 bell peppers, 6.0ms\n",
      "0: 480x640 1 pumpkin, 6.0ms\n",
      "0: 480x640 1 bell pepper, 1 pumpkin, 6.0ms\n",
      "0: 480x640 1 bell pepper, 6.0ms\n",
      "0: 480x640 1 tomato, 6.0ms\n",
      "0: 480x640 1 pumpkin, 5.7ms\n",
      "0: 480x640 (no detections), 6.0ms\n",
      "0: 480x640 (no detections), 5.0ms\n",
      "0: 480x640 1 bell pepper, 6.0ms\n",
      "0: 480x640 (no detections), 6.0ms\n",
      "0: 480x640 1 pumpkin, 6.0ms\n",
      "0: 480x640 (no detections), 5.0ms\n",
      "0: 480x640 1 pumpkin, 6.0ms\n",
      "0: 480x640 1 pumpkin, 6.0ms\n",
      "0: 480x640 2 onions, 6.0ms\n",
      "0: 480x640 (no detections), 7.0ms\n",
      "0: 480x640 1 pumpkin, 6.0ms\n",
      "0: 480x640 1 pumpkin, 7.0ms\n",
      "0: 480x640 1 garlic, 6.0ms\n",
      "0: 480x640 (no detections), 7.0ms\n",
      "0: 480x640 1 pumpkin, 6.0ms\n",
      "0: 480x640 1 pumpkin, 6.0ms\n",
      "0: 480x640 1 pumpkin, 6.0ms\n",
      "0: 480x640 1 garlic, 7.0ms\n",
      "0: 480x640 2 garlics, 6.0ms\n",
      "0: 480x640 1 onion, 7.0ms\n",
      "0: 480x640 1 garlic, 6.0ms\n",
      "0: 480x640 1 garlic, 6.0ms\n",
      "0: 480x640 1 onion, 6.0ms\n",
      "0: 480x640 1 garlic, 6.0ms\n",
      "0: 480x640 1 garlic, 6.0ms\n",
      "0: 480x640 1 garlic, 7.0ms\n",
      "0: 480x640 1 garlic, 6.0ms\n",
      "0: 480x640 1 garlic, 6.0ms\n",
      "0: 480x640 3 garlics, 6.0ms\n",
      "0: 480x640 2 garlics, 7.0ms\n",
      "0: 480x640 (no detections), 7.0ms\n",
      "0: 480x640 1 pumpkin, 7.0ms\n",
      "0: 480x640 (no detections), 7.0ms\n",
      "0: 480x640 1 garlic, 7.0ms\n",
      "0: 480x640 (no detections), 6.0ms\n",
      "0: 480x640 1 onion, 7.0ms\n",
      "0: 480x640 1 onion, 6.0ms\n",
      "0: 480x640 1 onion, 6.0ms\n",
      "0: 480x640 (no detections), 7.0ms\n",
      "0: 480x640 (no detections), 6.0ms\n",
      "0: 480x640 1 onion, 6.0ms\n",
      "0: 480x640 1 onion, 6.0ms\n",
      "0: 480x640 1 onion, 6.0ms\n",
      "0: 480x640 1 onion, 1 tomato, 7.0ms\n",
      "0: 480x640 1 garlic, 1 tomato, 6.0ms\n",
      "0: 480x640 1 onion, 6.0ms\n",
      "0: 480x640 (no detections), 7.0ms\n",
      "0: 480x640 (no detections), 5.0ms\n",
      "0: 480x640 1 pumpkin, 6.0ms\n",
      "0: 480x640 (no detections), 6.0ms\n",
      "0: 480x640 1 pumpkin, 6.0ms\n",
      "0: 480x640 1 pumpkin, 6.0ms\n",
      "0: 480x640 (no detections), 7.0ms\n",
      "0: 480x640 1 pumpkin, 6.0ms\n",
      "0: 480x640 1 pumpkin, 6.0ms\n",
      "0: 480x640 1 pumpkin, 6.0ms\n",
      "0: 480x640 1 pumpkin, 6.0ms\n",
      "0: 480x640 2 pumpkins, 6.0ms\n",
      "0: 480x640 (no detections), 5.0ms\n",
      "0: 480x640 (no detections), 6.0ms\n",
      "0: 480x640 (no detections), 5.0ms\n",
      "0: 480x640 (no detections), 6.0ms\n",
      "0: 480x640 2 pumpkins, 6.0ms\n",
      "0: 480x640 1 pumpkin, 7.0ms\n",
      "0: 480x640 (no detections), 6.0ms\n",
      "0: 480x640 2 pumpkins, 6.0ms\n",
      "0: 480x640 1 pumpkin, 6.0ms\n",
      "0: 480x640 (no detections), 6.0ms\n",
      "0: 480x640 1 pumpkin, 6.0ms\n",
      "0: 480x640 1 carrot, 1 pumpkin, 6.0ms\n",
      "0: 480x640 1 pumpkin, 6.5ms\n",
      "0: 480x640 (no detections), 7.0ms\n",
      "0: 480x640 1 bell pepper, 7.0ms\n",
      "0: 480x640 (no detections), 6.0ms\n",
      "0: 480x640 1 pumpkin, 6.0ms\n",
      "0: 480x640 1 bell pepper, 7.0ms\n",
      "0: 480x640 2 pumpkins, 6.0ms\n",
      "0: 480x640 1 pumpkin, 5.5ms\n",
      "0: 480x640 1 eggplant, 1 pumpkin, 6.6ms\n",
      "0: 480x640 1 pumpkin, 6.0ms\n",
      "0: 480x640 1 carrot, 1 pumpkin, 7.0ms\n",
      "0: 480x640 1 carrot, 1 pumpkin, 6.0ms\n",
      "0: 480x640 1 carrot, 1 pumpkin, 6.0ms\n",
      "0: 480x640 1 pumpkin, 7.0ms\n",
      "0: 480x640 2 pumpkins, 6.0ms\n",
      "0: 480x640 1 pumpkin, 7.0ms\n",
      "0: 480x640 1 pumpkin, 6.0ms\n",
      "0: 480x640 (no detections), 6.0ms\n",
      "0: 480x640 1 pumpkin, 6.0ms\n",
      "0: 480x640 1 pumpkin, 6.0ms\n",
      "0: 480x640 (no detections), 6.6ms\n",
      "0: 480x640 1 pumpkin, 6.0ms\n",
      "0: 480x640 (no detections), 6.0ms\n",
      "0: 480x640 (no detections), 6.0ms\n",
      "0: 480x640 (no detections), 6.6ms\n",
      "0: 480x640 1 pumpkin, 7.0ms\n",
      "0: 480x640 1 tomato, 6.0ms\n",
      "0: 480x640 2 tomatos, 6.8ms\n",
      "0: 480x640 2 tomatos, 6.0ms\n",
      "0: 480x640 2 tomatos, 6.0ms\n",
      "0: 480x640 2 tomatos, 7.0ms\n",
      "0: 480x640 2 tomatos, 7.0ms\n",
      "0: 480x640 (no detections), 7.0ms\n",
      "0: 480x640 2 onions, 7.0ms\n",
      "0: 480x640 (no detections), 7.0ms\n",
      "0: 480x640 (no detections), 6.0ms\n",
      "0: 480x640 1 onion, 6.0ms\n",
      "0: 480x640 1 onion, 7.0ms\n",
      "0: 480x640 1 onion, 6.0ms\n",
      "0: 480x640 (no detections), 6.0ms\n",
      "0: 480x640 1 bell pepper, 7.0ms\n",
      "0: 480x640 1 bell pepper, 1 carrot, 2 tomatos, 6.0ms\n",
      "0: 480x640 1 pumpkin, 6.0ms\n",
      "0: 480x640 (no detections), 6.0ms\n",
      "0: 480x640 (no detections), 7.0ms\n",
      "0: 480x640 (no detections), 6.0ms\n",
      "0: 480x640 1 garlic, 7.0ms\n",
      "0: 480x640 1 garlic, 6.0ms\n",
      "0: 480x640 (no detections), 6.0ms\n",
      "0: 480x640 1 pumpkin, 6.0ms\n",
      "0: 480x640 1 pumpkin, 7.0ms\n",
      "0: 480x640 1 pumpkin, 7.0ms\n",
      "0: 480x640 1 onion, 7.0ms\n",
      "0: 480x640 1 onion, 6.0ms\n",
      "0: 480x640 1 pumpkin, 6.0ms\n",
      "0: 480x640 1 pumpkin, 7.0ms\n",
      "0: 480x640 1 garlic, 1 pumpkin, 6.0ms\n",
      "0: 480x640 1 carrot, 6.0ms\n",
      "0: 480x640 2 carrots, 6.0ms\n",
      "0: 480x640 3 carrots, 6.0ms\n",
      "0: 480x640 1 carrot, 5.6ms\n",
      "0: 480x640 1 carrot, 6.0ms\n",
      "0: 480x640 2 carrots, 7.0ms\n",
      "0: 480x640 2 carrots, 7.0ms\n",
      "0: 480x640 2 carrots, 6.0ms\n",
      "0: 480x640 (no detections), 7.0ms\n",
      "0: 480x640 2 carrots, 6.0ms\n",
      "0: 480x640 (no detections), 7.0ms\n",
      "0: 480x640 1 tomato, 7.0ms\n",
      "0: 480x640 (no detections), 6.0ms\n",
      "0: 480x640 (no detections), 6.0ms\n",
      "0: 480x640 (no detections), 6.0ms\n",
      "0: 480x640 (no detections), 6.0ms\n",
      "0: 480x640 (no detections), 5.7ms\n",
      "0: 480x640 (no detections), 6.0ms\n",
      "0: 480x640 (no detections), 6.0ms\n",
      "0: 480x640 (no detections), 6.0ms\n",
      "0: 480x640 1 carrot, 6.0ms\n",
      "0: 480x640 1 fasol, 6.0ms\n",
      "0: 480x640 (no detections), 7.0ms\n",
      "0: 480x640 (no detections), 6.0ms\n",
      "0: 480x640 (no detections), 6.4ms\n",
      "0: 480x640 1 beet, 7.0ms\n",
      "0: 480x640 1 beet, 7.0ms\n",
      "0: 480x640 (no detections), 7.0ms\n",
      "0: 480x640 1 beet, 6.0ms\n",
      "0: 480x640 (no detections), 6.1ms\n",
      "0: 480x640 1 redka, 7.0ms\n",
      "0: 480x640 (no detections), 6.0ms\n",
      "0: 480x640 1 redka, 7.0ms\n",
      "0: 480x640 1 redka, 6.7ms\n",
      "0: 480x640 1 redka, 6.0ms\n",
      "0: 480x640 (no detections), 7.0ms\n",
      "0: 480x640 1 redka, 6.0ms\n",
      "0: 480x640 1 fasol, 7.0ms\n",
      "0: 480x640 (no detections), 7.0ms\n",
      "0: 480x640 (no detections), 6.0ms\n",
      "0: 480x640 (no detections), 6.0ms\n",
      "0: 480x640 (no detections), 6.0ms\n",
      "0: 480x640 (no detections), 6.0ms\n",
      "0: 480x640 1 redka, 7.0ms\n",
      "0: 480x640 (no detections), 6.0ms\n",
      "0: 480x640 (no detections), 6.0ms\n",
      "0: 480x640 (no detections), 7.0ms\n",
      "0: 480x640 (no detections), 6.0ms\n",
      "0: 480x640 (no detections), 7.0ms\n",
      "0: 480x640 (no detections), 6.0ms\n",
      "0: 480x640 (no detections), 6.0ms\n",
      "0: 480x640 1 redka, 6.0ms\n",
      "0: 480x640 (no detections), 7.0ms\n",
      "0: 480x640 (no detections), 6.7ms\n",
      "0: 480x640 (no detections), 6.0ms\n",
      "0: 480x640 (no detections), 6.0ms\n",
      "0: 480x640 (no detections), 6.0ms\n",
      "0: 480x640 (no detections), 7.0ms\n",
      "0: 480x640 (no detections), 6.0ms\n",
      "0: 480x640 (no detections), 6.0ms\n",
      "0: 480x640 (no detections), 6.4ms\n",
      "0: 480x640 (no detections), 7.0ms\n",
      "0: 480x640 (no detections), 6.5ms\n",
      "0: 480x640 (no detections), 7.0ms\n",
      "0: 480x640 (no detections), 6.0ms\n",
      "0: 480x640 (no detections), 6.0ms\n",
      "0: 480x640 (no detections), 6.0ms\n",
      "0: 480x640 (no detections), 6.0ms\n",
      "0: 480x640 1 redka, 5.0ms\n",
      "0: 480x640 (no detections), 6.0ms\n",
      "0: 480x640 (no detections), 7.0ms\n",
      "0: 480x640 (no detections), 7.0ms\n",
      "0: 480x640 (no detections), 6.0ms\n",
      "0: 480x640 1 fasol, 7.0ms\n",
      "0: 480x640 (no detections), 6.0ms\n",
      "0: 480x640 (no detections), 7.0ms\n",
      "0: 480x640 (no detections), 6.0ms\n",
      "0: 480x640 (no detections), 6.0ms\n",
      "0: 480x640 1 fasol, 6.0ms\n",
      "0: 480x640 (no detections), 6.5ms\n",
      "0: 480x640 (no detections), 6.0ms\n",
      "0: 480x640 (no detections), 6.0ms\n",
      "0: 480x640 (no detections), 6.0ms\n",
      "0: 480x640 (no detections), 6.0ms\n",
      "0: 480x640 (no detections), 6.0ms\n",
      "0: 480x640 (no detections), 6.0ms\n",
      "0: 480x640 1 fasol, 6.0ms\n",
      "0: 480x640 1 fasol, 5.0ms\n",
      "0: 480x640 1 fasol, 6.0ms\n",
      "0: 480x640 (no detections), 6.0ms\n",
      "0: 480x640 (no detections), 6.0ms\n",
      "0: 480x640 (no detections), 7.0ms\n",
      "0: 480x640 (no detections), 6.0ms\n",
      "0: 480x640 1 redka, 7.0ms\n",
      "0: 480x640 (no detections), 6.0ms\n",
      "0: 480x640 (no detections), 6.0ms\n",
      "0: 480x640 (no detections), 6.0ms\n",
      "0: 480x640 (no detections), 6.0ms\n",
      "0: 480x640 (no detections), 6.0ms\n",
      "0: 480x640 (no detections), 6.0ms\n",
      "0: 480x640 (no detections), 6.0ms\n",
      "0: 480x640 (no detections), 6.0ms\n",
      "0: 480x640 (no detections), 6.0ms\n",
      "0: 480x640 (no detections), 6.0ms\n",
      "0: 480x640 (no detections), 6.0ms\n",
      "0: 480x640 1 redka, 7.0ms\n",
      "0: 480x640 1 redka, 5.8ms\n",
      "0: 480x640 (no detections), 6.0ms\n",
      "0: 480x640 (no detections), 6.0ms\n",
      "0: 480x640 (no detections), 6.0ms\n",
      "0: 480x640 (no detections), 6.0ms\n",
      "0: 480x640 (no detections), 6.0ms\n",
      "0: 480x640 (no detections), 6.0ms\n",
      "0: 480x640 (no detections), 6.0ms\n",
      "0: 480x640 (no detections), 6.0ms\n",
      "0: 480x640 (no detections), 6.0ms\n",
      "0: 480x640 (no detections), 6.0ms\n",
      "0: 480x640 (no detections), 6.0ms\n",
      "0: 480x640 (no detections), 6.3ms\n",
      "0: 480x640 (no detections), 6.0ms\n",
      "0: 480x640 (no detections), 6.0ms\n",
      "0: 480x640 (no detections), 5.0ms\n",
      "0: 480x640 (no detections), 6.0ms\n",
      "0: 480x640 (no detections), 6.0ms\n",
      "0: 480x640 (no detections), 6.0ms\n",
      "0: 480x640 (no detections), 6.0ms\n",
      "0: 480x640 (no detections), 6.0ms\n",
      "0: 480x640 (no detections), 6.0ms\n",
      "0: 480x640 (no detections), 6.0ms\n",
      "0: 480x640 (no detections), 6.0ms\n",
      "0: 480x640 (no detections), 6.0ms\n",
      "0: 480x640 (no detections), 6.0ms\n",
      "0: 480x640 (no detections), 6.0ms\n",
      "0: 480x640 (no detections), 7.0ms\n",
      "0: 480x640 (no detections), 6.0ms\n",
      "0: 480x640 (no detections), 6.0ms\n",
      "0: 480x640 (no detections), 6.0ms\n",
      "0: 480x640 (no detections), 7.0ms\n",
      "0: 480x640 (no detections), 6.0ms\n",
      "0: 480x640 (no detections), 6.0ms\n",
      "0: 480x640 (no detections), 7.0ms\n",
      "0: 480x640 (no detections), 6.0ms\n",
      "0: 480x640 (no detections), 6.0ms\n",
      "0: 480x640 (no detections), 7.0ms\n",
      "0: 480x640 (no detections), 6.0ms\n",
      "0: 480x640 (no detections), 6.0ms\n",
      "0: 480x640 (no detections), 7.0ms\n",
      "0: 480x640 (no detections), 6.0ms\n",
      "0: 480x640 1 beet, 7.0ms\n",
      "0: 480x640 (no detections), 6.0ms\n",
      "0: 480x640 (no detections), 6.0ms\n",
      "0: 480x640 1 beet, 6.0ms\n",
      "0: 480x640 1 beet, 6.0ms\n",
      "0: 480x640 1 beet, 6.0ms\n",
      "0: 480x640 1 beet, 7.5ms\n",
      "0: 480x640 1 beet, 5.0ms\n",
      "0: 480x640 1 beet, 6.0ms\n",
      "0: 480x640 1 beet, 5.8ms\n",
      "0: 480x640 (no detections), 6.0ms\n",
      "0: 480x640 1 beet, 7.0ms\n",
      "0: 480x640 1 beet, 6.0ms\n",
      "0: 480x640 1 beet, 6.0ms\n",
      "0: 480x640 (no detections), 6.0ms\n",
      "0: 480x640 1 beet, 1 redka, 5.0ms\n",
      "0: 480x640 1 beet, 7.0ms\n",
      "0: 480x640 1 beet, 6.0ms\n",
      "0: 480x640 1 beet, 7.0ms\n",
      "0: 480x640 (no detections), 6.0ms\n",
      "0: 480x640 (no detections), 7.0ms\n",
      "0: 480x640 1 beet, 1 redka, 6.0ms\n",
      "0: 480x640 (no detections), 6.0ms\n",
      "0: 480x640 1 beet, 6.0ms\n",
      "0: 480x640 1 beet, 6.0ms\n",
      "0: 480x640 1 beet, 6.0ms\n",
      "0: 480x640 1 beet, 6.0ms\n",
      "0: 480x640 1 beet, 6.0ms\n",
      "0: 480x640 1 beet, 8.0ms\n",
      "0: 480x640 1 beet, 7.0ms\n",
      "0: 480x640 1 beet, 6.0ms\n",
      "0: 480x640 1 beet, 6.0ms\n",
      "0: 480x640 1 beet, 7.0ms\n",
      "0: 480x640 (no detections), 6.0ms\n",
      "0: 480x640 1 beet, 6.0ms\n",
      "0: 480x640 1 beet, 6.3ms\n",
      "0: 480x640 1 beet, 6.0ms\n",
      "0: 480x640 (no detections), 6.0ms\n",
      "0: 480x640 1 beet, 6.0ms\n",
      "0: 480x640 1 beet, 6.0ms\n",
      "0: 480x640 1 beet, 6.0ms\n",
      "0: 480x640 1 beet, 6.0ms\n",
      "0: 480x640 1 beet, 6.0ms\n",
      "0: 480x640 1 beet, 6.0ms\n",
      "0: 480x640 1 beet, 6.0ms\n",
      "0: 480x640 1 beet, 7.0ms\n",
      "0: 480x640 1 beet, 5.0ms\n",
      "0: 480x640 1 beet, 6.0ms\n",
      "0: 480x640 1 beet, 6.0ms\n",
      "0: 480x640 1 beet, 7.0ms\n",
      "0: 480x640 1 beet, 6.0ms\n",
      "0: 480x640 1 beet, 6.0ms\n",
      "0: 480x640 1 beet, 7.0ms\n",
      "0: 480x640 1 beet, 6.0ms\n",
      "0: 480x640 1 beet, 6.0ms\n",
      "0: 480x640 1 beet, 7.0ms\n",
      "0: 480x640 1 beet, 6.0ms\n",
      "0: 480x640 1 beet, 6.0ms\n",
      "0: 480x640 (no detections), 7.0ms\n",
      "0: 480x640 1 beet, 6.0ms\n",
      "0: 480x640 1 beet, 6.0ms\n",
      "0: 480x640 1 beet, 6.0ms\n",
      "0: 480x640 (no detections), 6.0ms\n",
      "0: 480x640 1 beet, 6.0ms\n",
      "0: 480x640 1 redka, 6.0ms\n",
      "0: 480x640 (no detections), 6.0ms\n",
      "0: 480x640 1 beet, 6.0ms\n",
      "0: 480x640 1 beet, 6.0ms\n",
      "0: 480x640 1 beet, 6.0ms\n",
      "0: 480x640 1 beet, 6.0ms\n",
      "0: 480x640 1 beet, 6.0ms\n",
      "0: 480x640 (no detections), 6.0ms\n",
      "0: 480x640 (no detections), 7.0ms\n",
      "0: 480x640 1 beet, 7.0ms\n",
      "0: 480x640 (no detections), 6.0ms\n",
      "0: 480x640 1 beet, 7.0ms\n",
      "0: 480x640 1 beet, 6.0ms\n",
      "0: 480x640 1 beet, 6.0ms\n",
      "0: 480x640 1 beet, 6.0ms\n",
      "0: 480x640 1 beet, 7.0ms\n",
      "0: 480x640 (no detections), 6.0ms\n",
      "0: 480x640 1 beet, 5.6ms\n",
      "0: 480x640 1 beet, 6.0ms\n",
      "0: 480x640 1 beet, 6.0ms\n",
      "0: 480x640 1 beet, 6.7ms\n",
      "0: 480x640 1 beet, 7.0ms\n",
      "0: 480x640 1 beet, 6.0ms\n",
      "0: 480x640 (no detections), 6.0ms\n",
      "0: 480x640 1 carrot, 6.0ms\n",
      "0: 480x640 (no detections), 6.0ms\n",
      "0: 480x640 (no detections), 6.0ms\n",
      "0: 480x640 1 fasol, 6.0ms\n",
      "0: 480x640 1 carrot, 5.5ms\n",
      "0: 480x640 (no detections), 7.0ms\n",
      "0: 480x640 (no detections), 6.0ms\n",
      "0: 480x640 (no detections), 6.0ms\n",
      "0: 480x640 1 pumpkin, 6.0ms\n",
      "0: 480x640 1 bell pepper, 6.0ms\n",
      "0: 480x640 (no detections), 6.0ms\n",
      "0: 480x640 1 carrot, 6.0ms\n",
      "0: 480x640 1 pumpkin, 6.0ms\n",
      "0: 480x640 (no detections), 5.0ms\n",
      "0: 480x640 1 garlic, 1 onion, 7.0ms\n",
      "0: 480x640 (no detections), 7.0ms\n",
      "0: 480x640 (no detections), 6.0ms\n",
      "0: 480x640 (no detections), 6.0ms\n",
      "0: 480x640 (no detections), 7.0ms\n",
      "0: 480x640 (no detections), 6.0ms\n",
      "0: 480x640 (no detections), 6.0ms\n",
      "0: 480x640 1 onion, 6.0ms\n",
      "0: 480x640 (no detections), 7.0ms\n",
      "0: 480x640 1 bell pepper, 6.0ms\n",
      "0: 480x640 1 onion, 6.0ms\n",
      "0: 480x640 2 onions, 6.0ms\n",
      "0: 480x640 1 garlic, 1 onion, 6.0ms\n",
      "0: 480x640 2 garlics, 1 onion, 7.0ms\n",
      "0: 480x640 2 garlics, 6.0ms\n",
      "0: 480x640 1 garlic, 1 onion, 6.0ms\n",
      "0: 480x640 (no detections), 7.0ms\n",
      "0: 480x640 1 onion, 7.0ms\n",
      "0: 480x640 1 bell pepper, 6.0ms\n",
      "0: 480x640 1 bell pepper, 6.0ms\n",
      "0: 480x640 1 bell pepper, 1 carrot, 6.0ms\n",
      "0: 480x640 1 bell pepper, 7.0ms\n",
      "0: 480x640 1 bell pepper, 1 carrot, 7.0ms\n",
      "0: 480x640 1 bell pepper, 7.0ms\n",
      "0: 480x640 1 bell pepper, 1 carrot, 6.0ms\n",
      "0: 480x640 1 bell pepper, 1 carrot, 7.0ms\n",
      "0: 480x640 1 bell pepper, 1 carrot, 6.0ms\n",
      "0: 480x640 1 bell pepper, 1 carrot, 6.0ms\n",
      "0: 480x640 1 bell pepper, 1 carrot, 6.0ms\n",
      "0: 480x640 1 bell pepper, 1 carrot, 6.0ms\n",
      "0: 480x640 1 bell pepper, 1 carrot, 7.5ms\n",
      "0: 480x640 1 bell pepper, 1 carrot, 6.0ms\n",
      "0: 480x640 1 bell pepper, 6.0ms\n",
      "0: 480x640 1 bell pepper, 7.0ms\n",
      "0: 480x640 1 bell pepper, 1 carrot, 6.0ms\n",
      "0: 480x640 1 bell pepper, 1 carrot, 6.0ms\n",
      "0: 480x640 1 bell pepper, 1 carrot, 7.0ms\n",
      "0: 480x640 1 bell pepper, 1 carrot, 6.0ms\n",
      "0: 480x640 1 bell pepper, 1 carrot, 6.0ms\n",
      "0: 480x640 2 bell peppers, 1 carrot, 6.0ms\n",
      "0: 480x640 1 bell pepper, 7.0ms\n",
      "0: 480x640 1 bell pepper, 1 carrot, 6.0ms\n",
      "0: 480x640 1 bell pepper, 6.0ms\n",
      "0: 480x640 2 bell peppers, 5.0ms\n",
      "0: 480x640 1 bell pepper, 6.0ms\n",
      "0: 480x640 1 bell pepper, 7.0ms\n",
      "0: 480x640 2 bell peppers, 6.0ms\n",
      "0: 480x640 2 bell peppers, 5.6ms\n",
      "0: 480x640 1 bell pepper, 6.0ms\n",
      "0: 480x640 2 bell peppers, 6.0ms\n",
      "0: 480x640 2 bell peppers, 5.0ms\n",
      "0: 480x640 1 bell pepper, 6.0ms\n",
      "0: 480x640 1 bell pepper, 6.0ms\n",
      "0: 480x640 1 bell pepper, 6.0ms\n",
      "0: 480x640 1 bell pepper, 1 tomato, 5.0ms\n",
      "0: 480x640 2 tomatos, 6.0ms\n",
      "0: 480x640 2 tomatos, 6.0ms\n",
      "0: 480x640 1 tomato, 6.0ms\n",
      "0: 480x640 2 tomatos, 6.0ms\n",
      "0: 480x640 1 tomato, 6.0ms\n",
      "0: 480x640 1 tomato, 6.0ms\n",
      "0: 480x640 (no detections), 6.0ms\n",
      "0: 480x640 1 bell pepper, 6.0ms\n",
      "0: 480x640 1 bell pepper, 6.0ms\n",
      "0: 480x640 1 bell pepper, 6.0ms\n",
      "0: 480x640 1 bell pepper, 7.0ms\n",
      "0: 480x640 1 bell pepper, 5.0ms\n",
      "0: 480x640 2 bell peppers, 6.0ms\n",
      "0: 480x640 1 bell pepper, 6.0ms\n",
      "0: 480x640 1 bell pepper, 6.0ms\n",
      "0: 480x640 1 bell pepper, 7.0ms\n",
      "0: 480x640 1 bell pepper, 1 tomato, 6.0ms\n",
      "0: 480x640 1 bell pepper, 1 tomato, 6.0ms\n",
      "0: 480x640 1 bell pepper, 1 tomato, 6.0ms\n",
      "0: 480x640 1 bell pepper, 1 tomato, 6.0ms\n",
      "0: 480x640 1 bell pepper, 6.0ms\n",
      "0: 480x640 1 bell pepper, 1 tomato, 6.0ms\n",
      "0: 480x640 1 bell pepper, 1 tomato, 6.3ms\n",
      "0: 480x640 1 tomato, 6.0ms\n",
      "0: 480x640 1 bell pepper, 1 tomato, 7.0ms\n",
      "0: 480x640 1 bell pepper, 1 tomato, 6.0ms\n",
      "0: 480x640 1 tomato, 6.0ms\n",
      "0: 480x640 1 tomato, 6.0ms\n",
      "0: 480x640 (no detections), 6.0ms\n",
      "0: 480x640 (no detections), 6.0ms\n",
      "0: 480x640 1 tomato, 6.0ms\n",
      "0: 480x640 2 tomatos, 6.0ms\n",
      "0: 480x640 1 tomato, 7.0ms\n",
      "0: 480x640 (no detections), 6.0ms\n",
      "0: 480x640 1 tomato, 6.0ms\n",
      "0: 480x640 1 tomato, 6.0ms\n",
      "0: 480x640 1 tomato, 6.0ms\n",
      "0: 480x640 1 tomato, 5.0ms\n",
      "0: 480x640 1 bell pepper, 1 tomato, 6.0ms\n",
      "0: 480x640 1 bell pepper, 1 tomato, 6.0ms\n",
      "0: 480x640 1 bell pepper, 1 tomato, 6.0ms\n",
      "0: 480x640 1 onion, 7.0ms\n",
      "0: 480x640 (no detections), 6.0ms\n",
      "0: 480x640 (no detections), 6.0ms\n",
      "0: 480x640 1 onion, 6.0ms\n",
      "0: 480x640 1 onion, 6.0ms\n",
      "0: 480x640 1 pumpkin, 6.0ms\n",
      "0: 480x640 1 pumpkin, 6.5ms\n",
      "0: 480x640 (no detections), 6.0ms\n",
      "0: 480x640 (no detections), 6.0ms\n",
      "0: 480x640 (no detections), 6.0ms\n",
      "0: 480x640 (no detections), 5.0ms\n",
      "0: 480x640 (no detections), 6.0ms\n",
      "0: 480x640 (no detections), 5.0ms\n",
      "0: 480x640 (no detections), 6.0ms\n",
      "0: 480x640 1 pumpkin, 6.0ms\n",
      "0: 480x640 (no detections), 6.0ms\n",
      "0: 480x640 1 tomato, 7.0ms\n",
      "0: 480x640 1 pumpkin, 6.0ms\n",
      "0: 480x640 1 pumpkin, 6.0ms\n",
      "0: 480x640 (no detections), 6.0ms\n",
      "0: 480x640 (no detections), 6.0ms\n",
      "0: 480x640 1 pumpkin, 6.0ms\n",
      "0: 480x640 (no detections), 7.0ms\n",
      "0: 480x640 1 pumpkin, 6.0ms\n",
      "0: 480x640 (no detections), 6.7ms\n",
      "0: 480x640 1 pumpkin, 6.6ms\n",
      "0: 480x640 1 pumpkin, 6.0ms\n",
      "0: 480x640 (no detections), 7.0ms\n",
      "0: 480x640 (no detections), 6.0ms\n",
      "0: 480x640 (no detections), 7.0ms\n",
      "0: 480x640 (no detections), 6.0ms\n",
      "0: 480x640 (no detections), 6.0ms\n",
      "0: 480x640 (no detections), 6.0ms\n",
      "0: 480x640 (no detections), 6.0ms\n",
      "0: 480x640 (no detections), 6.0ms\n",
      "0: 480x640 1 tomato, 6.0ms\n",
      "0: 480x640 1 garlic, 1 tomato, 6.0ms\n",
      "0: 480x640 (no detections), 7.0ms\n",
      "0: 480x640 (no detections), 6.0ms\n",
      "0: 480x640 (no detections), 6.0ms\n",
      "0: 480x640 (no detections), 6.0ms\n",
      "0: 480x640 1 tomato, 6.0ms\n",
      "0: 480x640 1 garlic, 7.0ms\n",
      "0: 480x640 1 bell pepper, 6.0ms\n",
      "0: 480x640 (no detections), 6.0ms\n",
      "0: 480x640 1 bell pepper, 1 garlic, 6.0ms\n",
      "0: 480x640 1 garlic, 5.5ms\n",
      "0: 480x640 (no detections), 6.0ms\n",
      "0: 480x640 (no detections), 6.0ms\n",
      "0: 480x640 (no detections), 6.0ms\n",
      "0: 480x640 (no detections), 6.0ms\n",
      "0: 480x640 (no detections), 6.0ms\n",
      "0: 480x640 (no detections), 6.0ms\n",
      "0: 480x640 (no detections), 6.0ms\n",
      "0: 480x640 (no detections), 6.0ms\n",
      "0: 480x640 1 bell pepper, 1 tomato, 6.0ms\n",
      "0: 480x640 1 tomato, 6.0ms\n",
      "0: 480x640 (no detections), 5.0ms\n",
      "0: 480x640 (no detections), 6.0ms\n",
      "0: 480x640 1 garlic, 6.0ms\n",
      "0: 480x640 (no detections), 5.0ms\n",
      "0: 480x640 1 tomato, 6.0ms\n",
      "0: 480x640 2 tomatos, 6.0ms\n",
      "0: 480x640 2 pumpkins, 2 tomatos, 7.0ms\n",
      "0: 480x640 2 onions, 1 pumpkin, 6.0ms\n",
      "0: 480x640 1 garlic, 3 onions, 7.0ms\n",
      "0: 480x640 2 onions, 6.0ms\n",
      "0: 480x640 2 onions, 1 tomato, 7.0ms\n",
      "0: 480x640 1 garlic, 2 onions, 1 pumpkin, 6.0ms\n",
      "0: 480x640 1 bell pepper, 6.0ms\n",
      "0: 480x640 1 carrot, 1 tomato, 7.0ms\n",
      "0: 480x640 1 bell pepper, 3 carrots, 2 tomatos, 6.0ms\n",
      "0: 480x640 4 carrots, 4 tomatos, 6.0ms\n",
      "0: 480x640 1 carrot, 2 tomatos, 6.5ms\n",
      "0: 480x640 1 carrot, 3 tomatos, 7.0ms\n",
      "0: 480x640 1 carrot, 5 tomatos, 6.0ms\n",
      "0: 480x640 1 carrot, 4 tomatos, 6.0ms\n",
      "0: 480x640 3 tomatos, 7.0ms\n",
      "0: 480x640 4 tomatos, 7.0ms\n",
      "0: 480x640 2 tomatos, 6.0ms\n",
      "0: 480x640 3 tomatos, 6.0ms\n",
      "0: 480x640 3 tomatos, 6.0ms\n",
      "0: 480x640 6 tomatos, 6.0ms\n",
      "0: 480x640 8 tomatos, 6.6ms\n",
      "0: 480x640 9 tomatos, 6.0ms\n",
      "0: 480x640 1 hot pepper, 10 tomatos, 6.0ms\n",
      "0: 480x640 8 tomatos, 6.0ms\n",
      "0: 480x640 10 tomatos, 6.0ms\n",
      "0: 480x640 9 tomatos, 6.0ms\n",
      "0: 480x640 9 tomatos, 7.0ms\n",
      "0: 480x640 9 tomatos, 6.5ms\n",
      "0: 480x640 8 tomatos, 6.0ms\n",
      "0: 480x640 9 tomatos, 5.0ms\n",
      "0: 480x640 9 tomatos, 7.0ms\n",
      "0: 480x640 9 tomatos, 6.0ms\n",
      "0: 480x640 7 tomatos, 6.0ms\n",
      "0: 480x640 7 tomatos, 5.6ms\n",
      "0: 480x640 7 tomatos, 6.0ms\n",
      "0: 480x640 7 tomatos, 7.0ms\n",
      "0: 480x640 8 tomatos, 6.0ms\n",
      "0: 480x640 8 tomatos, 6.0ms\n",
      "0: 480x640 8 tomatos, 6.0ms\n",
      "0: 480x640 8 tomatos, 6.0ms\n",
      "0: 480x640 8 tomatos, 6.0ms\n",
      "0: 480x640 8 tomatos, 6.0ms\n",
      "0: 480x640 8 tomatos, 6.0ms\n",
      "0: 480x640 1 carrot, 8 tomatos, 7.0ms\n",
      "0: 480x640 8 tomatos, 6.0ms\n",
      "0: 480x640 8 tomatos, 6.0ms\n",
      "0: 480x640 8 tomatos, 6.0ms\n",
      "0: 480x640 8 tomatos, 7.0ms\n",
      "0: 480x640 8 tomatos, 7.0ms\n",
      "0: 480x640 1 carrot, 9 tomatos, 6.0ms\n",
      "0: 480x640 1 carrot, 8 tomatos, 6.0ms\n",
      "0: 480x640 1 carrot, 8 tomatos, 7.0ms\n",
      "0: 480x640 2 carrots, 8 tomatos, 6.0ms\n",
      "0: 480x640 1 carrot, 8 tomatos, 6.0ms\n",
      "0: 480x640 2 carrots, 8 tomatos, 6.0ms\n",
      "0: 480x640 1 carrot, 8 tomatos, 6.0ms\n",
      "0: 480x640 1 fasol, 8 tomatos, 6.0ms\n",
      "0: 480x640 1 fasol, 8 tomatos, 6.0ms\n",
      "0: 480x640 1 carrot, 1 fasol, 8 tomatos, 6.0ms\n",
      "0: 480x640 1 carrot, 8 tomatos, 6.0ms\n",
      "0: 480x640 1 carrot, 1 fasol, 7 tomatos, 6.0ms\n",
      "0: 480x640 2 carrots, 1 fasol, 7 tomatos, 6.0ms\n",
      "0: 480x640 1 carrot, 1 fasol, 7 tomatos, 6.0ms\n",
      "0: 480x640 1 carrot, 1 fasol, 7 tomatos, 6.0ms\n",
      "0: 480x640 1 carrot, 1 fasol, 7 tomatos, 6.7ms\n",
      "0: 480x640 1 carrot, 1 fasol, 7 tomatos, 6.0ms\n",
      "0: 480x640 1 carrot, 1 fasol, 7 tomatos, 5.5ms\n",
      "0: 480x640 1 carrot, 1 fasol, 7 tomatos, 6.0ms\n",
      "0: 480x640 1 carrot, 1 fasol, 7 tomatos, 6.0ms\n",
      "0: 480x640 1 carrot, 7 tomatos, 7.0ms\n",
      "0: 480x640 1 carrot, 1 fasol, 1 garlic, 7 tomatos, 7.0ms\n",
      "0: 480x640 1 carrot, 1 fasol, 7 tomatos, 7.0ms\n",
      "0: 480x640 1 carrot, 1 fasol, 1 garlic, 7 tomatos, 6.0ms\n",
      "0: 480x640 1 carrot, 8 tomatos, 6.0ms\n",
      "0: 480x640 1 carrot, 1 garlic, 8 tomatos, 6.0ms\n",
      "0: 480x640 1 carrot, 1 garlic, 8 tomatos, 6.0ms\n",
      "0: 480x640 1 carrot, 9 tomatos, 7.0ms\n",
      "0: 480x640 2 carrots, 9 tomatos, 6.0ms\n",
      "0: 480x640 2 carrots, 7 tomatos, 6.0ms\n",
      "0: 480x640 2 carrots, 1 fasol, 7 tomatos, 7.0ms\n",
      "0: 480x640 1 carrot, 1 fasol, 9 tomatos, 6.0ms\n",
      "0: 480x640 1 fasol, 8 tomatos, 6.0ms\n",
      "0: 480x640 1 carrot, 1 fasol, 8 tomatos, 6.0ms\n",
      "0: 480x640 1 carrot, 1 fasol, 8 tomatos, 7.0ms\n",
      "0: 480x640 1 carrot, 1 fasol, 8 tomatos, 6.0ms\n",
      "0: 480x640 1 carrot, 9 tomatos, 7.0ms\n",
      "0: 480x640 1 carrot, 9 tomatos, 6.0ms\n",
      "0: 480x640 1 carrot, 6 tomatos, 6.5ms\n",
      "0: 480x640 1 fasol, 6 tomatos, 6.5ms\n",
      "0: 480x640 1 carrot, 2 tomatos, 6.5ms\n",
      "0: 480x640 1 carrot, 1 hot pepper, 1 tomato, 6.0ms\n",
      "0: 480x640 1 fasol, 3 tomatos, 6.0ms\n",
      "0: 480x640 1 fasol, 3 tomatos, 6.0ms\n",
      "0: 480x640 6 tomatos, 7.0ms\n",
      "0: 480x640 1 fasol, 7 tomatos, 6.0ms\n",
      "0: 480x640 1 fasol, 1 hot pepper, 7 tomatos, 6.0ms\n",
      "0: 480x640 2 fasols, 6 tomatos, 6.0ms\n",
      "0: 480x640 1 carrot, 1 fasol, 6 tomatos, 6.0ms\n",
      "0: 480x640 2 fasols, 6 tomatos, 6.0ms\n",
      "0: 480x640 2 fasols, 8 tomatos, 6.0ms\n",
      "0: 480x640 1 carrot, 1 fasol, 6 tomatos, 6.0ms\n",
      "0: 480x640 1 fasol, 7 tomatos, 6.0ms\n",
      "0: 480x640 1 fasol, 7 tomatos, 7.0ms\n",
      "0: 480x640 1 fasol, 6 tomatos, 6.5ms\n",
      "0: 480x640 2 fasols, 1 garlic, 6 tomatos, 7.0ms\n",
      "0: 480x640 1 fasol, 8 tomatos, 6.0ms\n",
      "0: 480x640 1 garlic, 7 tomatos, 6.0ms\n",
      "0: 480x640 6 tomatos, 6.0ms\n",
      "0: 480x640 7 tomatos, 6.0ms\n",
      "0: 480x640 7 tomatos, 7.0ms\n",
      "0: 480x640 1 fasol, 1 garlic, 3 tomatos, 6.0ms\n",
      "0: 480x640 1 fasol, 3 tomatos, 6.0ms\n",
      "0: 480x640 8 tomatos, 7.0ms\n",
      "0: 480x640 8 tomatos, 6.0ms\n",
      "0: 480x640 5 tomatos, 7.0ms\n",
      "0: 480x640 3 tomatos, 6.0ms\n",
      "0: 480x640 1 fasol, 5 tomatos, 6.0ms\n",
      "0: 480x640 1 fasol, 4 tomatos, 6.0ms\n",
      "0: 480x640 1 fasol, 1 garlic, 3 tomatos, 6.0ms\n",
      "0: 480x640 3 tomatos, 6.0ms\n",
      "0: 480x640 5 tomatos, 6.0ms\n",
      "0: 480x640 1 garlic, 5 tomatos, 6.0ms\n",
      "0: 480x640 4 tomatos, 6.0ms\n",
      "0: 480x640 7 tomatos, 6.0ms\n",
      "0: 480x640 9 tomatos, 5.8ms\n",
      "0: 480x640 9 tomatos, 7.0ms\n",
      "0: 480x640 9 tomatos, 6.0ms\n",
      "0: 480x640 7 tomatos, 6.0ms\n",
      "0: 480x640 1 garlic, 5 tomatos, 6.0ms\n",
      "0: 480x640 5 tomatos, 6.0ms\n",
      "0: 480x640 6 tomatos, 6.0ms\n",
      "0: 480x640 7 tomatos, 7.0ms\n",
      "0: 480x640 7 tomatos, 6.4ms\n",
      "0: 480x640 8 tomatos, 6.5ms\n",
      "0: 480x640 1 fasol, 6 tomatos, 6.7ms\n",
      "0: 480x640 1 fasol, 1 garlic, 4 tomatos, 6.0ms\n",
      "0: 480x640 1 fasol, 1 garlic, 6 tomatos, 6.0ms\n",
      "0: 480x640 1 fasol, 6 tomatos, 6.0ms\n",
      "0: 480x640 1 fasol, 4 tomatos, 7.0ms\n",
      "0: 480x640 7 tomatos, 6.5ms\n",
      "0: 480x640 7 tomatos, 6.0ms\n",
      "0: 480x640 6 tomatos, 7.0ms\n",
      "0: 480x640 8 tomatos, 7.0ms\n",
      "0: 480x640 6 tomatos, 6.0ms\n",
      "0: 480x640 1 garlic, 6 tomatos, 6.0ms\n",
      "0: 480x640 6 tomatos, 5.0ms\n",
      "0: 480x640 7 tomatos, 6.0ms\n",
      "0: 480x640 1 garlic, 6 tomatos, 6.0ms\n",
      "0: 480x640 6 tomatos, 6.0ms\n",
      "0: 480x640 7 tomatos, 6.0ms\n",
      "0: 480x640 7 tomatos, 6.0ms\n",
      "0: 480x640 1 garlic, 6 tomatos, 6.0ms\n",
      "0: 480x640 1 garlic, 7 tomatos, 6.0ms\n",
      "0: 480x640 7 tomatos, 6.0ms\n",
      "0: 480x640 7 tomatos, 6.0ms\n",
      "0: 480x640 7 tomatos, 6.0ms\n",
      "0: 480x640 9 tomatos, 6.0ms\n",
      "0: 480x640 7 tomatos, 6.0ms\n",
      "0: 480x640 7 tomatos, 7.0ms\n",
      "0: 480x640 7 tomatos, 6.0ms\n",
      "0: 480x640 9 tomatos, 6.0ms\n",
      "0: 480x640 1 garlic, 9 tomatos, 6.0ms\n",
      "0: 480x640 9 tomatos, 7.0ms\n",
      "0: 480x640 10 tomatos, 6.0ms\n",
      "0: 480x640 8 tomatos, 5.0ms\n",
      "0: 480x640 9 tomatos, 7.0ms\n",
      "0: 480x640 9 tomatos, 6.0ms\n",
      "0: 480x640 7 tomatos, 6.0ms\n",
      "0: 480x640 1 garlic, 8 tomatos, 6.0ms\n",
      "0: 480x640 8 tomatos, 6.0ms\n",
      "0: 480x640 7 tomatos, 6.0ms\n",
      "0: 480x640 1 fasol, 1 garlic, 7 tomatos, 6.0ms\n",
      "0: 480x640 5 tomatos, 6.0ms\n",
      "0: 480x640 8 tomatos, 6.0ms\n",
      "0: 480x640 3 tomatos, 6.8ms\n",
      "0: 480x640 1 garlic, 3 tomatos, 6.0ms\n",
      "0: 480x640 1 garlic, 3 tomatos, 7.0ms\n",
      "0: 480x640 1 bell pepper, 6 tomatos, 6.0ms\n",
      "0: 480x640 1 bell pepper, 2 tomatos, 6.0ms\n",
      "0: 480x640 3 tomatos, 6.0ms\n",
      "0: 480x640 2 tomatos, 7.0ms\n",
      "0: 480x640 2 tomatos, 7.0ms\n",
      "0: 480x640 4 tomatos, 7.0ms\n",
      "0: 480x640 1 garlic, 2 tomatos, 7.3ms\n",
      "0: 480x640 5 tomatos, 6.6ms\n",
      "0: 480x640 2 tomatos, 6.0ms\n",
      "0: 480x640 1 bell pepper, 1 tomato, 6.0ms\n",
      "0: 480x640 1 bell pepper, 2 tomatos, 6.0ms\n",
      "0: 480x640 1 bell pepper, 4 tomatos, 7.0ms\n",
      "0: 480x640 1 bell pepper, 1 garlic, 3 tomatos, 6.5ms\n",
      "0: 480x640 1 bell pepper, 2 tomatos, 6.4ms\n",
      "0: 480x640 1 bell pepper, 4 tomatos, 6.0ms\n",
      "0: 480x640 1 bell pepper, 3 tomatos, 6.0ms\n",
      "0: 480x640 1 bell pepper, 1 tomato, 6.0ms\n",
      "0: 480x640 1 bell pepper, 3 tomatos, 6.0ms\n",
      "0: 480x640 1 bell pepper, 3 tomatos, 6.5ms\n",
      "0: 480x640 1 bell pepper, 1 garlic, 2 tomatos, 7.0ms\n",
      "0: 480x640 1 bell pepper, 2 tomatos, 7.1ms\n",
      "0: 480x640 1 bell pepper, 3 tomatos, 6.0ms\n",
      "0: 480x640 1 bell pepper, 1 tomato, 9.0ms\n",
      "0: 480x640 1 bell pepper, 1 tomato, 6.0ms\n",
      "0: 480x640 1 bell pepper, 2 tomatos, 5.0ms\n",
      "0: 480x640 1 bell pepper, 2 tomatos, 6.0ms\n",
      "0: 480x640 1 bell pepper, 2 tomatos, 6.0ms\n",
      "0: 480x640 1 bell pepper, 2 tomatos, 6.0ms\n",
      "0: 480x640 1 bell pepper, 2 tomatos, 6.0ms\n",
      "0: 480x640 1 bell pepper, 2 tomatos, 6.0ms\n",
      "0: 480x640 1 bell pepper, 1 tomato, 6.0ms\n",
      "0: 480x640 1 bell pepper, 2 tomatos, 5.8ms\n",
      "0: 480x640 1 bell pepper, 1 tomato, 7.0ms\n",
      "0: 480x640 1 bell pepper, 2 tomatos, 5.9ms\n",
      "0: 480x640 1 bell pepper, 2 tomatos, 6.0ms\n",
      "0: 480x640 1 bell pepper, 2 tomatos, 6.0ms\n",
      "0: 480x640 1 bell pepper, 3 tomatos, 7.0ms\n",
      "0: 480x640 1 bell pepper, 1 garlic, 1 tomato, 5.0ms\n",
      "0: 480x640 1 bell pepper, 1 tomato, 6.0ms\n",
      "0: 480x640 1 bell pepper, 2 tomatos, 7.0ms\n",
      "0: 480x640 1 bell pepper, 2 tomatos, 7.0ms\n",
      "0: 480x640 1 bell pepper, 1 garlic, 1 tomato, 6.0ms\n",
      "0: 480x640 1 bell pepper, 1 tomato, 6.0ms\n",
      "0: 480x640 1 bell pepper, 3 tomatos, 8.0ms\n",
      "0: 480x640 1 bell pepper, 1 garlic, 3 tomatos, 7.0ms\n",
      "0: 480x640 1 bell pepper, 1 tomato, 6.0ms\n",
      "0: 480x640 1 bell pepper, 1 tomato, 7.0ms\n",
      "0: 480x640 1 bell pepper, 1 tomato, 6.6ms\n",
      "0: 480x640 1 bell pepper, 1 tomato, 7.0ms\n",
      "0: 480x640 1 bell pepper, 1 tomato, 7.2ms\n",
      "0: 480x640 1 bell pepper, 1 tomato, 6.7ms\n",
      "0: 480x640 1 bell pepper, 1 tomato, 8.0ms\n",
      "0: 480x640 1 bell pepper, 1 tomato, 7.0ms\n",
      "0: 480x640 2 bell peppers, 1 hot pepper, 3 tomatos, 8.0ms\n",
      "0: 480x640 1 bell pepper, 2 tomatos, 7.0ms\n",
      "0: 480x640 1 bell pepper, 3 tomatos, 6.0ms\n",
      "0: 480x640 1 bell pepper, 1 garlic, 1 tomato, 7.0ms\n",
      "0: 480x640 1 bell pepper, 1 garlic, 1 tomato, 7.0ms\n",
      "0: 480x640 1 bell pepper, 3 tomatos, 6.5ms\n",
      "0: 480x640 1 bell pepper, 1 garlic, 1 tomato, 6.0ms\n",
      "0: 480x640 1 bell pepper, 1 tomato, 7.0ms\n",
      "0: 480x640 1 bell pepper, 3 tomatos, 6.6ms\n",
      "0: 480x640 1 bell pepper, 1 tomato, 7.0ms\n",
      "0: 480x640 1 bell pepper, 2 tomatos, 7.0ms\n",
      "0: 480x640 1 bell pepper, 1 tomato, 6.6ms\n",
      "0: 480x640 1 bell pepper, 2 tomatos, 7.0ms\n",
      "0: 480x640 1 bell pepper, 1 tomato, 6.0ms\n",
      "0: 480x640 1 bell pepper, 2 tomatos, 7.0ms\n",
      "0: 480x640 1 bell pepper, 3 tomatos, 7.0ms\n",
      "0: 480x640 1 bell pepper, 1 tomato, 7.0ms\n",
      "0: 480x640 1 bell pepper, 1 tomato, 7.0ms\n",
      "0: 480x640 1 bell pepper, 2 tomatos, 7.0ms\n",
      "0: 480x640 1 bell pepper, 3 tomatos, 7.0ms\n",
      "0: 480x640 1 bell pepper, 1 tomato, 7.0ms\n",
      "0: 480x640 1 bell pepper, 2 tomatos, 7.0ms\n",
      "0: 480x640 1 bell pepper, 3 tomatos, 8.0ms\n",
      "0: 480x640 1 bell pepper, 1 tomato, 6.0ms\n",
      "0: 480x640 1 bell pepper, 3 tomatos, 6.6ms\n",
      "0: 480x640 1 bell pepper, 1 tomato, 6.0ms\n",
      "0: 480x640 1 bell pepper, 1 tomato, 7.0ms\n",
      "0: 480x640 1 bell pepper, 2 tomatos, 6.0ms\n",
      "0: 480x640 1 garlic, 7.0ms\n",
      "0: 480x640 (no detections), 6.0ms\n",
      "0: 480x640 2 tomatos, 7.0ms\n",
      "0: 480x640 1 tomato, 6.0ms\n",
      "0: 480x640 (no detections), 6.0ms\n",
      "0: 480x640 (no detections), 6.0ms\n",
      "0: 480x640 (no detections), 6.0ms\n",
      "0: 480x640 1 garlic, 6.0ms\n",
      "0: 480x640 1 garlic, 6.0ms\n",
      "0: 480x640 (no detections), 6.0ms\n",
      "0: 480x640 1 garlic, 2 tomatos, 5.0ms\n",
      "0: 480x640 1 tomato, 8.0ms\n",
      "0: 480x640 2 tomatos, 6.0ms\n",
      "0: 480x640 1 tomato, 6.0ms\n",
      "0: 480x640 1 garlic, 6.0ms\n",
      "0: 480x640 (no detections), 6.0ms\n",
      "0: 480x640 (no detections), 6.0ms\n",
      "0: 480x640 (no detections), 6.0ms\n",
      "0: 480x640 1 tomato, 6.0ms\n",
      "0: 480x640 1 garlic, 6.0ms\n",
      "0: 480x640 (no detections), 6.0ms\n",
      "0: 480x640 (no detections), 5.8ms\n",
      "0: 480x640 (no detections), 6.0ms\n",
      "0: 480x640 1 pumpkin, 2 tomatos, 6.0ms\n",
      "0: 480x640 1 pumpkin, 1 tomato, 7.0ms\n",
      "0: 480x640 (no detections), 6.0ms\n",
      "0: 480x640 (no detections), 6.0ms\n",
      "0: 480x640 1 garlic, 6.0ms\n",
      "0: 480x640 1 garlic, 6.0ms\n",
      "0: 480x640 (no detections), 6.0ms\n",
      "0: 480x640 (no detections), 6.0ms\n",
      "0: 480x640 (no detections), 5.0ms\n",
      "0: 480x640 (no detections), 7.0ms\n",
      "0: 480x640 1 garlic, 5.5ms\n",
      "0: 480x640 1 garlic, 5.4ms\n",
      "0: 480x640 (no detections), 6.0ms\n",
      "0: 480x640 1 garlic, 6.0ms\n",
      "0: 480x640 (no detections), 6.0ms\n",
      "0: 480x640 (no detections), 6.0ms\n",
      "0: 480x640 (no detections), 7.0ms\n",
      "0: 480x640 1 garlic, 6.0ms\n",
      "0: 480x640 1 pumpkin, 6.0ms\n",
      "0: 480x640 (no detections), 6.0ms\n",
      "0: 480x640 1 garlic, 6.0ms\n",
      "0: 480x640 (no detections), 5.0ms\n",
      "0: 480x640 (no detections), 6.0ms\n",
      "0: 480x640 (no detections), 6.0ms\n",
      "0: 480x640 1 bell pepper, 1 garlic, 6.0ms\n",
      "0: 480x640 1 bell pepper, 1 pumpkin, 7.0ms\n",
      "0: 480x640 1 bell pepper, 5.0ms\n",
      "0: 480x640 1 bell pepper, 6.0ms\n",
      "0: 480x640 1 bell pepper, 7.0ms\n",
      "0: 480x640 (no detections), 7.0ms\n",
      "0: 480x640 1 bell pepper, 8.0ms\n",
      "0: 480x640 1 fasol, 7.0ms\n",
      "0: 480x640 (no detections), 5.0ms\n",
      "0: 480x640 1 garlic, 2 tomatos, 7.0ms\n",
      "0: 480x640 (no detections), 6.0ms\n",
      "0: 480x640 2 tomatos, 5.0ms\n",
      "0: 480x640 (no detections), 6.0ms\n",
      "0: 480x640 2 tomatos, 6.0ms\n",
      "0: 480x640 (no detections), 6.5ms\n",
      "0: 480x640 1 garlic, 2 tomatos, 6.0ms\n",
      "0: 480x640 1 tomato, 6.0ms\n",
      "0: 480x640 2 tomatos, 6.0ms\n",
      "0: 480x640 3 tomatos, 6.0ms\n",
      "0: 480x640 5 tomatos, 6.0ms\n",
      "0: 480x640 1 garlic, 4 tomatos, 6.0ms\n",
      "0: 480x640 1 tomato, 6.0ms\n",
      "0: 480x640 3 tomatos, 7.0ms\n",
      "0: 480x640 3 tomatos, 6.0ms\n",
      "0: 480x640 2 tomatos, 6.0ms\n",
      "0: 480x640 1 onion, 2 tomatos, 6.0ms\n",
      "0: 480x640 1 onion, 3 tomatos, 6.0ms\n",
      "0: 480x640 (no detections), 7.0ms\n",
      "WARNING  Waiting for stream 0\n",
      "0: 480x640 (no detections), 5.7ms\n",
      "0: 480x640 (no detections), 7.0ms\n",
      "0: 480x640 2 tomatos, 6.0ms\n",
      "0: 480x640 2 tomatos, 7.0ms\n",
      "0: 480x640 1 garlic, 1 tomato, 7.0ms\n",
      "0: 480x640 1 garlic, 1 tomato, 7.0ms\n",
      "0: 480x640 1 tomato, 7.0ms\n",
      "0: 480x640 1 pumpkin, 3 tomatos, 6.0ms\n",
      "0: 480x640 2 tomatos, 6.0ms\n",
      "0: 480x640 (no detections), 7.0ms\n",
      "0: 480x640 1 tomato, 6.0ms\n",
      "0: 480x640 1 tomato, 7.0ms\n",
      "0: 480x640 2 tomatos, 6.0ms\n",
      "0: 480x640 1 pumpkin, 2 tomatos, 6.0ms\n",
      "0: 480x640 1 pumpkin, 4 tomatos, 6.0ms\n",
      "0: 480x640 1 pumpkin, 5 tomatos, 7.0ms\n",
      "0: 480x640 1 tomato, 6.0ms\n",
      "0: 480x640 (no detections), 8.0ms\n",
      "0: 480x640 2 carrots, 2 hot peppers, 7.0ms\n",
      "0: 480x640 1 carrot, 1 fasol, 2 hot peppers, 7.0ms\n",
      "0: 480x640 1 carrot, 7.0ms\n",
      "0: 480x640 1 carrot, 6.0ms\n",
      "0: 480x640 1 carrot, 7.0ms\n",
      "0: 480x640 (no detections), 8.0ms\n",
      "0: 480x640 1 fasol, 2 pumpkins, 7.0ms\n",
      "0: 480x640 1 fasol, 1 pumpkin, 2 tomatos, 7.0ms\n",
      "0: 480x640 3 tomatos, 6.0ms\n",
      "0: 480x640 (no detections), 6.0ms\n",
      "0: 480x640 1 carrot, 1 fasol, 1 tomato, 7.0ms\n",
      "0: 480x640 1 carrot, 1 fasol, 7.0ms\n",
      "0: 480x640 1 carrot, 1 fasol, 6.0ms\n",
      "0: 480x640 1 carrot, 1 fasol, 1 tomato, 7.0ms\n",
      "0: 480x640 1 carrot, 8.0ms\n",
      "0: 480x640 1 carrot, 1 fasol, 1 tomato, 7.0ms\n",
      "0: 480x640 1 carrot, 1 fasol, 3 tomatos, 7.0ms\n",
      "0: 480x640 1 carrot, 3 tomatos, 6.0ms\n",
      "0: 480x640 1 carrot, 3 tomatos, 7.0ms\n",
      "0: 480x640 1 carrot, 2 tomatos, 6.0ms\n",
      "0: 480x640 3 tomatos, 6.0ms\n",
      "0: 480x640 3 tomatos, 7.0ms\n",
      "0: 480x640 2 tomatos, 8.5ms\n",
      "0: 480x640 1 carrot, 4 tomatos, 6.0ms\n",
      "0: 480x640 5 tomatos, 6.0ms\n",
      "0: 480x640 1 pumpkin, 2 tomatos, 7.0ms\n",
      "0: 480x640 1 fasol, 1 garlic, 1 pumpkin, 2 tomatos, 6.0ms\n",
      "0: 480x640 1 pumpkin, 1 rediska, 1 tomato, 7.0ms\n",
      "0: 480x640 1 fasol, 1 pumpkin, 1 redka, 7.0ms\n",
      "0: 480x640 1 carrot, 1 fasol, 8.0ms\n",
      "0: 480x640 1 carrot, 1 hot pepper, 6.0ms\n",
      "0: 480x640 1 carrot, 6.0ms\n",
      "0: 480x640 1 carrot, 7.0ms\n",
      "0: 480x640 1 carrot, 6.0ms\n",
      "0: 480x640 (no detections), 6.0ms\n",
      "0: 480x640 (no detections), 6.0ms\n",
      "0: 480x640 (no detections), 8.0ms\n",
      "0: 480x640 (no detections), 7.0ms\n",
      "0: 480x640 3 garlics, 6.6ms\n",
      "0: 480x640 (no detections), 6.0ms\n",
      "0: 480x640 (no detections), 6.0ms\n",
      "0: 480x640 (no detections), 6.0ms\n",
      "0: 480x640 1 onion, 6.0ms\n",
      "0: 480x640 1 tomato, 6.0ms\n",
      "0: 480x640 1 fasol, 2 tomatos, 7.0ms\n",
      "0: 480x640 1 fasol, 1 tomato, 6.0ms\n",
      "0: 480x640 1 fasol, 6.0ms\n",
      "0: 480x640 1 bell pepper, 7.0ms\n",
      "0: 480x640 1 bell pepper, 1 carrot, 6.0ms\n",
      "0: 480x640 1 bell pepper, 6.0ms\n",
      "0: 480x640 1 carrot, 5.9ms\n",
      "0: 480x640 1 carrot, 1 pumpkin, 6.6ms\n",
      "0: 480x640 1 carrot, 1 pumpkin, 1 tomato, 5.6ms\n",
      "0: 480x640 1 carrot, 1 pumpkin, 2 tomatos, 6.0ms\n",
      "0: 480x640 1 carrot, 1 pumpkin, 1 tomato, 6.0ms\n",
      "0: 480x640 1 fasol, 1 pumpkin, 2 tomatos, 7.0ms\n",
      "0: 480x640 1 fasol, 1 garlic, 1 onion, 6.0ms\n",
      "0: 480x640 1 onion, 7.0ms\n",
      "0: 480x640 1 fasol, 1 onion, 6.0ms\n",
      "0: 480x640 1 onion, 6.0ms\n",
      "0: 480x640 1 onion, 1 tomato, 6.0ms\n",
      "0: 480x640 1 fasol, 1 onion, 1 tomato, 6.0ms\n",
      "0: 480x640 1 onion, 1 tomato, 6.0ms\n",
      "0: 480x640 1 onion, 1 tomato, 6.0ms\n",
      "0: 480x640 1 onion, 6.0ms\n",
      "0: 480x640 1 onion, 1 rediska, 7.0ms\n",
      "0: 480x640 1 fasol, 1 onion, 6.0ms\n",
      "0: 480x640 1 onion, 2 tomatos, 6.0ms\n",
      "0: 480x640 2 tomatos, 6.0ms\n",
      "0: 480x640 1 onion, 1 tomato, 8.0ms\n",
      "0: 480x640 1 onion, 7.0ms\n",
      "0: 480x640 (no detections), 6.0ms\n",
      "0: 480x640 1 pumpkin, 1 tomato, 7.0ms\n",
      "0: 480x640 1 garlic, 1 pumpkin, 7.0ms\n",
      "0: 480x640 1 fasol, 1 pumpkin, 1 tomato, 6.0ms\n",
      "0: 480x640 1 fasol, 1 onion, 1 pumpkin, 1 tomato, 6.0ms\n",
      "0: 480x640 1 tomato, 6.0ms\n",
      "0: 480x640 1 onion, 2 tomatos, 6.0ms\n",
      "0: 480x640 2 tomatos, 5.5ms\n",
      "0: 480x640 1 fasol, 2 tomatos, 6.5ms\n",
      "0: 480x640 2 tomatos, 6.0ms\n",
      "0: 480x640 1 fasol, 1 tomato, 6.0ms\n",
      "0: 480x640 1 onion, 1 pumpkin, 2 tomatos, 6.0ms\n",
      "0: 480x640 1 fasol, 1 garlic, 2 tomatos, 6.0ms\n",
      "0: 480x640 1 fasol, 1 onion, 1 tomato, 6.0ms\n",
      "0: 480x640 1 onion, 2 tomatos, 6.0ms\n",
      "0: 480x640 1 fasol, 2 tomatos, 6.0ms\n",
      "0: 480x640 2 tomatos, 7.5ms\n",
      "0: 480x640 3 tomatos, 6.0ms\n",
      "0: 480x640 3 tomatos, 6.0ms\n",
      "0: 480x640 1 pumpkin, 2 tomatos, 6.6ms\n",
      "0: 480x640 1 pumpkin, 3 tomatos, 6.0ms\n",
      "0: 480x640 1 pumpkin, 1 tomato, 6.0ms\n",
      "0: 480x640 1 hot pepper, 1 pumpkin, 2 tomatos, 6.0ms\n",
      "0: 480x640 1 pumpkin, 3 tomatos, 7.0ms\n",
      "0: 480x640 1 garlic, 1 pumpkin, 3 tomatos, 6.5ms\n",
      "0: 480x640 1 pumpkin, 2 tomatos, 6.6ms\n",
      "0: 480x640 1 pumpkin, 2 tomatos, 6.0ms\n",
      "0: 480x640 1 pumpkin, 1 tomato, 6.0ms\n",
      "0: 480x640 1 pumpkin, 1 tomato, 6.0ms\n",
      "0: 480x640 1 pumpkin, 1 tomato, 6.0ms\n",
      "0: 480x640 1 pumpkin, 1 tomato, 6.0ms\n",
      "0: 480x640 1 garlic, 1 pumpkin, 1 tomato, 6.0ms\n",
      "0: 480x640 1 pumpkin, 1 tomato, 6.0ms\n",
      "0: 480x640 1 pumpkin, 2 tomatos, 6.0ms\n",
      "0: 480x640 1 pumpkin, 2 tomatos, 6.0ms\n",
      "0: 480x640 1 pumpkin, 2 tomatos, 6.0ms\n",
      "0: 480x640 1 pumpkin, 2 tomatos, 6.0ms\n",
      "0: 480x640 1 pumpkin, 2 tomatos, 7.0ms\n",
      "0: 480x640 1 pumpkin, 2 tomatos, 7.0ms\n",
      "0: 480x640 1 pumpkin, 2 tomatos, 6.0ms\n",
      "0: 480x640 1 pumpkin, 2 tomatos, 5.3ms\n",
      "0: 480x640 1 pumpkin, 2 tomatos, 7.0ms\n",
      "0: 480x640 1 pumpkin, 2 tomatos, 6.4ms\n",
      "0: 480x640 1 pumpkin, 2 tomatos, 6.0ms\n",
      "0: 480x640 1 pumpkin, 2 tomatos, 6.0ms\n",
      "0: 480x640 1 pumpkin, 2 tomatos, 6.0ms\n",
      "0: 480x640 1 pumpkin, 1 tomato, 6.5ms\n",
      "0: 480x640 1 pumpkin, 1 tomato, 7.5ms\n",
      "0: 480x640 1 pumpkin, 1 tomato, 6.0ms\n",
      "0: 480x640 1 pumpkin, 1 tomato, 6.0ms\n",
      "0: 480x640 1 pumpkin, 2 tomatos, 7.0ms\n",
      "0: 480x640 1 pumpkin, 1 tomato, 7.0ms\n",
      "0: 480x640 1 pumpkin, 1 tomato, 7.0ms\n",
      "0: 480x640 1 pumpkin, 1 tomato, 7.0ms\n",
      "0: 480x640 1 pumpkin, 1 tomato, 6.0ms\n",
      "0: 480x640 1 pumpkin, 2 tomatos, 6.0ms\n",
      "0: 480x640 1 pumpkin, 6.0ms\n",
      "0: 480x640 1 garlic, 1 pumpkin, 1 tomato, 6.0ms\n",
      "0: 480x640 1 pumpkin, 2 tomatos, 6.6ms\n",
      "0: 480x640 1 pumpkin, 2 tomatos, 6.0ms\n",
      "0: 480x640 1 pumpkin, 2 tomatos, 7.0ms\n",
      "0: 480x640 1 pumpkin, 1 tomato, 6.0ms\n",
      "0: 480x640 1 pumpkin, 1 tomato, 6.0ms\n",
      "0: 480x640 1 pumpkin, 1 tomato, 6.0ms\n",
      "0: 480x640 1 garlic, 1 pumpkin, 1 tomato, 6.6ms\n",
      "0: 480x640 1 pumpkin, 2 tomatos, 6.0ms\n",
      "0: 480x640 1 pumpkin, 1 tomato, 6.0ms\n",
      "0: 480x640 1 pumpkin, 1 tomato, 6.0ms\n",
      "0: 480x640 1 pumpkin, 2 tomatos, 6.0ms\n",
      "0: 480x640 1 pumpkin, 1 tomato, 6.0ms\n",
      "0: 480x640 1 pumpkin, 1 tomato, 6.0ms\n",
      "0: 480x640 1 garlic, 1 pumpkin, 2 tomatos, 6.0ms\n",
      "0: 480x640 1 pumpkin, 2 tomatos, 5.0ms\n",
      "0: 480x640 1 pumpkin, 1 tomato, 6.0ms\n",
      "0: 480x640 1 pumpkin, 1 tomato, 6.8ms\n",
      "0: 480x640 1 pumpkin, 1 tomato, 6.0ms\n",
      "0: 480x640 1 pumpkin, 7.0ms\n",
      "0: 480x640 1 pumpkin, 6.0ms\n",
      "0: 480x640 1 garlic, 1 pumpkin, 7.0ms\n",
      "0: 480x640 1 pumpkin, 6.0ms\n",
      "0: 480x640 1 pumpkin, 6.0ms\n",
      "0: 480x640 1 pumpkin, 6.0ms\n",
      "0: 480x640 1 pumpkin, 7.0ms\n",
      "0: 480x640 1 pumpkin, 5.0ms\n",
      "0: 480x640 1 pumpkin, 6.0ms\n",
      "0: 480x640 1 pumpkin, 6.0ms\n",
      "0: 480x640 1 pumpkin, 6.0ms\n",
      "0: 480x640 1 pumpkin, 6.5ms\n",
      "0: 480x640 1 pumpkin, 6.0ms\n",
      "0: 480x640 1 pumpkin, 7.0ms\n",
      "0: 480x640 1 pumpkin, 6.0ms\n",
      "0: 480x640 1 pumpkin, 6.0ms\n",
      "0: 480x640 1 pumpkin, 6.0ms\n",
      "0: 480x640 (no detections), 6.0ms\n",
      "0: 480x640 1 pumpkin, 6.0ms\n",
      "0: 480x640 1 pumpkin, 6.0ms\n",
      "0: 480x640 1 pumpkin, 5.0ms\n",
      "0: 480x640 1 pumpkin, 6.0ms\n",
      "0: 480x640 1 pumpkin, 6.0ms\n",
      "0: 480x640 1 pumpkin, 6.0ms\n",
      "0: 480x640 1 pumpkin, 6.0ms\n",
      "0: 480x640 1 pumpkin, 6.0ms\n",
      "0: 480x640 1 pumpkin, 7.0ms\n",
      "0: 480x640 1 pumpkin, 22.0ms\n",
      "0: 480x640 1 pumpkin, 6.0ms\n",
      "0: 480x640 1 pumpkin, 7.0ms\n",
      "0: 480x640 1 pumpkin, 6.0ms\n",
      "0: 480x640 1 pumpkin, 6.0ms\n",
      "0: 480x640 1 pumpkin, 6.0ms\n",
      "0: 480x640 1 pumpkin, 6.0ms\n",
      "0: 480x640 1 pumpkin, 7.0ms\n",
      "0: 480x640 1 pumpkin, 6.0ms\n",
      "0: 480x640 (no detections), 6.0ms\n",
      "0: 480x640 1 pumpkin, 6.0ms\n",
      "0: 480x640 1 pumpkin, 7.0ms\n",
      "0: 480x640 1 pumpkin, 6.0ms\n",
      "0: 480x640 1 pumpkin, 7.0ms\n",
      "0: 480x640 1 pumpkin, 8.0ms\n",
      "0: 480x640 1 pumpkin, 6.2ms\n",
      "0: 480x640 1 pumpkin, 6.0ms\n",
      "0: 480x640 1 pumpkin, 6.0ms\n",
      "0: 480x640 1 pumpkin, 6.0ms\n",
      "0: 480x640 1 pumpkin, 6.0ms\n",
      "0: 480x640 1 pumpkin, 6.0ms\n",
      "0: 480x640 1 pumpkin, 8.0ms\n",
      "0: 480x640 (no detections), 5.7ms\n",
      "0: 480x640 1 pumpkin, 5.5ms\n",
      "0: 480x640 (no detections), 6.0ms\n",
      "0: 480x640 1 pumpkin, 6.0ms\n",
      "0: 480x640 (no detections), 6.0ms\n",
      "0: 480x640 1 garlic, 1 pumpkin, 6.0ms\n",
      "0: 480x640 1 pumpkin, 6.0ms\n",
      "0: 480x640 1 pumpkin, 6.0ms\n",
      "0: 480x640 3 garlics, 1 pumpkin, 7.0ms\n",
      "0: 480x640 1 garlic, 1 pumpkin, 6.0ms\n",
      "0: 480x640 2 garlics, 6.0ms\n",
      "0: 480x640 (no detections), 6.0ms\n",
      "0: 480x640 (no detections), 6.0ms\n",
      "0: 480x640 (no detections), 7.0ms\n",
      "0: 480x640 2 garlics, 6.0ms\n",
      "0: 480x640 1 garlic, 6.0ms\n",
      "0: 480x640 1 garlic, 6.0ms\n",
      "0: 480x640 (no detections), 6.0ms\n",
      "0: 480x640 1 garlic, 6.0ms\n",
      "0: 480x640 1 garlic, 6.0ms\n",
      "0: 480x640 1 garlic, 7.0ms\n",
      "0: 480x640 1 garlic, 8.0ms\n",
      "0: 480x640 1 garlic, 7.0ms\n",
      "0: 480x640 (no detections), 6.0ms\n",
      "0: 480x640 (no detections), 6.0ms\n",
      "0: 480x640 (no detections), 6.0ms\n",
      "0: 480x640 (no detections), 6.0ms\n",
      "0: 480x640 (no detections), 6.5ms\n",
      "0: 480x640 (no detections), 6.5ms\n",
      "0: 480x640 (no detections), 7.0ms\n",
      "0: 480x640 (no detections), 6.0ms\n",
      "0: 480x640 1 garlic, 6.0ms\n",
      "0: 480x640 (no detections), 6.0ms\n",
      "0: 480x640 (no detections), 6.0ms\n",
      "0: 480x640 (no detections), 6.0ms\n",
      "0: 480x640 (no detections), 6.0ms\n",
      "0: 480x640 (no detections), 7.5ms\n",
      "0: 480x640 1 garlic, 6.0ms\n",
      "0: 480x640 (no detections), 6.0ms\n",
      "0: 480x640 (no detections), 6.0ms\n",
      "0: 480x640 1 garlic, 6.0ms\n",
      "0: 480x640 1 fasol, 1 garlic, 6.0ms\n",
      "0: 480x640 (no detections), 7.0ms\n",
      "0: 480x640 (no detections), 6.0ms\n",
      "0: 480x640 (no detections), 7.0ms\n",
      "0: 480x640 1 garlic, 7.0ms\n",
      "0: 480x640 (no detections), 6.0ms\n",
      "0: 480x640 (no detections), 5.6ms\n",
      "0: 480x640 1 garlic, 6.0ms\n",
      "0: 480x640 (no detections), 5.0ms\n",
      "0: 480x640 (no detections), 7.0ms\n",
      "0: 480x640 (no detections), 6.0ms\n",
      "0: 480x640 2 garlics, 6.0ms\n",
      "0: 480x640 (no detections), 6.0ms\n",
      "0: 480x640 (no detections), 6.0ms\n",
      "0: 480x640 (no detections), 6.0ms\n",
      "0: 480x640 (no detections), 6.0ms\n",
      "0: 480x640 (no detections), 8.0ms\n",
      "0: 480x640 (no detections), 6.0ms\n",
      "0: 480x640 (no detections), 6.0ms\n",
      "0: 480x640 (no detections), 6.0ms\n",
      "0: 480x640 (no detections), 6.0ms\n",
      "0: 480x640 1 garlic, 5.0ms\n",
      "0: 480x640 (no detections), 7.0ms\n",
      "0: 480x640 (no detections), 6.0ms\n",
      "0: 480x640 (no detections), 8.0ms\n",
      "0: 480x640 (no detections), 8.0ms\n",
      "0: 480x640 (no detections), 6.0ms\n",
      "0: 480x640 (no detections), 6.5ms\n",
      "0: 480x640 1 garlic, 6.0ms\n",
      "0: 480x640 (no detections), 6.6ms\n",
      "0: 480x640 (no detections), 6.6ms\n",
      "0: 480x640 1 garlic, 6.0ms\n",
      "0: 480x640 1 pumpkin, 7.0ms\n",
      "0: 480x640 1 fasol, 1 pumpkin, 6.0ms\n",
      "0: 480x640 1 fasol, 7.0ms\n",
      "0: 480x640 2 fasols, 1 pumpkin, 10.6ms\n",
      "0: 480x640 1 fasol, 1 tomato, 7.0ms\n",
      "0: 480x640 1 pumpkin, 1 tomato, 6.0ms\n",
      "0: 480x640 1 hot pepper, 1 pumpkin, 6.0ms\n",
      "0: 480x640 1 hot pepper, 3 tomatos, 7.0ms\n",
      "0: 480x640 1 tomato, 6.0ms\n",
      "0: 480x640 1 hot pepper, 1 tomato, 7.0ms\n",
      "0: 480x640 2 tomatos, 6.5ms\n",
      "0: 480x640 1 fasol, 1 tomato, 7.0ms\n",
      "0: 480x640 1 carrot, 1 onion, 6.0ms\n",
      "0: 480x640 1 garlic, 1 hot pepper, 1 onion, 6.0ms\n",
      "0: 480x640 1 garlic, 1 hot pepper, 1 onion, 6.0ms\n",
      "0: 480x640 1 garlic, 1 hot pepper, 1 onion, 7.0ms\n",
      "0: 480x640 1 garlic, 1 onion, 6.0ms\n",
      "0: 480x640 1 fasol, 1 garlic, 1 onion, 6.0ms\n",
      "0: 480x640 1 carrot, 1 pumpkin, 6.0ms\n",
      "0: 480x640 1 garlic, 1 pumpkin, 6.0ms\n",
      "0: 480x640 1 carrot, 1 pumpkin, 6.0ms\n",
      "0: 480x640 1 carrot, 1 fasol, 1 pumpkin, 7.0ms\n",
      "0: 480x640 2 fasols, 1 onion, 1 tomato, 6.0ms\n",
      "0: 480x640 1 garlic, 1 hot pepper, 2 tomatos, 6.0ms\n",
      "0: 480x640 2 pumpkins, 3 tomatos, 6.0ms\n",
      "0: 480x640 1 fasol, 1 pumpkin, 1 tomato, 6.0ms\n",
      "0: 480x640 1 fasol, 1 hot pepper, 1 tomato, 6.0ms\n",
      "0: 480x640 2 tomatos, 6.0ms\n",
      "0: 480x640 2 fasols, 1 tomato, 7.0ms\n",
      "0: 480x640 1 fasol, 2 tomatos, 6.0ms\n",
      "0: 480x640 3 tomatos, 6.0ms\n",
      "0: 480x640 1 pumpkin, 4 tomatos, 7.0ms\n",
      "0: 480x640 (no detections), 6.0ms\n",
      "0: 480x640 1 fasol, 2 pumpkins, 6.0ms\n",
      "0: 480x640 2 pumpkins, 6.0ms\n",
      "0: 480x640 1 fasol, 2 pumpkins, 7.0ms\n",
      "0: 480x640 2 pumpkins, 6.0ms\n",
      "0: 480x640 1 fasol, 2 pumpkins, 6.0ms\n",
      "0: 480x640 (no detections), 7.0ms\n",
      "0: 480x640 1 carrot, 1 garlic, 6.0ms\n",
      "0: 480x640 1 hot pepper, 7.0ms\n",
      "0: 480x640 1 hot pepper, 2 onions, 1 tomato, 8.0ms\n",
      "0: 480x640 2 onions, 7.0ms\n",
      "0: 480x640 1 hot pepper, 2 onions, 2 tomatos, 6.0ms\n",
      "0: 480x640 2 onions, 2 tomatos, 6.4ms\n",
      "0: 480x640 1 garlic, 2 onions, 6.0ms\n",
      "0: 480x640 1 onion, 1 pumpkin, 5.6ms\n",
      "0: 480x640 1 onion, 1 pumpkin, 7.0ms\n",
      "0: 480x640 1 onion, 1 pumpkin, 6.0ms\n",
      "0: 480x640 1 pumpkin, 6.0ms\n",
      "0: 480x640 1 fasol, 2 pumpkins, 6.0ms\n",
      "0: 480x640 1 fasol, 2 pumpkins, 6.0ms\n",
      "0: 480x640 1 fasol, 2 pumpkins, 6.0ms\n",
      "0: 480x640 2 pumpkins, 7.0ms\n",
      "0: 480x640 1 fasol, 2 pumpkins, 6.0ms\n",
      "0: 480x640 1 garlic, 2 pumpkins, 6.0ms\n",
      "0: 480x640 2 pumpkins, 5.6ms\n",
      "0: 480x640 2 pumpkins, 6.0ms\n",
      "0: 480x640 1 bell pepper, 1 pumpkin, 6.0ms\n",
      "0: 480x640 1 bell pepper, 2 pumpkins, 6.0ms\n",
      "0: 480x640 2 pumpkins, 7.0ms\n",
      "0: 480x640 2 pumpkins, 6.0ms\n",
      "0: 480x640 1 carrot, 2 pumpkins, 6.0ms\n",
      "0: 480x640 2 pumpkins, 6.0ms\n",
      "0: 480x640 2 pumpkins, 6.0ms\n",
      "0: 480x640 1 carrot, 2 pumpkins, 6.0ms\n",
      "0: 480x640 3 carrots, 2 pumpkins, 6.0ms\n",
      "0: 480x640 2 carrots, 1 pumpkin, 7.0ms\n",
      "0: 480x640 3 carrots, 1 onion, 6.0ms\n",
      "0: 480x640 3 carrots, 1 pumpkin, 6.0ms\n",
      "0: 480x640 2 carrots, 6.0ms\n",
      "0: 480x640 2 carrots, 6.0ms\n",
      "0: 480x640 3 carrots, 5.5ms\n",
      "0: 480x640 4 carrots, 6.0ms\n",
      "0: 480x640 5 carrots, 6.0ms\n",
      "0: 480x640 4 carrots, 6.0ms\n",
      "0: 480x640 4 carrots, 6.0ms\n",
      "0: 480x640 4 carrots, 5.5ms\n",
      "0: 480x640 3 carrots, 6.0ms\n",
      "0: 480x640 3 carrots, 6.0ms\n",
      "0: 480x640 5 carrots, 6.1ms\n",
      "0: 480x640 4 carrots, 6.0ms\n",
      "0: 480x640 3 carrots, 6.0ms\n",
      "0: 480x640 4 carrots, 6.0ms\n",
      "0: 480x640 3 carrots, 6.0ms\n",
      "0: 480x640 4 carrots, 7.0ms\n",
      "0: 480x640 5 carrots, 6.0ms\n",
      "0: 480x640 3 carrots, 6.0ms\n",
      "0: 480x640 4 carrots, 6.0ms\n",
      "0: 480x640 3 carrots, 6.0ms\n",
      "0: 480x640 1 carrot, 6.5ms\n",
      "0: 480x640 1 bell pepper, 3 carrots, 5.5ms\n",
      "0: 480x640 2 carrots, 6.0ms\n",
      "0: 480x640 2 carrots, 6.0ms\n",
      "0: 480x640 3 carrots, 6.0ms\n",
      "0: 480x640 5 carrots, 1 pumpkin, 6.0ms\n",
      "0: 480x640 5 carrots, 1 pumpkin, 7.0ms\n",
      "0: 480x640 5 carrots, 6.0ms\n",
      "0: 480x640 5 carrots, 1 pumpkin, 6.0ms\n",
      "0: 480x640 5 carrots, 1 pumpkin, 6.0ms\n",
      "0: 480x640 4 carrots, 1 pumpkin, 6.0ms\n",
      "0: 480x640 5 carrots, 6.0ms\n",
      "0: 480x640 5 carrots, 8.0ms\n",
      "0: 480x640 4 carrots, 6.0ms\n",
      "0: 480x640 1 bell pepper, 6 carrots, 7.0ms\n",
      "0: 480x640 5 carrots, 5.0ms\n",
      "0: 480x640 6 carrots, 6.0ms\n",
      "0: 480x640 6 carrots, 6.0ms\n",
      "0: 480x640 1 bell pepper, 4 carrots, 6.5ms\n",
      "0: 480x640 5 carrots, 6.0ms\n",
      "0: 480x640 3 carrots, 6.0ms\n",
      "0: 480x640 1 bell pepper, 5 carrots, 6.0ms\n",
      "0: 480x640 1 bell pepper, 3 carrots, 6.0ms\n",
      "0: 480x640 4 carrots, 6.7ms\n",
      "0: 480x640 4 carrots, 6.0ms\n",
      "0: 480x640 5 carrots, 7.0ms\n",
      "0: 480x640 5 carrots, 6.0ms\n",
      "0: 480x640 5 carrots, 6.0ms\n",
      "0: 480x640 5 carrots, 6.6ms\n",
      "0: 480x640 6 carrots, 6.0ms\n",
      "0: 480x640 7 carrots, 5.9ms\n",
      "0: 480x640 6 carrots, 7.0ms\n",
      "0: 480x640 6 carrots, 6.0ms\n",
      "0: 480x640 8 carrots, 6.0ms\n",
      "0: 480x640 6 carrots, 6.0ms\n",
      "0: 480x640 5 carrots, 7.0ms\n",
      "0: 480x640 2 carrots, 6.0ms\n",
      "0: 480x640 2 carrots, 5.0ms\n",
      "0: 480x640 4 carrots, 7.0ms\n",
      "0: 480x640 3 carrots, 6.0ms\n",
      "0: 480x640 3 carrots, 6.0ms\n",
      "0: 480x640 5 carrots, 6.0ms\n",
      "0: 480x640 6 carrots, 6.0ms\n",
      "0: 480x640 6 carrots, 7.0ms\n",
      "0: 480x640 5 carrots, 6.0ms\n",
      "0: 480x640 6 carrots, 6.0ms\n",
      "0: 480x640 6 carrots, 6.0ms\n",
      "0: 480x640 5 carrots, 6.0ms\n",
      "0: 480x640 5 carrots, 5.0ms\n",
      "0: 480x640 5 carrots, 6.0ms\n",
      "0: 480x640 5 carrots, 6.6ms\n",
      "0: 480x640 4 carrots, 6.0ms\n",
      "0: 480x640 4 carrots, 6.0ms\n",
      "0: 480x640 4 carrots, 6.0ms\n",
      "0: 480x640 4 carrots, 6.0ms\n",
      "0: 480x640 3 carrots, 6.0ms\n",
      "0: 480x640 1 carrot, 7.0ms\n",
      "0: 480x640 2 carrots, 7.0ms\n",
      "0: 480x640 3 carrots, 7.0ms\n",
      "0: 480x640 2 carrots, 1 garlic, 6.0ms\n",
      "0: 480x640 3 carrots, 6.0ms\n",
      "0: 480x640 4 carrots, 1 fasol, 2 tomatos, 6.0ms\n",
      "0: 480x640 4 carrots, 2 tomatos, 6.0ms\n",
      "0: 480x640 6 carrots, 1 garlic, 7.0ms\n",
      "0: 480x640 4 carrots, 6.0ms\n",
      "0: 480x640 1 carrot, 1 tomato, 6.0ms\n",
      "0: 480x640 1 bell pepper, 1 tomato, 6.0ms\n",
      "0: 480x640 1 tomato, 6.0ms\n",
      "0: 480x640 1 tomato, 6.0ms\n",
      "0: 480x640 1 fasol, 6.0ms\n",
      "0: 480x640 1 carrot, 1 fasol, 6.7ms\n",
      "0: 480x640 1 fasol, 1 tomato, 5.6ms\n",
      "0: 480x640 1 carrot, 1 fasol, 1 tomato, 5.6ms\n",
      "0: 480x640 1 fasol, 1 tomato, 6.0ms\n",
      "0: 480x640 2 tomatos, 6.0ms\n",
      "0: 480x640 2 tomatos, 6.0ms\n",
      "0: 480x640 1 tomato, 7.0ms\n",
      "0: 480x640 2 tomatos, 6.5ms\n",
      "0: 480x640 3 tomatos, 6.0ms\n",
      "0: 480x640 3 tomatos, 6.0ms\n",
      "0: 480x640 1 tomato, 6.0ms\n",
      "0: 480x640 1 tomato, 6.0ms\n",
      "0: 480x640 1 tomato, 8.0ms\n",
      "0: 480x640 3 tomatos, 7.0ms\n",
      "0: 480x640 2 tomatos, 6.0ms\n",
      "0: 480x640 1 pumpkin, 1 tomato, 6.0ms\n",
      "0: 480x640 1 tomato, 6.0ms\n",
      "0: 480x640 1 tomato, 6.0ms\n",
      "0: 480x640 1 pumpkin, 2 tomatos, 6.0ms\n",
      "0: 480x640 2 tomatos, 7.0ms\n",
      "0: 480x640 1 pumpkin, 2 tomatos, 6.0ms\n",
      "0: 480x640 1 pumpkin, 2 tomatos, 6.0ms\n",
      "0: 480x640 1 pumpkin, 4 tomatos, 6.0ms\n",
      "0: 480x640 1 pumpkin, 4 tomatos, 6.0ms\n",
      "0: 480x640 1 tomato, 5.0ms\n",
      "0: 480x640 3 tomatos, 8.0ms\n",
      "0: 480x640 3 tomatos, 6.0ms\n",
      "0: 480x640 1 tomato, 6.0ms\n",
      "0: 480x640 1 tomato, 6.0ms\n",
      "0: 480x640 3 tomatos, 6.0ms\n",
      "0: 480x640 1 tomato, 6.0ms\n",
      "0: 480x640 (no detections), 6.0ms\n",
      "0: 480x640 2 tomatos, 7.0ms\n",
      "0: 480x640 2 tomatos, 6.0ms\n",
      "0: 480x640 (no detections), 6.0ms\n",
      "0: 480x640 1 pumpkin, 2 tomatos, 6.0ms\n",
      "0: 480x640 1 pumpkin, 6.0ms\n",
      "0: 480x640 1 pumpkin, 3 tomatos, 6.0ms\n",
      "0: 480x640 2 tomatos, 7.0ms\n",
      "0: 480x640 1 tomato, 6.0ms\n",
      "0: 480x640 2 tomatos, 6.0ms\n",
      "0: 480x640 (no detections), 6.0ms\n",
      "0: 480x640 1 tomato, 6.0ms\n",
      "0: 480x640 1 pumpkin, 1 tomato, 5.0ms\n",
      "0: 480x640 1 pumpkin, 6.0ms\n",
      "0: 480x640 (no detections), 6.6ms\n",
      "0: 480x640 1 tomato, 5.9ms\n",
      "0: 480x640 1 garlic, 2 tomatos, 6.6ms\n",
      "0: 480x640 1 garlic, 6.0ms\n",
      "0: 480x640 1 tomato, 6.0ms\n",
      "0: 480x640 1 tomato, 6.0ms\n",
      "0: 480x640 1 tomato, 6.0ms\n",
      "0: 480x640 (no detections), 6.0ms\n",
      "0: 480x640 2 tomatos, 6.0ms\n",
      "0: 480x640 1 garlic, 1 tomato, 6.0ms\n",
      "0: 480x640 1 garlic, 1 pumpkin, 6.0ms\n",
      "0: 480x640 2 tomatos, 6.0ms\n",
      "0: 480x640 1 garlic, 1 tomato, 7.0ms\n",
      "0: 480x640 (no detections), 6.0ms\n",
      "0: 480x640 1 pumpkin, 6.0ms\n",
      "0: 480x640 1 pumpkin, 2 tomatos, 6.0ms\n",
      "0: 480x640 (no detections), 6.0ms\n",
      "0: 480x640 1 garlic, 1 pumpkin, 7.0ms\n",
      "0: 480x640 2 tomatos, 5.0ms\n",
      "0: 480x640 1 garlic, 7.0ms\n",
      "0: 480x640 1 pumpkin, 6.0ms\n",
      "0: 480x640 1 pumpkin, 5.0ms\n",
      "0: 480x640 1 tomato, 6.0ms\n",
      "0: 480x640 (no detections), 7.0ms\n",
      "0: 480x640 1 garlic, 6.0ms\n",
      "0: 480x640 1 pumpkin, 2 tomatos, 7.0ms\n",
      "0: 480x640 1 tomato, 6.0ms\n",
      "0: 480x640 1 pumpkin, 2 tomatos, 6.0ms\n",
      "0: 480x640 2 tomatos, 6.7ms\n",
      "0: 480x640 2 tomatos, 6.0ms\n",
      "0: 480x640 3 tomatos, 6.0ms\n",
      "0: 480x640 1 tomato, 6.0ms\n",
      "0: 480x640 1 tomato, 6.0ms\n",
      "0: 480x640 1 pumpkin, 1 tomato, 7.0ms\n",
      "0: 480x640 1 pumpkin, 6.0ms\n",
      "0: 480x640 1 pumpkin, 2 tomatos, 7.0ms\n",
      "0: 480x640 1 pumpkin, 6.0ms\n",
      "0: 480x640 1 pumpkin, 1 tomato, 7.0ms\n",
      "0: 480x640 1 pumpkin, 2 tomatos, 6.0ms\n",
      "0: 480x640 1 garlic, 1 pumpkin, 1 tomato, 5.0ms\n",
      "0: 480x640 1 pumpkin, 1 tomato, 7.0ms\n",
      "0: 480x640 1 tomato, 6.0ms\n",
      "0: 480x640 1 pumpkin, 2 tomatos, 8.0ms\n",
      "0: 480x640 1 pumpkin, 1 tomato, 6.0ms\n",
      "0: 480x640 1 pumpkin, 6.0ms\n",
      "0: 480x640 1 pumpkin, 2 tomatos, 6.0ms\n",
      "0: 480x640 1 garlic, 1 pumpkin, 1 tomato, 6.0ms\n",
      "0: 480x640 1 pumpkin, 1 tomato, 5.0ms\n",
      "0: 480x640 1 pumpkin, 1 tomato, 7.0ms\n",
      "0: 480x640 1 pumpkin, 1 tomato, 6.0ms\n",
      "0: 480x640 (no detections), 6.0ms\n",
      "0: 480x640 1 pumpkin, 1 tomato, 6.0ms\n",
      "0: 480x640 1 pumpkin, 2 tomatos, 6.5ms\n",
      "0: 480x640 1 fasol, 1 pumpkin, 6.0ms\n",
      "0: 480x640 1 fasol, 1 garlic, 1 pumpkin, 6.0ms\n",
      "0: 480x640 1 pumpkin, 2 tomatos, 7.0ms\n",
      "0: 480x640 1 fasol, 1 garlic, 1 pumpkin, 6.0ms\n",
      "0: 480x640 1 fasol, 1 pumpkin, 6.0ms\n",
      "0: 480x640 1 tomato, 6.0ms\n",
      "0: 480x640 1 tomato, 6.0ms\n",
      "0: 480x640 1 fasol, 1 tomato, 7.0ms\n",
      "0: 480x640 1 tomato, 6.0ms\n",
      "0: 480x640 2 tomatos, 7.0ms\n",
      "0: 480x640 1 fasol, 1 pumpkin, 1 tomato, 6.0ms\n",
      "0: 480x640 2 tomatos, 6.0ms\n",
      "0: 480x640 1 garlic, 1 pumpkin, 1 tomato, 6.0ms\n",
      "0: 480x640 (no detections), 6.2ms\n",
      "0: 480x640 (no detections), 8.0ms\n",
      "0: 480x640 1 tomato, 6.0ms\n",
      "0: 480x640 1 garlic, 1 tomato, 7.0ms\n",
      "0: 480x640 1 tomato, 5.0ms\n",
      "0: 480x640 1 tomato, 7.0ms\n",
      "0: 480x640 1 tomato, 7.0ms\n",
      "0: 480x640 (no detections), 6.0ms\n",
      "0: 480x640 1 pumpkin, 6.0ms\n",
      "0: 480x640 2 tomatos, 6.0ms\n",
      "0: 480x640 1 tomato, 6.0ms\n",
      "0: 480x640 1 tomato, 6.0ms\n",
      "0: 480x640 2 tomatos, 7.0ms\n",
      "0: 480x640 1 pumpkin, 2 tomatos, 6.0ms\n",
      "0: 480x640 2 tomatos, 6.0ms\n",
      "0: 480x640 1 tomato, 6.0ms\n",
      "0: 480x640 1 tomato, 6.0ms\n",
      "0: 480x640 1 tomato, 5.0ms\n",
      "0: 480x640 (no detections), 6.0ms\n",
      "0: 480x640 1 pumpkin, 8.0ms\n",
      "0: 480x640 1 tomato, 7.0ms\n",
      "0: 480x640 4 tomatos, 6.0ms\n",
      "0: 480x640 3 tomatos, 6.0ms\n",
      "0: 480x640 1 tomato, 7.0ms\n",
      "0: 480x640 2 tomatos, 6.0ms\n",
      "0: 480x640 (no detections), 7.0ms\n",
      "0: 480x640 2 tomatos, 6.0ms\n",
      "0: 480x640 2 tomatos, 6.0ms\n",
      "0: 480x640 3 tomatos, 6.0ms\n",
      "0: 480x640 1 tomato, 6.0ms\n",
      "0: 480x640 3 tomatos, 6.0ms\n",
      "0: 480x640 1 onion, 2 tomatos, 5.5ms\n",
      "0: 480x640 1 tomato, 6.0ms\n",
      "0: 480x640 1 tomato, 6.0ms\n",
      "0: 480x640 1 tomato, 6.0ms\n",
      "0: 480x640 1 tomato, 6.0ms\n",
      "0: 480x640 1 tomato, 6.0ms\n",
      "0: 480x640 1 onion, 1 tomato, 7.6ms\n",
      "0: 480x640 1 onion, 1 tomato, 6.0ms\n",
      "0: 480x640 1 onion, 2 tomatos, 7.0ms\n",
      "0: 480x640 2 tomatos, 6.0ms\n",
      "0: 480x640 1 tomato, 6.0ms\n",
      "0: 480x640 2 tomatos, 7.0ms\n",
      "0: 480x640 2 tomatos, 6.0ms\n",
      "0: 480x640 2 tomatos, 8.0ms\n",
      "0: 480x640 2 tomatos, 6.7ms\n",
      "0: 480x640 2 tomatos, 6.0ms\n",
      "0: 480x640 2 tomatos, 6.0ms\n",
      "0: 480x640 2 tomatos, 6.0ms\n",
      "0: 480x640 2 tomatos, 6.0ms\n",
      "0: 480x640 1 tomato, 8.0ms\n",
      "0: 480x640 2 tomatos, 6.0ms\n",
      "0: 480x640 5 tomatos, 6.0ms\n",
      "0: 480x640 5 tomatos, 6.0ms\n",
      "0: 480x640 5 tomatos, 6.0ms\n",
      "0: 480x640 5 tomatos, 6.4ms\n",
      "0: 480x640 4 tomatos, 6.5ms\n",
      "0: 480x640 1 pumpkin, 2 tomatos, 7.0ms\n",
      "0: 480x640 1 tomato, 6.2ms\n",
      "0: 480x640 1 garlic, 1 tomato, 6.0ms\n",
      "0: 480x640 2 tomatos, 6.4ms\n",
      "0: 480x640 1 pumpkin, 2 tomatos, 6.0ms\n",
      "0: 480x640 3 tomatos, 6.0ms\n",
      "0: 480x640 3 tomatos, 8.0ms\n",
      "0: 480x640 1 pumpkin, 3 tomatos, 6.5ms\n",
      "0: 480x640 1 pumpkin, 2 tomatos, 7.0ms\n",
      "0: 480x640 1 pumpkin, 4 tomatos, 6.0ms\n",
      "0: 480x640 5 tomatos, 6.0ms\n",
      "0: 480x640 4 tomatos, 7.0ms\n",
      "0: 480x640 4 tomatos, 6.0ms\n",
      "0: 480x640 1 pumpkin, 2 tomatos, 7.0ms\n",
      "0: 480x640 1 pumpkin, 3 tomatos, 7.0ms\n",
      "0: 480x640 1 pumpkin, 4 tomatos, 7.0ms\n",
      "0: 480x640 1 pumpkin, 2 tomatos, 6.0ms\n",
      "0: 480x640 1 pumpkin, 3 tomatos, 6.0ms\n",
      "0: 480x640 1 pumpkin, 4 tomatos, 7.0ms\n",
      "0: 480x640 1 pumpkin, 3 tomatos, 6.0ms\n",
      "0: 480x640 1 pumpkin, 3 tomatos, 6.0ms\n",
      "0: 480x640 1 pumpkin, 3 tomatos, 6.0ms\n",
      "0: 480x640 1 pumpkin, 5 tomatos, 7.0ms\n",
      "0: 480x640 1 pumpkin, 5 tomatos, 6.0ms\n",
      "0: 480x640 1 pumpkin, 3 tomatos, 7.0ms\n",
      "0: 480x640 1 pumpkin, 4 tomatos, 6.0ms\n",
      "0: 480x640 1 pumpkin, 3 tomatos, 6.2ms\n",
      "0: 480x640 1 pumpkin, 3 tomatos, 6.5ms\n",
      "0: 480x640 1 pumpkin, 3 tomatos, 6.0ms\n",
      "0: 480x640 1 pumpkin, 3 tomatos, 7.0ms\n",
      "0: 480x640 1 pumpkin, 3 tomatos, 6.0ms\n",
      "0: 480x640 1 pumpkin, 3 tomatos, 6.0ms\n",
      "0: 480x640 1 pumpkin, 3 tomatos, 6.0ms\n",
      "0: 480x640 1 pumpkin, 3 tomatos, 6.0ms\n",
      "0: 480x640 1 pumpkin, 3 tomatos, 6.0ms\n",
      "0: 480x640 1 pumpkin, 3 tomatos, 6.0ms\n",
      "0: 480x640 1 pumpkin, 2 tomatos, 6.0ms\n",
      "0: 480x640 1 pumpkin, 3 tomatos, 6.0ms\n",
      "0: 480x640 1 pumpkin, 1 tomato, 6.0ms\n",
      "0: 480x640 1 pumpkin, 3 tomatos, 6.0ms\n",
      "0: 480x640 1 pumpkin, 3 tomatos, 6.0ms\n",
      "0: 480x640 1 pumpkin, 4 tomatos, 6.0ms\n",
      "0: 480x640 1 pumpkin, 3 tomatos, 7.0ms\n",
      "0: 480x640 1 pumpkin, 3 tomatos, 6.0ms\n",
      "0: 480x640 3 tomatos, 6.0ms\n",
      "0: 480x640 3 tomatos, 6.0ms\n",
      "0: 480x640 3 tomatos, 7.0ms\n",
      "0: 480x640 2 tomatos, 6.0ms\n",
      "0: 480x640 1 pumpkin, 3 tomatos, 7.0ms\n",
      "0: 480x640 3 tomatos, 7.0ms\n",
      "0: 480x640 3 tomatos, 6.0ms\n",
      "0: 480x640 3 tomatos, 6.0ms\n",
      "0: 480x640 3 tomatos, 6.0ms\n",
      "0: 480x640 2 pumpkins, 3 tomatos, 7.0ms\n",
      "0: 480x640 1 pumpkin, 4 tomatos, 6.4ms\n",
      "0: 480x640 1 pumpkin, 5 tomatos, 7.0ms\n",
      "0: 480x640 1 pumpkin, 4 tomatos, 6.0ms\n",
      "0: 480x640 1 pumpkin, 4 tomatos, 6.0ms\n",
      "0: 480x640 1 pumpkin, 3 tomatos, 6.0ms\n",
      "0: 480x640 1 pumpkin, 3 tomatos, 8.0ms\n",
      "0: 480x640 1 pumpkin, 3 tomatos, 6.0ms\n",
      "0: 480x640 2 pumpkins, 3 tomatos, 6.0ms\n",
      "0: 480x640 1 pumpkin, 3 tomatos, 6.0ms\n",
      "0: 480x640 1 pumpkin, 4 tomatos, 7.0ms\n",
      "0: 480x640 1 pumpkin, 4 tomatos, 8.0ms\n",
      "0: 480x640 1 pumpkin, 4 tomatos, 6.0ms\n",
      "0: 480x640 1 pumpkin, 3 tomatos, 7.0ms\n",
      "0: 480x640 2 tomatos, 6.0ms\n",
      "0: 480x640 2 tomatos, 6.0ms\n",
      "0: 480x640 1 tomato, 7.0ms\n",
      "0: 480x640 1 pumpkin, 1 tomato, 6.0ms\n",
      "0: 480x640 1 tomato, 6.0ms\n",
      "0: 480x640 1 fasol, 6.0ms\n",
      "0: 480x640 1 pumpkin, 1 tomato, 7.0ms\n",
      "0: 480x640 3 carrots, 2 onions, 1 pumpkin, 6.0ms\n",
      "0: 480x640 (no detections), 6.0ms\n",
      "0: 480x640 1 bell pepper, 1 onion, 6.0ms\n",
      "0: 480x640 1 onion, 6.0ms\n",
      "0: 480x640 1 onion, 6.0ms\n",
      "0: 480x640 1 carrot, 1 onion, 6.0ms\n",
      "0: 480x640 1 carrot, 7.0ms\n",
      "0: 480x640 2 carrots, 1 onion, 7.0ms\n",
      "0: 480x640 2 carrots, 7.0ms\n",
      "0: 480x640 2 carrots, 1 onion, 6.0ms\n",
      "0: 480x640 2 carrots, 1 onion, 6.0ms\n",
      "0: 480x640 2 carrots, 1 onion, 6.5ms\n",
      "0: 480x640 2 carrots, 1 onion, 6.0ms\n",
      "0: 480x640 2 carrots, 6.0ms\n",
      "0: 480x640 2 carrots, 1 onion, 6.0ms\n",
      "0: 480x640 2 carrots, 1 onion, 6.0ms\n",
      "0: 480x640 2 carrots, 1 onion, 6.0ms\n",
      "0: 480x640 2 carrots, 1 tomato, 8.0ms\n",
      "0: 480x640 2 carrots, 6.0ms\n",
      "0: 480x640 3 carrots, 2 onions, 7.0ms\n",
      "0: 480x640 2 carrots, 2 onions, 7.0ms\n",
      "0: 480x640 3 carrots, 1 onion, 1 pumpkin, 6.0ms\n",
      "0: 480x640 1 onion, 6.0ms\n",
      "0: 480x640 3 carrots, 2 onions, 6.0ms\n",
      "0: 480x640 3 carrots, 2 onions, 7.0ms\n",
      "0: 480x640 1 carrot, 2 onions, 6.0ms\n",
      "0: 480x640 1 carrot, 1 onion, 6.0ms\n",
      "0: 480x640 1 carrot, 2 onions, 6.0ms\n",
      "0: 480x640 1 carrot, 1 onion, 8.0ms\n",
      "0: 480x640 1 carrot, 1 fasol, 1 onion, 6.0ms\n",
      "0: 480x640 2 carrots, 1 tomato, 6.0ms\n",
      "0: 480x640 3 carrots, 6.0ms\n",
      "0: 480x640 1 carrot, 1 fasol, 6.5ms\n",
      "0: 480x640 1 fasol, 6.5ms\n",
      "0: 480x640 1 carrot, 1 fasol, 7.0ms\n",
      "0: 480x640 2 carrots, 2 tomatos, 6.0ms\n",
      "0: 480x640 1 carrot, 2 tomatos, 6.0ms\n",
      "0: 480x640 2 tomatos, 6.0ms\n",
      "0: 480x640 1 pumpkin, 2 tomatos, 6.0ms\n",
      "0: 480x640 1 fasol, 2 tomatos, 8.0ms\n",
      "0: 480x640 1 tomato, 7.0ms\n",
      "0: 480x640 5 tomatos, 6.0ms\n",
      "0: 480x640 5 tomatos, 6.0ms\n",
      "0: 480x640 2 tomatos, 6.0ms\n",
      "0: 480x640 1 pumpkin, 2 tomatos, 7.0ms\n",
      "0: 480x640 1 fasol, 2 tomatos, 7.0ms\n",
      "0: 480x640 2 tomatos, 7.0ms\n",
      "0: 480x640 2 tomatos, 7.0ms\n",
      "0: 480x640 1 pumpkin, 6 tomatos, 6.0ms\n",
      "0: 480x640 6 tomatos, 8.0ms\n",
      "0: 480x640 5 tomatos, 6.0ms\n",
      "0: 480x640 5 tomatos, 7.0ms\n",
      "0: 480x640 10 tomatos, 7.0ms\n",
      "0: 480x640 1 pumpkin, 8 tomatos, 6.0ms\n",
      "0: 480x640 2 tomatos, 6.0ms\n",
      "0: 480x640 2 tomatos, 7.0ms\n",
      "0: 480x640 2 tomatos, 6.0ms\n",
      "0: 480x640 1 pumpkin, 5 tomatos, 6.0ms\n",
      "0: 480x640 5 tomatos, 6.0ms\n",
      "0: 480x640 5 tomatos, 6.9ms\n",
      "0: 480x640 1 pumpkin, 5 tomatos, 8.0ms\n",
      "0: 480x640 5 tomatos, 6.0ms\n",
      "0: 480x640 2 pumpkins, 5 tomatos, 7.0ms\n",
      "0: 480x640 2 pumpkins, 5 tomatos, 7.0ms\n",
      "0: 480x640 2 pumpkins, 5 tomatos, 7.0ms\n",
      "0: 480x640 2 pumpkins, 4 tomatos, 6.0ms\n",
      "0: 480x640 2 pumpkins, 5 tomatos, 7.0ms\n",
      "0: 480x640 2 pumpkins, 4 tomatos, 7.0ms\n",
      "0: 480x640 2 pumpkins, 6 tomatos, 6.0ms\n",
      "0: 480x640 2 pumpkins, 5 tomatos, 6.0ms\n",
      "0: 480x640 2 pumpkins, 6 tomatos, 7.0ms\n",
      "0: 480x640 2 pumpkins, 8 tomatos, 6.0ms\n",
      "0: 480x640 2 pumpkins, 7 tomatos, 6.0ms\n",
      "0: 480x640 2 pumpkins, 6 tomatos, 6.0ms\n",
      "0: 480x640 2 pumpkins, 8 tomatos, 7.0ms\n",
      "0: 480x640 2 pumpkins, 8 tomatos, 7.0ms\n",
      "0: 480x640 2 pumpkins, 8 tomatos, 7.0ms\n",
      "0: 480x640 2 pumpkins, 8 tomatos, 7.0ms\n",
      "0: 480x640 2 pumpkins, 8 tomatos, 7.0ms\n",
      "0: 480x640 2 pumpkins, 6 tomatos, 7.0ms\n",
      "0: 480x640 2 pumpkins, 8 tomatos, 9.0ms\n",
      "0: 480x640 2 pumpkins, 7 tomatos, 7.0ms\n",
      "0: 480x640 2 pumpkins, 7 tomatos, 6.0ms\n",
      "0: 480x640 2 pumpkins, 6 tomatos, 6.0ms\n",
      "0: 480x640 2 pumpkins, 7 tomatos, 5.0ms\n",
      "0: 480x640 2 pumpkins, 5 tomatos, 6.0ms\n",
      "0: 480x640 2 pumpkins, 6 tomatos, 7.0ms\n",
      "0: 480x640 2 pumpkins, 6 tomatos, 6.0ms\n",
      "0: 480x640 1 pumpkin, 5 tomatos, 7.0ms\n",
      "0: 480x640 1 pumpkin, 5 tomatos, 6.0ms\n",
      "0: 480x640 1 pumpkin, 5 tomatos, 6.0ms\n",
      "0: 480x640 1 pumpkin, 5 tomatos, 9.0ms\n",
      "0: 480x640 1 pumpkin, 5 tomatos, 7.0ms\n",
      "0: 480x640 1 pumpkin, 5 tomatos, 6.0ms\n",
      "0: 480x640 1 pumpkin, 5 tomatos, 6.0ms\n",
      "0: 480x640 1 pumpkin, 5 tomatos, 6.0ms\n",
      "0: 480x640 1 pumpkin, 5 tomatos, 7.5ms\n",
      "0: 480x640 6 tomatos, 6.0ms\n",
      "0: 480x640 2 pumpkins, 6 tomatos, 7.0ms\n",
      "0: 480x640 1 pumpkin, 5 tomatos, 6.0ms\n",
      "0: 480x640 2 pumpkins, 6 tomatos, 7.7ms\n",
      "0: 480x640 1 pumpkin, 6 tomatos, 6.0ms\n",
      "0: 480x640 2 pumpkins, 6 tomatos, 6.0ms\n",
      "0: 480x640 1 pumpkin, 5 tomatos, 7.0ms\n",
      "0: 480x640 2 pumpkins, 7 tomatos, 9.0ms\n",
      "0: 480x640 2 pumpkins, 6 tomatos, 7.0ms\n",
      "0: 480x640 2 pumpkins, 5 tomatos, 6.0ms\n",
      "0: 480x640 2 pumpkins, 6 tomatos, 7.0ms\n",
      "0: 480x640 2 pumpkins, 6 tomatos, 7.0ms\n",
      "0: 480x640 2 pumpkins, 5 tomatos, 6.0ms\n",
      "0: 480x640 2 pumpkins, 6 tomatos, 6.0ms\n",
      "0: 480x640 2 pumpkins, 7 tomatos, 7.0ms\n",
      "0: 480x640 8 tomatos, 6.0ms\n",
      "0: 480x640 2 pumpkins, 5 tomatos, 6.0ms\n",
      "0: 480x640 2 pumpkins, 6 tomatos, 6.0ms\n",
      "0: 480x640 6 tomatos, 8.0ms\n",
      "0: 480x640 1 pumpkin, 6 tomatos, 7.0ms\n",
      "0: 480x640 6 tomatos, 6.0ms\n",
      "0: 480x640 7 tomatos, 7.0ms\n",
      "0: 480x640 6 tomatos, 6.0ms\n",
      "0: 480x640 8 tomatos, 6.0ms\n",
      "0: 480x640 4 tomatos, 7.0ms\n",
      "0: 480x640 4 tomatos, 7.0ms\n",
      "0: 480x640 4 tomatos, 7.0ms\n",
      "0: 480x640 5 tomatos, 7.0ms\n",
      "0: 480x640 5 tomatos, 8.0ms\n",
      "0: 480x640 5 tomatos, 7.0ms\n",
      "0: 480x640 1 pumpkin, 4 tomatos, 7.0ms\n",
      "0: 480x640 1 pumpkin, 5 tomatos, 7.0ms\n",
      "0: 480x640 4 tomatos, 7.0ms\n",
      "0: 480x640 2 pumpkins, 3 tomatos, 6.0ms\n",
      "0: 480x640 1 pumpkin, 4 tomatos, 7.0ms\n",
      "0: 480x640 4 tomatos, 7.0ms\n",
      "0: 480x640 4 tomatos, 6.0ms\n",
      "0: 480x640 4 tomatos, 7.0ms\n",
      "0: 480x640 2 pumpkins, 4 tomatos, 7.0ms\n",
      "0: 480x640 4 tomatos, 6.0ms\n",
      "0: 480x640 5 tomatos, 7.0ms\n",
      "0: 480x640 5 tomatos, 7.0ms\n",
      "0: 480x640 1 pumpkin, 5 tomatos, 6.0ms\n",
      "0: 480x640 6 tomatos, 6.0ms\n",
      "0: 480x640 5 tomatos, 6.0ms\n",
      "0: 480x640 2 tomatos, 6.0ms\n",
      "0: 480x640 2 tomatos, 7.0ms\n",
      "0: 480x640 4 tomatos, 6.0ms\n",
      "0: 480x640 4 tomatos, 7.0ms\n",
      "0: 480x640 2 pumpkins, 5 tomatos, 7.0ms\n",
      "0: 480x640 4 tomatos, 7.0ms\n",
      "0: 480x640 5 tomatos, 6.0ms\n",
      "0: 480x640 2 tomatos, 10.0ms\n",
      "0: 480x640 1 pumpkin, 2 tomatos, 7.0ms\n",
      "0: 480x640 1 pumpkin, 4 tomatos, 7.0ms\n",
      "0: 480x640 2 pumpkins, 5 tomatos, 7.0ms\n",
      "0: 480x640 2 pumpkins, 4 tomatos, 6.0ms\n",
      "0: 480x640 1 pumpkin, 5 tomatos, 7.0ms\n",
      "0: 480x640 1 pumpkin, 5 tomatos, 6.0ms\n",
      "0: 480x640 2 pumpkins, 5 tomatos, 7.0ms\n",
      "0: 480x640 2 pumpkins, 5 tomatos, 7.0ms\n",
      "0: 480x640 2 pumpkins, 5 tomatos, 9.0ms\n",
      "0: 480x640 2 pumpkins, 5 tomatos, 7.0ms\n",
      "0: 480x640 1 pumpkin, 5 tomatos, 6.0ms\n",
      "0: 480x640 2 pumpkins, 4 tomatos, 6.8ms\n",
      "0: 480x640 2 pumpkins, 5 tomatos, 6.0ms\n",
      "0: 480x640 2 pumpkins, 5 tomatos, 7.0ms\n",
      "0: 480x640 1 pumpkin, 5 tomatos, 6.0ms\n",
      "0: 480x640 1 pumpkin, 6 tomatos, 7.0ms\n",
      "0: 480x640 1 pumpkin, 6 tomatos, 7.0ms\n",
      "0: 480x640 2 pumpkins, 5 tomatos, 6.0ms\n",
      "0: 480x640 2 pumpkins, 5 tomatos, 7.0ms\n",
      "0: 480x640 1 pumpkin, 4 tomatos, 7.0ms\n",
      "0: 480x640 1 pumpkin, 4 tomatos, 6.0ms\n",
      "0: 480x640 1 pumpkin, 6 tomatos, 6.0ms\n",
      "0: 480x640 1 pumpkin, 4 tomatos, 7.0ms\n",
      "0: 480x640 2 pumpkins, 5 tomatos, 6.5ms\n",
      "0: 480x640 2 pumpkins, 6 tomatos, 6.5ms\n",
      "0: 480x640 1 pumpkin, 5 tomatos, 7.5ms\n",
      "0: 480x640 1 pumpkin, 4 tomatos, 5.5ms\n",
      "0: 480x640 1 pumpkin, 5 tomatos, 7.0ms\n",
      "0: 480x640 1 pumpkin, 5 tomatos, 6.0ms\n",
      "0: 480x640 1 pumpkin, 4 tomatos, 8.0ms\n",
      "0: 480x640 1 pumpkin, 4 tomatos, 6.0ms\n",
      "0: 480x640 1 pumpkin, 4 tomatos, 7.0ms\n",
      "0: 480x640 1 pumpkin, 4 tomatos, 6.7ms\n",
      "0: 480x640 1 pumpkin, 6 tomatos, 6.0ms\n",
      "0: 480x640 1 pumpkin, 5 tomatos, 6.0ms\n",
      "0: 480x640 1 pumpkin, 5 tomatos, 9.0ms\n",
      "0: 480x640 4 tomatos, 7.0ms\n",
      "0: 480x640 1 pumpkin, 4 tomatos, 7.0ms\n",
      "0: 480x640 6 tomatos, 6.0ms\n",
      "0: 480x640 2 pumpkins, 6 tomatos, 8.0ms\n",
      "0: 480x640 2 pumpkins, 6 tomatos, 6.0ms\n",
      "0: 480x640 1 pumpkin, 6 tomatos, 7.0ms\n",
      "0: 480x640 2 pumpkins, 6 tomatos, 7.0ms\n",
      "0: 480x640 2 pumpkins, 6 tomatos, 7.0ms\n",
      "0: 480x640 6 tomatos, 8.0ms\n",
      "0: 480x640 2 pumpkins, 6 tomatos, 7.0ms\n",
      "0: 480x640 2 pumpkins, 7 tomatos, 6.0ms\n",
      "0: 480x640 2 pumpkins, 7 tomatos, 6.0ms\n",
      "0: 480x640 2 pumpkins, 7 tomatos, 6.0ms\n",
      "0: 480x640 2 pumpkins, 6 tomatos, 6.0ms\n",
      "0: 480x640 2 pumpkins, 6 tomatos, 7.0ms\n",
      "0: 480x640 2 pumpkins, 6 tomatos, 7.0ms\n",
      "0: 480x640 2 pumpkins, 5 tomatos, 7.0ms\n",
      "0: 480x640 2 pumpkins, 6 tomatos, 7.0ms\n",
      "0: 480x640 2 pumpkins, 5 tomatos, 6.0ms\n",
      "0: 480x640 2 pumpkins, 6 tomatos, 6.4ms\n",
      "0: 480x640 2 pumpkins, 6 tomatos, 8.2ms\n",
      "0: 480x640 2 pumpkins, 6 tomatos, 7.0ms\n",
      "0: 480x640 2 pumpkins, 6 tomatos, 7.0ms\n",
      "0: 480x640 2 pumpkins, 5 tomatos, 6.0ms\n",
      "0: 480x640 2 pumpkins, 6 tomatos, 6.0ms\n",
      "0: 480x640 2 pumpkins, 5 tomatos, 6.0ms\n",
      "0: 480x640 2 pumpkins, 6 tomatos, 7.0ms\n",
      "0: 480x640 2 pumpkins, 5 tomatos, 6.0ms\n",
      "0: 480x640 1 pumpkin, 6 tomatos, 6.0ms\n",
      "0: 480x640 1 pumpkin, 6 tomatos, 8.0ms\n",
      "0: 480x640 1 pumpkin, 6 tomatos, 6.0ms\n",
      "0: 480x640 7 tomatos, 8.0ms\n",
      "0: 480x640 3 tomatos, 7.0ms\n",
      "0: 480x640 3 tomatos, 5.9ms\n",
      "0: 480x640 1 pumpkin, 5 tomatos, 6.0ms\n",
      "0: 480x640 2 pumpkins, 7 tomatos, 6.0ms\n",
      "0: 480x640 1 pumpkin, 6 tomatos, 7.0ms\n",
      "0: 480x640 1 pumpkin, 6 tomatos, 7.0ms\n",
      "0: 480x640 1 carrot, 7 tomatos, 6.0ms\n",
      "0: 480x640 2 pumpkins, 5 tomatos, 6.7ms\n",
      "0: 480x640 2 pumpkins, 5 tomatos, 6.0ms\n",
      "0: 480x640 1 garlic, 2 pumpkins, 4 tomatos, 7.5ms\n",
      "0: 480x640 2 pumpkins, 5 tomatos, 5.7ms\n",
      "0: 480x640 2 pumpkins, 5 tomatos, 6.0ms\n",
      "0: 480x640 2 pumpkins, 4 tomatos, 6.0ms\n",
      "0: 480x640 2 pumpkins, 4 tomatos, 7.0ms\n",
      "0: 480x640 2 pumpkins, 4 tomatos, 6.0ms\n",
      "0: 480x640 2 pumpkins, 4 tomatos, 7.0ms\n",
      "0: 480x640 2 pumpkins, 4 tomatos, 7.0ms\n",
      "0: 480x640 2 pumpkins, 5 tomatos, 6.1ms\n",
      "0: 480x640 2 pumpkins, 5 tomatos, 6.0ms\n",
      "0: 480x640 2 pumpkins, 5 tomatos, 6.0ms\n",
      "0: 480x640 2 pumpkins, 4 tomatos, 7.0ms\n",
      "0: 480x640 2 pumpkins, 4 tomatos, 7.0ms\n",
      "0: 480x640 2 pumpkins, 4 tomatos, 6.0ms\n",
      "0: 480x640 2 pumpkins, 4 tomatos, 6.0ms\n",
      "0: 480x640 2 pumpkins, 4 tomatos, 7.0ms\n",
      "0: 480x640 2 pumpkins, 3 tomatos, 6.0ms\n",
      "0: 480x640 1 garlic, 2 pumpkins, 5 tomatos, 6.0ms\n",
      "0: 480x640 1 garlic, 2 pumpkins, 4 tomatos, 7.0ms\n",
      "0: 480x640 2 pumpkins, 3 tomatos, 6.0ms\n",
      "0: 480x640 2 pumpkins, 5 tomatos, 9.0ms\n",
      "0: 480x640 2 pumpkins, 5 tomatos, 7.0ms\n",
      "0: 480x640 2 pumpkins, 5 tomatos, 8.0ms\n",
      "0: 480x640 2 pumpkins, 6 tomatos, 7.0ms\n",
      "0: 480x640 1 garlic, 2 pumpkins, 6 tomatos, 6.0ms\n",
      "0: 480x640 2 pumpkins, 6 tomatos, 8.0ms\n",
      "0: 480x640 2 pumpkins, 5 tomatos, 7.0ms\n",
      "0: 480x640 2 pumpkins, 6 tomatos, 7.0ms\n",
      "0: 480x640 1 garlic, 2 pumpkins, 5 tomatos, 7.0ms\n",
      "0: 480x640 2 pumpkins, 6 tomatos, 6.0ms\n",
      "0: 480x640 2 pumpkins, 4 tomatos, 6.0ms\n",
      "0: 480x640 2 pumpkins, 6 tomatos, 6.0ms\n",
      "0: 480x640 2 pumpkins, 5 tomatos, 6.0ms\n",
      "0: 480x640 2 pumpkins, 5 tomatos, 7.2ms\n",
      "0: 480x640 2 pumpkins, 6 tomatos, 6.7ms\n",
      "0: 480x640 2 pumpkins, 5 tomatos, 7.3ms\n",
      "0: 480x640 2 pumpkins, 6 tomatos, 6.0ms\n",
      "0: 480x640 2 pumpkins, 6 tomatos, 6.0ms\n",
      "0: 480x640 2 pumpkins, 6 tomatos, 7.7ms\n",
      "0: 480x640 2 pumpkins, 6 tomatos, 5.7ms\n",
      "0: 480x640 2 pumpkins, 6 tomatos, 7.0ms\n",
      "0: 480x640 2 pumpkins, 6 tomatos, 6.2ms\n",
      "0: 480x640 2 pumpkins, 6 tomatos, 6.0ms\n",
      "0: 480x640 1 garlic, 2 pumpkins, 5 tomatos, 5.6ms\n",
      "0: 480x640 1 garlic, 2 pumpkins, 5 tomatos, 8.0ms\n",
      "0: 480x640 1 garlic, 1 pumpkin, 4 tomatos, 6.0ms\n",
      "0: 480x640 1 carrot, 7 tomatos, 6.5ms\n",
      "0: 480x640 2 pumpkins, 8 tomatos, 6.6ms\n",
      "0: 480x640 2 pumpkins, 7 tomatos, 6.0ms\n",
      "0: 480x640 1 carrot, 8 tomatos, 7.0ms\n",
      "0: 480x640 2 pumpkins, 7 tomatos, 7.0ms\n",
      "0: 480x640 1 pumpkin, 7 tomatos, 6.0ms\n",
      "0: 480x640 6 tomatos, 6.0ms\n",
      "0: 480x640 2 pumpkins, 7 tomatos, 6.6ms\n",
      "0: 480x640 1 carrot, 7 tomatos, 9.0ms\n",
      "0: 480x640 1 carrot, 1 pumpkin, 6 tomatos, 6.0ms\n",
      "0: 480x640 1 carrot, 1 pumpkin, 6 tomatos, 6.6ms\n",
      "0: 480x640 1 carrot, 6 tomatos, 7.0ms\n",
      "0: 480x640 1 carrot, 6 tomatos, 6.7ms\n",
      "0: 480x640 1 carrot, 6 tomatos, 6.0ms\n",
      "0: 480x640 6 tomatos, 6.0ms\n",
      "0: 480x640 1 carrot, 7 tomatos, 8.0ms\n",
      "0: 480x640 1 carrot, 5 tomatos, 7.0ms\n",
      "0: 480x640 1 carrot, 1 pumpkin, 6 tomatos, 6.0ms\n",
      "0: 480x640 1 carrot, 4 tomatos, 7.0ms\n",
      "0: 480x640 4 tomatos, 6.0ms\n",
      "0: 480x640 1 carrot, 1 garlic, 1 pumpkin, 4 tomatos, 6.0ms\n",
      "0: 480x640 1 carrot, 1 pumpkin, 4 tomatos, 6.0ms\n",
      "0: 480x640 5 tomatos, 6.0ms\n",
      "0: 480x640 5 tomatos, 5.0ms\n",
      "0: 480x640 1 carrot, 1 pumpkin, 5 tomatos, 7.0ms\n",
      "0: 480x640 1 pumpkin, 5 tomatos, 7.0ms\n",
      "0: 480x640 1 carrot, 1 pumpkin, 5 tomatos, 6.0ms\n",
      "0: 480x640 2 pumpkins, 7 tomatos, 6.5ms\n",
      "0: 480x640 2 pumpkins, 6 tomatos, 6.0ms\n",
      "0: 480x640 2 pumpkins, 6 tomatos, 6.5ms\n",
      "0: 480x640 1 pumpkin, 7 tomatos, 6.0ms\n",
      "0: 480x640 1 pumpkin, 7 tomatos, 6.0ms\n",
      "0: 480x640 1 pumpkin, 7 tomatos, 6.0ms\n",
      "0: 480x640 1 pumpkin, 6 tomatos, 6.0ms\n",
      "0: 480x640 2 pumpkins, 6 tomatos, 6.0ms\n",
      "0: 480x640 2 pumpkins, 7 tomatos, 7.0ms\n",
      "0: 480x640 2 pumpkins, 7 tomatos, 6.3ms\n",
      "0: 480x640 1 pumpkin, 6 tomatos, 6.0ms\n",
      "0: 480x640 1 pumpkin, 7 tomatos, 7.0ms\n",
      "0: 480x640 2 pumpkins, 7 tomatos, 7.0ms\n",
      "0: 480x640 2 pumpkins, 7 tomatos, 7.0ms\n",
      "0: 480x640 1 pumpkin, 6 tomatos, 6.0ms\n",
      "0: 480x640 2 pumpkins, 6 tomatos, 6.0ms\n",
      "0: 480x640 1 pumpkin, 6 tomatos, 6.0ms\n",
      "0: 480x640 1 pumpkin, 6 tomatos, 8.5ms\n",
      "0: 480x640 2 pumpkins, 7 tomatos, 7.0ms\n",
      "0: 480x640 2 pumpkins, 7 tomatos, 7.0ms\n",
      "0: 480x640 2 pumpkins, 7 tomatos, 6.0ms\n",
      "0: 480x640 1 pumpkin, 8 tomatos, 7.0ms\n",
      "0: 480x640 2 pumpkins, 7 tomatos, 6.0ms\n",
      "0: 480x640 2 pumpkins, 7 tomatos, 6.0ms\n",
      "0: 480x640 2 pumpkins, 7 tomatos, 6.0ms\n",
      "0: 480x640 2 pumpkins, 7 tomatos, 7.0ms\n",
      "0: 480x640 2 pumpkins, 6 tomatos, 6.7ms\n",
      "0: 480x640 2 pumpkins, 6 tomatos, 8.0ms\n",
      "0: 480x640 2 pumpkins, 5 tomatos, 7.0ms\n",
      "0: 480x640 2 pumpkins, 5 tomatos, 6.0ms\n",
      "0: 480x640 2 pumpkins, 5 tomatos, 6.0ms\n",
      "0: 480x640 1 pumpkin, 4 tomatos, 6.0ms\n",
      "0: 480x640 1 pumpkin, 1 tomato, 6.0ms\n",
      "0: 480x640 2 pumpkins, 6.0ms\n",
      "0: 480x640 1 carrot, 2 pumpkins, 6.0ms\n",
      "0: 480x640 2 pumpkins, 1 tomato, 6.1ms\n",
      "0: 480x640 1 pumpkin, 1 tomato, 6.0ms\n",
      "0: 480x640 2 pumpkins, 6.0ms\n",
      "0: 480x640 2 pumpkins, 1 tomato, 6.6ms\n",
      "0: 480x640 1 pumpkin, 1 tomato, 5.6ms\n",
      "0: 480x640 1 pumpkin, 6.0ms\n",
      "0: 480x640 1 onion, 1 pumpkin, 6.0ms\n",
      "0: 480x640 (no detections), 6.7ms\n",
      "0: 480x640 (no detections), 6.0ms\n",
      "0: 480x640 1 tomato, 6.0ms\n",
      "0: 480x640 1 carrot, 1 fasol, 6.0ms\n",
      "0: 480x640 1 carrot, 1 fasol, 6.0ms\n",
      "0: 480x640 1 carrot, 6.4ms\n",
      "0: 480x640 2 carrots, 6.0ms\n",
      "0: 480x640 2 carrots, 6.0ms\n",
      "0: 480x640 2 carrots, 6.0ms\n",
      "0: 480x640 3 carrots, 6.0ms\n",
      "0: 480x640 3 carrots, 1 garlic, 7.0ms\n",
      "0: 480x640 4 carrots, 2 garlics, 6.0ms\n",
      "0: 480x640 4 carrots, 1 pumpkin, 5.6ms\n",
      "0: 480x640 3 carrots, 7.0ms\n",
      "0: 480x640 1 garlic, 2 pumpkins, 7.0ms\n",
      "0: 480x640 1 carrot, 2 pumpkins, 6.0ms\n",
      "0: 480x640 1 pumpkin, 7 tomatos, 6.0ms\n",
      "0: 480x640 2 pumpkins, 5 tomatos, 6.0ms\n",
      "0: 480x640 2 pumpkins, 6 tomatos, 7.0ms\n",
      "0: 480x640 1 carrot, 2 pumpkins, 3 tomatos, 6.0ms\n",
      "0: 480x640 2 pumpkins, 6.0ms\n",
      "0: 480x640 1 carrot, 1 pumpkin, 1 tomato, 6.0ms\n",
      "0: 480x640 1 carrot, 1 pumpkin, 2 tomatos, 7.0ms\n",
      "0: 480x640 1 carrot, 2 pumpkins, 1 tomato, 6.0ms\n",
      "0: 480x640 1 carrot, 2 pumpkins, 3 tomatos, 7.0ms\n",
      "0: 480x640 2 pumpkins, 4 tomatos, 6.0ms\n",
      "0: 480x640 1 carrot, 2 pumpkins, 2 tomatos, 6.0ms\n",
      "0: 480x640 1 pumpkin, 2 tomatos, 8.5ms\n",
      "0: 480x640 2 pumpkins, 2 tomatos, 6.0ms\n",
      "0: 480x640 2 pumpkins, 2 tomatos, 6.0ms\n",
      "0: 480x640 2 pumpkins, 1 tomato, 6.0ms\n",
      "0: 480x640 1 carrot, 1 fasol, 1 pumpkin, 1 tomato, 5.5ms\n",
      "0: 480x640 1 carrot, 2 pumpkins, 8.0ms\n",
      "0: 480x640 2 carrots, 1 pumpkin, 1 tomato, 6.0ms\n",
      "0: 480x640 2 carrots, 1 pumpkin, 6.0ms\n",
      "0: 480x640 1 carrot, 2 pumpkins, 6.0ms\n",
      "0: 480x640 2 carrots, 6.0ms\n",
      "0: 480x640 2 carrots, 1 fasol, 1 pumpkin, 6.0ms\n",
      "0: 480x640 1 carrot, 2 pumpkins, 6.0ms\n",
      "0: 480x640 2 pumpkins, 1 tomato, 6.0ms\n",
      "0: 480x640 2 pumpkins, 1 tomato, 6.0ms\n",
      "0: 480x640 1 carrot, 1 pumpkin, 6.0ms\n",
      "0: 480x640 1 pumpkin, 1 tomato, 6.0ms\n",
      "0: 480x640 1 carrot, 1 pumpkin, 1 tomato, 6.0ms\n",
      "0: 480x640 1 carrot, 7.0ms\n",
      "0: 480x640 1 pumpkin, 2 tomatos, 5.5ms\n",
      "0: 480x640 2 carrots, 1 fasol, 1 pumpkin, 2 tomatos, 7.0ms\n",
      "0: 480x640 2 carrots, 2 tomatos, 6.0ms\n",
      "0: 480x640 2 carrots, 1 fasol, 6.0ms\n",
      "0: 480x640 2 carrots, 1 tomato, 5.7ms\n",
      "0: 480x640 1 carrot, 6.0ms\n",
      "0: 480x640 2 carrots, 5.5ms\n",
      "0: 480x640 2 carrots, 6.0ms\n",
      "0: 480x640 2 carrots, 6.0ms\n",
      "0: 480x640 2 carrots, 1 tomato, 7.0ms\n",
      "0: 480x640 1 carrot, 1 tomato, 6.0ms\n",
      "0: 480x640 1 carrot, 6.0ms\n",
      "0: 480x640 1 carrot, 1 tomato, 7.0ms\n",
      "0: 480x640 (no detections), 7.0ms\n",
      "0: 480x640 1 pumpkin, 1 tomato, 6.5ms\n",
      "0: 480x640 1 fasol, 1 tomato, 5.5ms\n",
      "0: 480x640 1 fasol, 5.9ms\n",
      "0: 480x640 2 pumpkins, 1 tomato, 6.0ms\n",
      "0: 480x640 2 carrots, 2 pumpkins, 1 tomato, 7.0ms\n",
      "0: 480x640 2 carrots, 2 pumpkins, 7.0ms\n",
      "0: 480x640 2 pumpkins, 7.6ms\n",
      "0: 480x640 1 carrot, 1 pumpkin, 6.0ms\n",
      "0: 480x640 1 carrot, 1 pumpkin, 7.0ms\n",
      "0: 480x640 1 carrot, 1 pumpkin, 6.0ms\n",
      "0: 480x640 1 carrot, 1 pumpkin, 7.0ms\n",
      "0: 480x640 2 carrots, 1 pumpkin, 9.0ms\n",
      "0: 480x640 1 bell pepper, 1 garlic, 1 pumpkin, 6.0ms\n",
      "0: 480x640 2 pumpkins, 6.0ms\n",
      "0: 480x640 2 pumpkins, 1 redka, 7.0ms\n",
      "0: 480x640 1 garlic, 2 pumpkins, 6.0ms\n",
      "0: 480x640 1 garlic, 3 pumpkins, 6.0ms\n",
      "0: 480x640 2 pumpkins, 6.0ms\n",
      "0: 480x640 1 garlic, 2 pumpkins, 1 redka, 7.0ms\n",
      "0: 480x640 2 pumpkins, 1 redka, 8.0ms\n",
      "0: 480x640 2 pumpkins, 6.0ms\n",
      "0: 480x640 2 pumpkins, 1 redka, 6.0ms\n",
      "0: 480x640 2 pumpkins, 1 redka, 6.0ms\n",
      "0: 480x640 2 pumpkins, 6.0ms\n",
      "0: 480x640 2 pumpkins, 6.0ms\n",
      "0: 480x640 2 pumpkins, 7.0ms\n",
      "0: 480x640 1 carrot, 1 pumpkin, 7.0ms\n",
      "0: 480x640 1 pumpkin, 7.0ms\n",
      "0: 480x640 2 pumpkins, 6.0ms\n",
      "0: 480x640 2 pumpkins, 6.0ms\n",
      "0: 480x640 2 pumpkins, 1 redka, 6.0ms\n",
      "0: 480x640 3 pumpkins, 6.0ms\n",
      "0: 480x640 1 carrot, 2 pumpkins, 9.0ms\n",
      "0: 480x640 1 pumpkin, 7.0ms\n",
      "0: 480x640 1 pumpkin, 7.0ms\n",
      "0: 480x640 1 bell pepper, 7.0ms\n",
      "0: 480x640 1 carrot, 7.0ms\n",
      "0: 480x640 (no detections), 8.0ms\n",
      "0: 480x640 1 carrot, 6.0ms\n",
      "0: 480x640 2 carrots, 7.0ms\n",
      "0: 480x640 1 carrot, 6.0ms\n",
      "0: 480x640 1 carrot, 7.0ms\n",
      "0: 480x640 1 carrot, 9.0ms\n",
      "0: 480x640 1 carrot, 1 tomato, 6.0ms\n",
      "0: 480x640 1 carrot, 2 tomatos, 6.0ms\n",
      "0: 480x640 1 carrot, 1 tomato, 6.6ms\n",
      "0: 480x640 1 carrot, 1 tomato, 7.0ms\n",
      "0: 480x640 1 carrot, 7.0ms\n",
      "0: 480x640 1 carrot, 6.0ms\n",
      "0: 480x640 1 carrot, 6.0ms\n",
      "0: 480x640 1 carrot, 7.0ms\n",
      "0: 480x640 1 carrot, 6.0ms\n",
      "0: 480x640 1 carrot, 7.0ms\n",
      "0: 480x640 1 carrot, 7.0ms\n",
      "0: 480x640 1 carrot, 6.0ms\n",
      "0: 480x640 1 carrot, 7.0ms\n",
      "0: 480x640 1 carrot, 6.0ms\n",
      "0: 480x640 1 carrot, 2 tomatos, 6.0ms\n",
      "0: 480x640 1 carrot, 2 tomatos, 7.0ms\n",
      "0: 480x640 1 carrot, 2 tomatos, 6.0ms\n",
      "0: 480x640 1 carrot, 2 tomatos, 6.0ms\n",
      "0: 480x640 1 carrot, 2 tomatos, 6.0ms\n",
      "0: 480x640 2 tomatos, 6.0ms\n",
      "0: 480x640 1 carrot, 2 tomatos, 5.0ms\n",
      "0: 480x640 1 tomato, 6.0ms\n",
      "0: 480x640 1 carrot, 2 tomatos, 6.0ms\n",
      "0: 480x640 1 carrot, 1 tomato, 6.0ms\n",
      "0: 480x640 1 carrot, 2 tomatos, 7.0ms\n",
      "0: 480x640 1 carrot, 1 tomato, 7.5ms\n",
      "0: 480x640 1 carrot, 1 tomato, 6.0ms\n",
      "0: 480x640 1 carrot, 1 tomato, 7.0ms\n",
      "0: 480x640 1 carrot, 8.0ms\n",
      "0: 480x640 1 carrot, 1 pumpkin, 6.0ms\n",
      "0: 480x640 1 carrot, 1 pumpkin, 7.0ms\n",
      "0: 480x640 1 carrot, 7.5ms\n",
      "0: 480x640 1 carrot, 1 pumpkin, 7.0ms\n",
      "0: 480x640 1 carrot, 6.0ms\n",
      "0: 480x640 1 carrot, 7.0ms\n",
      "0: 480x640 1 carrot, 1 pumpkin, 6.7ms\n",
      "0: 480x640 1 carrot, 1 pumpkin, 6.0ms\n",
      "0: 480x640 1 carrot, 1 pumpkin, 8.0ms\n",
      "0: 480x640 1 carrot, 1 pumpkin, 7.0ms\n",
      "0: 480x640 1 carrot, 1 pumpkin, 6.0ms\n",
      "0: 480x640 1 carrot, 2 pumpkins, 1 redka, 6.0ms\n",
      "0: 480x640 1 carrot, 2 pumpkins, 7.0ms\n",
      "0: 480x640 1 carrot, 7.0ms\n",
      "0: 480x640 1 carrot, 1 pumpkin, 10.0ms\n",
      "0: 480x640 1 carrot, 1 pumpkin, 8.0ms\n",
      "0: 480x640 1 carrot, 1 pumpkin, 6.0ms\n",
      "0: 480x640 1 carrot, 2 pumpkins, 7.0ms\n",
      "0: 480x640 1 carrot, 2 pumpkins, 7.0ms\n",
      "0: 480x640 1 carrot, 2 pumpkins, 7.0ms\n",
      "0: 480x640 1 carrot, 2 pumpkins, 7.0ms\n",
      "0: 480x640 1 carrot, 2 pumpkins, 1 redka, 6.0ms\n",
      "0: 480x640 1 carrot, 2 pumpkins, 6.0ms\n",
      "0: 480x640 1 carrot, 2 pumpkins, 6.0ms\n",
      "0: 480x640 1 carrot, 2 pumpkins, 6.0ms\n",
      "0: 480x640 1 carrot, 2 pumpkins, 6.0ms\n",
      "0: 480x640 1 carrot, 2 pumpkins, 6.0ms\n",
      "0: 480x640 1 carrot, 1 pumpkin, 6.0ms\n",
      "0: 480x640 2 carrots, 2 pumpkins, 7.0ms\n",
      "0: 480x640 1 carrot, 2 pumpkins, 7.0ms\n",
      "0: 480x640 1 carrot, 2 pumpkins, 6.0ms\n",
      "0: 480x640 1 carrot, 1 pumpkin, 7.0ms\n",
      "0: 480x640 1 carrot, 2 pumpkins, 6.0ms\n",
      "0: 480x640 1 carrot, 2 pumpkins, 8.0ms\n",
      "0: 480x640 1 carrot, 2 pumpkins, 6.0ms\n",
      "0: 480x640 2 carrots, 7.0ms\n",
      "0: 480x640 1 carrot, 2 pumpkins, 7.0ms\n"
     ]
    },
    {
     "name": "stderr",
     "output_type": "stream",
     "text": [
      "\n",
      "KeyboardInterrupt\n",
      "\n"
     ]
    }
   ],
   "source": [
    "results = model.predict(source=\"0\") #use webcam"
   ]
  },
  {
   "cell_type": "code",
   "execution_count": null,
   "id": "233e61cf-846e-4d96-9b02-7430800ea789",
   "metadata": {},
   "outputs": [],
   "source": []
  }
 ],
 "metadata": {
  "kernelspec": {
   "display_name": "Python 3 (ipykernel)",
   "language": "python",
   "name": "python3"
  },
  "language_info": {
   "codemirror_mode": {
    "name": "ipython",
    "version": 3
   },
   "file_extension": ".py",
   "mimetype": "text/x-python",
   "name": "python",
   "nbconvert_exporter": "python",
   "pygments_lexer": "ipython3",
   "version": "3.11.7"
  }
 },
 "nbformat": 4,
 "nbformat_minor": 5
}
